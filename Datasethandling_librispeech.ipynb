{
  "nbformat": 4,
  "nbformat_minor": 0,
  "metadata": {
    "colab": {
      "name": "Datasethandling_librispeech.ipynb",
      "provenance": [],
      "authorship_tag": "ABX9TyMbirlpOt2P1Tf0OX65uOjJ",
      "include_colab_link": true
    },
    "kernelspec": {
      "display_name": "Python 3",
      "name": "python3"
    }
  },
  "cells": [
    {
      "cell_type": "markdown",
      "metadata": {
        "id": "view-in-github",
        "colab_type": "text"
      },
      "source": [
        "<a href=\"https://colab.research.google.com/github/VRB01/capstone/blob/main/Datasethandling_librispeech.ipynb\" target=\"_parent\"><img src=\"https://colab.research.google.com/assets/colab-badge.svg\" alt=\"Open In Colab\"/></a>"
      ]
    },
    {
      "cell_type": "code",
      "metadata": {
        "id": "T6R92UcFXjEP"
      },
      "source": [
        "import IPython.display as ipd\n",
        "# % pylab inline\n",
        "import os\n",
        "import pandas as pd\n",
        "import librosa\n",
        "import glob \n",
        "import librosa.display\n",
        "import random\n",
        "\n",
        "from sklearn.preprocessing import StandardScaler\n",
        "from sklearn.model_selection import train_test_split\n",
        "\n",
        "from keras.utils.np_utils import to_categorical\n",
        "\n",
        "import numpy as np\n",
        "from keras.models import Sequential\n",
        "from keras.layers import Dense, Dropout, Activation, Flatten\n",
        "from keras.layers import Convolution2D, MaxPooling2D\n",
        "from keras.optimizers import Adam\n",
        "from keras.utils import np_utils\n",
        "from sklearn import metrics \n",
        "\n",
        "from sklearn.datasets import make_regression\n",
        "from sklearn.preprocessing import StandardScaler\n",
        "from sklearn import metrics\n",
        "from sklearn.model_selection import train_test_split, GridSearchCV\n",
        "\n",
        "from tensorflow.keras.models import Sequential\n",
        "from tensorflow.keras.layers import Dense, Dropout \n",
        "from tensorflow.keras.wrappers.scikit_learn import KerasRegressor\n",
        "\n",
        "from keras.callbacks import EarlyStopping\n",
        "\n",
        "from keras import regularizers\n",
        "\n",
        "from sklearn.preprocessing import LabelEncoder\n",
        "\n",
        "from datetime import datetime\n",
        "\n",
        "import os\n",
        "import numpy\n",
        "from keras.models import Sequential\n",
        "from keras.layers import LSTM\n",
        "from keras.datasets import imdb\n",
        "from keras.layers import Dense\n",
        "import tensorflow as tf"
      ],
      "execution_count": null,
      "outputs": []
    },
    {
      "cell_type": "code",
      "metadata": {
        "id": "0y4UK1nnYHiD"
      },
      "source": [
        "from google.colab import drive\n",
        "drive.mount('/content/gdrive')"
      ],
      "execution_count": null,
      "outputs": []
    },
    {
      "cell_type": "code",
      "metadata": {
        "id": "pLueTlNhb8c9"
      },
      "source": [
        "Directory = 'gdrive/MyDrive/Capstone Data/LibriSpeech/train-clean-100'\n",
        "Dataset = os.listdir(Directory)"
      ],
      "execution_count": null,
      "outputs": []
    },
    {
      "cell_type": "code",
      "metadata": {
        "id": "OEaJAUyvcTCd"
      },
      "source": [
        "audio_list = []\n",
        "speakers = []\n",
        "for speaker in Dataset:\n",
        "  chapters = os.listdir(Directory+'/'+speaker)\n",
        "  for chapter in chapters:\n",
        "    audios = os.listdir(Directory+'/'+speaker+'/'+chapter)\n",
        "    for audio in audios:\n",
        "      if(audio.endswith('.flac')):\n",
        "        audio_list.append(Directory+'/'+speaker+'/'+chapter+'/'+audio)\n",
        "        speakers.append(audio.split('-')[0])\n",
        "\n",
        "\n"
      ],
      "execution_count": null,
      "outputs": []
    },
    {
      "cell_type": "code",
      "metadata": {
        "colab": {
          "base_uri": "https://localhost:8080/"
        },
        "id": "5O_yvYSHd8_-",
        "outputId": "28421158-606b-4af4-9ada-8edaa9013bb7"
      },
      "source": [
        "audio_list = pd.DataFrame(audio_list)\n",
        "audio_list = audio_list.rename(columns={0:'file'})\n",
        "#len(audio_list)\n",
        "len(speakers)"
      ],
      "execution_count": null,
      "outputs": [
        {
          "output_type": "execute_result",
          "data": {
            "text/plain": [
              "28549"
            ]
          },
          "metadata": {
            "tags": []
          },
          "execution_count": 9
        }
      ]
    },
    {
      "cell_type": "code",
      "metadata": {
        "colab": {
          "base_uri": "https://localhost:8080/",
          "height": 419
        },
        "id": "FiS-FxVIh_XM",
        "outputId": "dcc6baa0-0f23-4ff0-f703-9d900d8391b5"
      },
      "source": [
        "audio_list['speaker'] = speakers\n",
        "df = audio_list.sample(frac=1, random_state=42).reset_index(drop=True)\n",
        "df = df[:12000]\n",
        "df_train = df[:8000] #19984:\n",
        "df_validation = df[8000:11000] #19984:25694\n",
        "df_test = df[11000:12000] #25694:\n",
        "labels = df['speaker']\n",
        "Counter = 1\n",
        "df"
      ],
      "execution_count": null,
      "outputs": [
        {
          "output_type": "execute_result",
          "data": {
            "text/html": [
              "<div>\n",
              "<style scoped>\n",
              "    .dataframe tbody tr th:only-of-type {\n",
              "        vertical-align: middle;\n",
              "    }\n",
              "\n",
              "    .dataframe tbody tr th {\n",
              "        vertical-align: top;\n",
              "    }\n",
              "\n",
              "    .dataframe thead th {\n",
              "        text-align: right;\n",
              "    }\n",
              "</style>\n",
              "<table border=\"1\" class=\"dataframe\">\n",
              "  <thead>\n",
              "    <tr style=\"text-align: right;\">\n",
              "      <th></th>\n",
              "      <th>file</th>\n",
              "      <th>speaker</th>\n",
              "    </tr>\n",
              "  </thead>\n",
              "  <tbody>\n",
              "    <tr>\n",
              "      <th>0</th>\n",
              "      <td>gdrive/MyDrive/Capstone Data/LibriSpeech/train...</td>\n",
              "      <td>6836</td>\n",
              "    </tr>\n",
              "    <tr>\n",
              "      <th>1</th>\n",
              "      <td>gdrive/MyDrive/Capstone Data/LibriSpeech/train...</td>\n",
              "      <td>3168</td>\n",
              "    </tr>\n",
              "    <tr>\n",
              "      <th>2</th>\n",
              "      <td>gdrive/MyDrive/Capstone Data/LibriSpeech/train...</td>\n",
              "      <td>4830</td>\n",
              "    </tr>\n",
              "    <tr>\n",
              "      <th>3</th>\n",
              "      <td>gdrive/MyDrive/Capstone Data/LibriSpeech/train...</td>\n",
              "      <td>8226</td>\n",
              "    </tr>\n",
              "    <tr>\n",
              "      <th>4</th>\n",
              "      <td>gdrive/MyDrive/Capstone Data/LibriSpeech/train...</td>\n",
              "      <td>909</td>\n",
              "    </tr>\n",
              "    <tr>\n",
              "      <th>...</th>\n",
              "      <td>...</td>\n",
              "      <td>...</td>\n",
              "    </tr>\n",
              "    <tr>\n",
              "      <th>11995</th>\n",
              "      <td>gdrive/MyDrive/Capstone Data/LibriSpeech/train...</td>\n",
              "      <td>8580</td>\n",
              "    </tr>\n",
              "    <tr>\n",
              "      <th>11996</th>\n",
              "      <td>gdrive/MyDrive/Capstone Data/LibriSpeech/train...</td>\n",
              "      <td>1040</td>\n",
              "    </tr>\n",
              "    <tr>\n",
              "      <th>11997</th>\n",
              "      <td>gdrive/MyDrive/Capstone Data/LibriSpeech/train...</td>\n",
              "      <td>2136</td>\n",
              "    </tr>\n",
              "    <tr>\n",
              "      <th>11998</th>\n",
              "      <td>gdrive/MyDrive/Capstone Data/LibriSpeech/train...</td>\n",
              "      <td>7794</td>\n",
              "    </tr>\n",
              "    <tr>\n",
              "      <th>11999</th>\n",
              "      <td>gdrive/MyDrive/Capstone Data/LibriSpeech/train...</td>\n",
              "      <td>8838</td>\n",
              "    </tr>\n",
              "  </tbody>\n",
              "</table>\n",
              "<p>12000 rows × 2 columns</p>\n",
              "</div>"
            ],
            "text/plain": [
              "                                                    file speaker\n",
              "0      gdrive/MyDrive/Capstone Data/LibriSpeech/train...    6836\n",
              "1      gdrive/MyDrive/Capstone Data/LibriSpeech/train...    3168\n",
              "2      gdrive/MyDrive/Capstone Data/LibriSpeech/train...    4830\n",
              "3      gdrive/MyDrive/Capstone Data/LibriSpeech/train...    8226\n",
              "4      gdrive/MyDrive/Capstone Data/LibriSpeech/train...     909\n",
              "...                                                  ...     ...\n",
              "11995  gdrive/MyDrive/Capstone Data/LibriSpeech/train...    8580\n",
              "11996  gdrive/MyDrive/Capstone Data/LibriSpeech/train...    1040\n",
              "11997  gdrive/MyDrive/Capstone Data/LibriSpeech/train...    2136\n",
              "11998  gdrive/MyDrive/Capstone Data/LibriSpeech/train...    7794\n",
              "11999  gdrive/MyDrive/Capstone Data/LibriSpeech/train...    8838\n",
              "\n",
              "[12000 rows x 2 columns]"
            ]
          },
          "metadata": {
            "tags": []
          },
          "execution_count": 10
        }
      ]
    },
    {
      "cell_type": "code",
      "metadata": {
        "id": "LwCqNv7uiyyW"
      },
      "source": [
        "def extract_features(files):\n",
        "    \n",
        "    # Sets the name to be the path to where the file is in my computer\n",
        "    file_name = os.path.join(str(files.file))\n",
        "    global Counter\n",
        "    if(Counter%100==0):\n",
        "      print(Counter)\n",
        "    Counter+=1\n",
        "\n",
        "    # Loads the audio file as a floating point time series and assigns the default sample rate\n",
        "    # Sample rate is set to 22050 by default\n",
        "    X, sample_rate = librosa.load(file_name, res_type='kaiser_fast') \n",
        "\n",
        "    # Generate Mel-frequency cepstral coefficients (MFCCs) from a time series \n",
        "    mfccs = np.mean(librosa.feature.mfcc(y=X, sr=sample_rate, n_mfcc=40).T,axis=0)\n",
        "\n",
        "    # Generates a Short-time Fourier transform (STFT) to use in the chroma_stft\n",
        "    #stft = np.abs(librosa.stft(X))\n",
        "\n",
        "    # Computes a chromagram from a waveform or power spectrogram.\n",
        "    #chroma = np.mean(librosa.feature.chroma_stft(S=stft, sr=sample_rate).T,axis=0)\n",
        "\n",
        "    # Computes a mel-scaled spectrogram.\n",
        "    mel = np.mean(librosa.feature.melspectrogram(X, sr=sample_rate).T,axis=0)\n",
        "\n",
        "    # Computes spectral contrast\n",
        "    #contrast = np.mean(librosa.feature.spectral_contrast(S=stft, sr=sample_rate).T,axis=0)\n",
        "\n",
        "    # Computes the tonal centroid features (tonnetz)\n",
        "    #tonnetz = np.mean(librosa.feature.tonnetz(y=librosa.effects.harmonic(X),\n",
        "    #sr=sample_rate).T,axis=0)\n",
        "        \n",
        "    \n",
        "    # We add also the classes of each file as a label at the end\n",
        "    #label = files.label\n",
        "\n",
        "    return mel, mfccs"
      ],
      "execution_count": null,
      "outputs": []
    },
    {
      "cell_type": "code",
      "metadata": {
        "colab": {
          "background_save": true,
          "base_uri": "https://localhost:8080/"
        },
        "id": "Vs1WNIcsjM7y",
        "outputId": "b8b69ae7-6633-46a9-eb4f-a805f252107f"
      },
      "source": [
        "startTime = datetime.now()\n",
        "# Applying the function to the train data by accessing each row of the dataframe\n",
        "features_label = df.apply(extract_features, axis=1)\n",
        "print(datetime.now() - startTime)\n"
      ],
      "execution_count": null,
      "outputs": [
        {
          "output_type": "stream",
          "text": [
            "100\n",
            "200\n",
            "300\n",
            "400\n",
            "500\n",
            "600\n",
            "700\n",
            "800\n",
            "900\n",
            "1000\n",
            "1100\n",
            "1200\n",
            "1300\n",
            "1400\n",
            "1500\n",
            "1600\n",
            "1700\n",
            "1800\n",
            "1900\n",
            "2000\n",
            "2100\n",
            "2200\n",
            "2300\n",
            "2400\n",
            "2500\n",
            "2600\n",
            "2700\n",
            "2800\n",
            "2900\n",
            "3000\n",
            "3100\n",
            "3200\n",
            "3300\n",
            "3400\n",
            "3500\n",
            "3600\n",
            "3700\n",
            "3800\n",
            "3900\n",
            "4000\n",
            "4100\n",
            "4200\n",
            "4300\n",
            "4400\n",
            "4500\n",
            "4600\n",
            "4700\n",
            "4800\n",
            "4900\n",
            "5000\n",
            "5100\n",
            "5200\n",
            "5300\n",
            "5400\n",
            "5500\n",
            "5600\n",
            "5700\n",
            "5800\n",
            "5900\n",
            "6000\n",
            "6100\n",
            "6200\n",
            "6300\n",
            "6400\n",
            "6500\n",
            "6600\n",
            "6700\n",
            "6800\n",
            "6900\n",
            "7000\n",
            "7100\n",
            "7200\n",
            "7300\n",
            "7400\n",
            "7500\n",
            "7600\n",
            "7700\n",
            "7800\n",
            "7900\n",
            "8000\n",
            "8100\n",
            "8200\n",
            "8300\n",
            "8400\n",
            "8500\n",
            "8600\n",
            "8700\n",
            "8800\n",
            "8900\n",
            "9000\n",
            "9100\n",
            "9200\n",
            "9300\n",
            "9400\n",
            "9500\n",
            "9600\n",
            "9700\n",
            "9800\n",
            "9900\n",
            "10000\n",
            "10100\n",
            "10200\n",
            "10300\n",
            "10400\n",
            "10500\n",
            "10600\n",
            "10700\n",
            "10800\n",
            "10900\n",
            "11000\n",
            "11100\n",
            "11200\n",
            "11300\n",
            "11400\n",
            "11500\n",
            "11600\n",
            "11700\n",
            "11800\n",
            "11900\n",
            "12000\n",
            "1:11:29.762584\n"
          ],
          "name": "stdout"
        }
      ]
    },
    {
      "cell_type": "code",
      "metadata": {
        "id": "wIRmDZ-auILP"
      },
      "source": [
        "# Saving the numpy array because it takes a long time to extract the features\n",
        "np.save('features_label', features_label)\n"
      ],
      "execution_count": null,
      "outputs": []
    },
    {
      "cell_type": "code",
      "metadata": {
        "id": "ixrUgsPKyF5u"
      },
      "source": [
        "# loading the features\n",
        "features_label = np.load('features_label.npy', allow_pickle=True)"
      ],
      "execution_count": null,
      "outputs": []
    },
    {
      "cell_type": "code",
      "metadata": {
        "id": "8Ng3sIo7AaAd"
      },
      "source": [
        "# We create an empty list where we will concatenate all the features into one long feature\n",
        "# for each file to feed into our neural network \n",
        "\n",
        "features = []\n",
        "for i in range(0, len(features_label)):\n",
        "    features.append(np.concatenate((features_label[i][0], features_label[i][1]), axis=0))\n",
        "# x_train = features_label[:1100]\n",
        "# x_test = features_label[1100:]\n",
        "# y_train = labels[:1100]\n",
        "# y_test = labels[1100:]"
      ],
      "execution_count": null,
      "outputs": []
    },
    {
      "cell_type": "code",
      "metadata": {
        "colab": {
          "base_uri": "https://localhost:8080/"
        },
        "id": "UE3mlk7M7SBJ",
        "outputId": "1bb6ba67-167f-4f0e-c292-2ab1c0269e1c"
      },
      "source": [
        "# from sklearn.preprocessing import MinMaxScaler\n",
        "# scaler = MinMaxScaler(feature_range=(0, 1))\n",
        "# x_train = list(x_train)\n",
        "# x_train = np.asarray(x_train).astype('float32')\n",
        "\n",
        "# #x_train = scaler.fit_transform(x_train)\n",
        "# print(x_train.shape)\n",
        "# x_train = x_train.reshape(1100,-1,128)\n",
        "# x_test = list(x_test)\n",
        "# x_test = np.asarray(x_test).astype('float32')\n",
        "\n",
        "# #x_test = scaler.fit_transform(x_test)\n",
        "# print(x_test.shape)\n",
        "# x_test = x_test.reshape(100,-1,128)"
      ],
      "execution_count": null,
      "outputs": [
        {
          "output_type": "stream",
          "text": [
            "(1100, 128)\n",
            "(100, 128)\n"
          ],
          "name": "stdout"
        }
      ]
    },
    {
      "cell_type": "code",
      "metadata": {
        "id": "CE2Ndf5i7hyU"
      },
      "source": [
        "# y_train = np.asarray(y_train).astype('float32')\n",
        "# #y_train = scaler.fit_transform([y_train])\n",
        "# y_test = np.asarray(y_test).astype('float32')\n",
        "# #y_test = scaler.fit_transform([y_test])"
      ],
      "execution_count": null,
      "outputs": []
    },
    {
      "cell_type": "code",
      "metadata": {
        "colab": {
          "base_uri": "https://localhost:8080/"
        },
        "id": "ZtHleKL87mSQ",
        "outputId": "171a4f65-4145-4e9c-dc40-27a560d662a1"
      },
      "source": [
        "# model = Sequential()\n",
        "# model.add(LSTM(100, return_sequences=True, input_shape=(1200,128)))\n",
        "# model.add(Dense(1, activation='sigmoid'))\n",
        "# model.compile(loss='categorical_crossentropy', optimizer='adam', metrics=['accuracy'])\n",
        "# print(model)"
      ],
      "execution_count": null,
      "outputs": [
        {
          "output_type": "stream",
          "text": [
            "<tensorflow.python.keras.engine.sequential.Sequential object at 0x7fdeb23b0ef0>\n"
          ],
          "name": "stdout"
        }
      ]
    },
    {
      "cell_type": "code",
      "metadata": {
        "id": "7evXiwfS7ywX"
      },
      "source": [
        "# h = model.fit(x_train, y_train, epochs=60, batch_size=32, validation_data=(x_test,y_test))"
      ],
      "execution_count": null,
      "outputs": []
    },
    {
      "cell_type": "code",
      "metadata": {
        "id": "fhEQXpkeBDAE"
      },
      "source": [
        "# import matplotlib.pyplot as plt\n",
        "# xAxis = []\n",
        "# for i in range(1,len(h.history['loss'])+1):\n",
        "#   xAxis.append(i)\n",
        "# #norm = [(0-float(i))/sum(h.history['loss']) for i in h.history['loss']]\n",
        "# #norm1 = [(float(i)-min(h.history['loss']))/(max(h.history['loss'])-min(h.history['loss'])) for i in h.history['loss']]\n",
        "# plt.plot(xAxis,h.history['loss'])\n",
        "# plt.title('title name')\n",
        "# plt.xlabel('xAxis name')\n",
        "# plt.ylabel('yAxis name')\n",
        "# plt.show()\n",
        "# y_pred = model.predict(x_test)\n",
        "\n",
        "# #y_pred = scaler.inverse_transform(pred)\n",
        "# #y_test = scaler.inverse_transform([y_test])\n",
        "# # from sklearn.metrics import classification_report\n",
        "# print(classification_report(y_test, y_pred))"
      ],
      "execution_count": null,
      "outputs": []
    },
    {
      "cell_type": "code",
      "metadata": {
        "id": "HKzCj22YmHZq"
      },
      "source": [
        "# print(features_label)\n",
        "# train_features = np.array(features_label[:800])\n",
        "# val_features = [features_label[800:1100]]\n",
        "# test_features = [features_label[1100:]]\n",
        "# features = []\n",
        "# features.append(np.concatenate(features_label, axis=0))\n",
        "# print(features)\n",
        "# #print(train_features)"
      ],
      "execution_count": null,
      "outputs": []
    },
    {
      "cell_type": "code",
      "metadata": {
        "id": "otHq5HXmtG43",
        "colab": {
          "base_uri": "https://localhost:8080/"
        },
        "outputId": "8f1da407-6474-4a8d-ad19-f5cb449e2b01"
      },
      "source": [
        "X = np.array(features)\n",
        "y = np.array(labels)\n",
        "lb = LabelEncoder()\n",
        "y = to_categorical(lb.fit_transform(y))\n",
        "X.shape"
      ],
      "execution_count": null,
      "outputs": [
        {
          "output_type": "execute_result",
          "data": {
            "text/plain": [
              "(12000, 168)"
            ]
          },
          "metadata": {
            "tags": []
          },
          "execution_count": 18
        }
      ]
    },
    {
      "cell_type": "code",
      "metadata": {
        "id": "w2iXlLHgtmgr"
      },
      "source": [
        "X_train = X[:8000]\n",
        "y_train = y[:8000]\n",
        "\n",
        "X_val = X[8000:11000]\n",
        "y_val = y[8000:11000]\n",
        "\n",
        "X_test = X[11000:]\n",
        "y_test = y[11000:]\n"
      ],
      "execution_count": null,
      "outputs": []
    },
    {
      "cell_type": "code",
      "metadata": {
        "id": "x3AufBBi5p6O"
      },
      "source": [
        "# features_label[800:1100]"
      ],
      "execution_count": null,
      "outputs": []
    },
    {
      "cell_type": "code",
      "metadata": {
        "id": "2-pbGZbyzUN4"
      },
      "source": [
        "# X_val.shape"
      ],
      "execution_count": null,
      "outputs": []
    },
    {
      "cell_type": "code",
      "metadata": {
        "id": "uLGrRR65uI-A"
      },
      "source": [
        "ss = StandardScaler()\n",
        "X_train = ss.fit_transform(X_train)\n",
        "X_val = ss.transform(X_val)\n",
        "X_test = ss.transform(X_test)"
      ],
      "execution_count": null,
      "outputs": []
    },
    {
      "cell_type": "code",
      "metadata": {
        "id": "M6jZ-QQ1oaF5"
      },
      "source": [
        "# Build a simple dense model with early stopping with softmax for categorical classification\n",
        "# We have 115 classes \n",
        "\n",
        "model = Sequential()\n",
        "model.add(Dense(168, input_shape=(168,), activation = 'relu'))\n",
        "model.add(Dropout(0.1))\n",
        "model.add(Dense(128, activation = 'relu'))\n",
        "model.add(Dropout(0.25))  \n",
        "model.add(Dense(128, activation = 'relu'))\n",
        "model.add(Dropout(0.5))    \n",
        "model.add(Dense(251, activation = 'softmax'))\n",
        "model.compile(loss='categorical_crossentropy', metrics=['accuracy'], optimizer='adam')\n",
        "early_stop = EarlyStopping(monitor='val_loss', min_delta=0, patience=100, verbose=1, mode='auto')"
      ],
      "execution_count": null,
      "outputs": []
    },
    {
      "cell_type": "code",
      "metadata": {
        "colab": {
          "base_uri": "https://localhost:8080/"
        },
        "id": "W0AoO8q7obwJ",
        "outputId": "b991ede6-8d2b-4eb8-869a-341d9bd311d0"
      },
      "source": [
        "# fitting the model with the train data and validation with the validation data\n",
        "# we used early stop with patience 100 because we did not want to use early stop\n",
        "# I leave the early stop regularization code in case anyone wants to use it\n",
        "\n",
        "history = model.fit(X_train, y_train, batch_size=64, epochs=100, \n",
        "                    validation_data=(X_val, y_val),\n",
        "                    callbacks=[early_stop])"
      ],
      "execution_count": null,
      "outputs": [
        {
          "output_type": "stream",
          "text": [
            "Epoch 1/100\n",
            "125/125 [==============================] - 2s 7ms/step - loss: 5.3998 - accuracy: 0.0217 - val_loss: 3.8342 - val_accuracy: 0.2667\n",
            "Epoch 2/100\n",
            "125/125 [==============================] - 1s 5ms/step - loss: 3.8468 - accuracy: 0.1517 - val_loss: 2.0203 - val_accuracy: 0.6540\n",
            "Epoch 3/100\n",
            "125/125 [==============================] - 1s 5ms/step - loss: 2.6783 - accuracy: 0.3298 - val_loss: 1.2083 - val_accuracy: 0.7897\n",
            "Epoch 4/100\n",
            "125/125 [==============================] - 1s 4ms/step - loss: 1.9356 - accuracy: 0.4866 - val_loss: 0.7833 - val_accuracy: 0.8690\n",
            "Epoch 5/100\n",
            "125/125 [==============================] - 1s 5ms/step - loss: 1.5656 - accuracy: 0.5649 - val_loss: 0.5847 - val_accuracy: 0.8933\n",
            "Epoch 6/100\n",
            "125/125 [==============================] - 1s 4ms/step - loss: 1.3152 - accuracy: 0.6274 - val_loss: 0.4564 - val_accuracy: 0.9153\n",
            "Epoch 7/100\n",
            "125/125 [==============================] - 1s 5ms/step - loss: 1.0778 - accuracy: 0.6894 - val_loss: 0.3692 - val_accuracy: 0.9273\n",
            "Epoch 8/100\n",
            "125/125 [==============================] - 1s 4ms/step - loss: 1.0003 - accuracy: 0.7135 - val_loss: 0.2884 - val_accuracy: 0.9430\n",
            "Epoch 9/100\n",
            "125/125 [==============================] - 1s 4ms/step - loss: 0.8624 - accuracy: 0.7494 - val_loss: 0.2569 - val_accuracy: 0.9470\n",
            "Epoch 10/100\n",
            "125/125 [==============================] - 1s 5ms/step - loss: 0.7538 - accuracy: 0.7744 - val_loss: 0.2254 - val_accuracy: 0.9533\n",
            "Epoch 11/100\n",
            "125/125 [==============================] - 1s 4ms/step - loss: 0.6921 - accuracy: 0.7927 - val_loss: 0.1958 - val_accuracy: 0.9590\n",
            "Epoch 12/100\n",
            "125/125 [==============================] - 1s 4ms/step - loss: 0.6345 - accuracy: 0.8075 - val_loss: 0.1835 - val_accuracy: 0.9587\n",
            "Epoch 13/100\n",
            "125/125 [==============================] - 1s 4ms/step - loss: 0.5652 - accuracy: 0.8286 - val_loss: 0.1651 - val_accuracy: 0.9663\n",
            "Epoch 14/100\n",
            "125/125 [==============================] - 1s 4ms/step - loss: 0.5172 - accuracy: 0.8403 - val_loss: 0.1496 - val_accuracy: 0.9663\n",
            "Epoch 15/100\n",
            "125/125 [==============================] - 1s 4ms/step - loss: 0.5150 - accuracy: 0.8475 - val_loss: 0.1491 - val_accuracy: 0.9670\n",
            "Epoch 16/100\n",
            "125/125 [==============================] - 1s 5ms/step - loss: 0.4795 - accuracy: 0.8536 - val_loss: 0.1347 - val_accuracy: 0.9683\n",
            "Epoch 17/100\n",
            "125/125 [==============================] - 1s 4ms/step - loss: 0.4714 - accuracy: 0.8563 - val_loss: 0.1338 - val_accuracy: 0.9703\n",
            "Epoch 18/100\n",
            "125/125 [==============================] - 1s 4ms/step - loss: 0.4617 - accuracy: 0.8583 - val_loss: 0.1307 - val_accuracy: 0.9687\n",
            "Epoch 19/100\n",
            "125/125 [==============================] - 1s 5ms/step - loss: 0.3928 - accuracy: 0.8792 - val_loss: 0.1170 - val_accuracy: 0.9730\n",
            "Epoch 20/100\n",
            "125/125 [==============================] - 1s 4ms/step - loss: 0.3904 - accuracy: 0.8820 - val_loss: 0.1118 - val_accuracy: 0.9757\n",
            "Epoch 21/100\n",
            "125/125 [==============================] - 1s 5ms/step - loss: 0.3706 - accuracy: 0.8798 - val_loss: 0.1110 - val_accuracy: 0.9740\n",
            "Epoch 22/100\n",
            "125/125 [==============================] - 1s 4ms/step - loss: 0.3507 - accuracy: 0.8880 - val_loss: 0.1106 - val_accuracy: 0.9723\n",
            "Epoch 23/100\n",
            "125/125 [==============================] - 1s 5ms/step - loss: 0.3454 - accuracy: 0.8987 - val_loss: 0.1072 - val_accuracy: 0.9713\n",
            "Epoch 24/100\n",
            "125/125 [==============================] - 1s 4ms/step - loss: 0.3550 - accuracy: 0.8921 - val_loss: 0.0994 - val_accuracy: 0.9757\n",
            "Epoch 25/100\n",
            "125/125 [==============================] - 1s 5ms/step - loss: 0.3166 - accuracy: 0.8990 - val_loss: 0.0976 - val_accuracy: 0.9773\n",
            "Epoch 26/100\n",
            "125/125 [==============================] - 1s 5ms/step - loss: 0.3204 - accuracy: 0.9028 - val_loss: 0.0943 - val_accuracy: 0.9773\n",
            "Epoch 27/100\n",
            "125/125 [==============================] - 1s 4ms/step - loss: 0.2896 - accuracy: 0.9077 - val_loss: 0.0953 - val_accuracy: 0.9783\n",
            "Epoch 28/100\n",
            "125/125 [==============================] - 1s 6ms/step - loss: 0.3046 - accuracy: 0.9084 - val_loss: 0.0907 - val_accuracy: 0.9773\n",
            "Epoch 29/100\n",
            "125/125 [==============================] - 1s 4ms/step - loss: 0.3023 - accuracy: 0.9056 - val_loss: 0.0951 - val_accuracy: 0.9787\n",
            "Epoch 30/100\n",
            "125/125 [==============================] - 1s 5ms/step - loss: 0.3025 - accuracy: 0.9084 - val_loss: 0.0907 - val_accuracy: 0.9787\n",
            "Epoch 31/100\n",
            "125/125 [==============================] - 1s 5ms/step - loss: 0.2640 - accuracy: 0.9234 - val_loss: 0.0942 - val_accuracy: 0.9760\n",
            "Epoch 32/100\n",
            "125/125 [==============================] - 1s 5ms/step - loss: 0.2738 - accuracy: 0.9164 - val_loss: 0.0938 - val_accuracy: 0.9767\n",
            "Epoch 33/100\n",
            "125/125 [==============================] - 1s 5ms/step - loss: 0.2790 - accuracy: 0.9181 - val_loss: 0.0892 - val_accuracy: 0.9773\n",
            "Epoch 34/100\n",
            "125/125 [==============================] - 1s 4ms/step - loss: 0.2764 - accuracy: 0.9092 - val_loss: 0.0913 - val_accuracy: 0.9783\n",
            "Epoch 35/100\n",
            "125/125 [==============================] - 1s 5ms/step - loss: 0.2721 - accuracy: 0.9172 - val_loss: 0.0860 - val_accuracy: 0.9783\n",
            "Epoch 36/100\n",
            "125/125 [==============================] - 1s 5ms/step - loss: 0.2334 - accuracy: 0.9220 - val_loss: 0.0894 - val_accuracy: 0.9787\n",
            "Epoch 37/100\n",
            "125/125 [==============================] - 1s 5ms/step - loss: 0.2442 - accuracy: 0.9295 - val_loss: 0.0898 - val_accuracy: 0.9763\n",
            "Epoch 38/100\n",
            "125/125 [==============================] - 1s 4ms/step - loss: 0.2541 - accuracy: 0.9258 - val_loss: 0.0824 - val_accuracy: 0.9787\n",
            "Epoch 39/100\n",
            "125/125 [==============================] - 1s 5ms/step - loss: 0.2519 - accuracy: 0.9264 - val_loss: 0.0785 - val_accuracy: 0.9803\n",
            "Epoch 40/100\n",
            "125/125 [==============================] - 1s 5ms/step - loss: 0.2209 - accuracy: 0.9301 - val_loss: 0.0828 - val_accuracy: 0.9790\n",
            "Epoch 41/100\n",
            "125/125 [==============================] - 1s 5ms/step - loss: 0.2437 - accuracy: 0.9258 - val_loss: 0.0790 - val_accuracy: 0.9813\n",
            "Epoch 42/100\n",
            "125/125 [==============================] - 1s 5ms/step - loss: 0.2272 - accuracy: 0.9302 - val_loss: 0.0850 - val_accuracy: 0.9810\n",
            "Epoch 43/100\n",
            "125/125 [==============================] - 1s 5ms/step - loss: 0.2343 - accuracy: 0.9294 - val_loss: 0.0796 - val_accuracy: 0.9803\n",
            "Epoch 44/100\n",
            "125/125 [==============================] - 1s 5ms/step - loss: 0.2232 - accuracy: 0.9325 - val_loss: 0.0761 - val_accuracy: 0.9840\n",
            "Epoch 45/100\n",
            "125/125 [==============================] - 1s 6ms/step - loss: 0.2304 - accuracy: 0.9241 - val_loss: 0.0734 - val_accuracy: 0.9833\n",
            "Epoch 46/100\n",
            "125/125 [==============================] - 1s 5ms/step - loss: 0.1977 - accuracy: 0.9363 - val_loss: 0.0710 - val_accuracy: 0.9823\n",
            "Epoch 47/100\n",
            "125/125 [==============================] - 1s 5ms/step - loss: 0.2176 - accuracy: 0.9329 - val_loss: 0.0765 - val_accuracy: 0.9807\n",
            "Epoch 48/100\n",
            "125/125 [==============================] - 1s 6ms/step - loss: 0.2013 - accuracy: 0.9432 - val_loss: 0.0738 - val_accuracy: 0.9810\n",
            "Epoch 49/100\n",
            "125/125 [==============================] - 1s 5ms/step - loss: 0.2055 - accuracy: 0.9337 - val_loss: 0.0676 - val_accuracy: 0.9813\n",
            "Epoch 50/100\n",
            "125/125 [==============================] - 1s 5ms/step - loss: 0.1872 - accuracy: 0.9374 - val_loss: 0.0730 - val_accuracy: 0.9830\n",
            "Epoch 51/100\n",
            "125/125 [==============================] - 1s 6ms/step - loss: 0.1906 - accuracy: 0.9401 - val_loss: 0.0746 - val_accuracy: 0.9833\n",
            "Epoch 52/100\n",
            "125/125 [==============================] - 1s 5ms/step - loss: 0.1957 - accuracy: 0.9394 - val_loss: 0.0708 - val_accuracy: 0.9803\n",
            "Epoch 53/100\n",
            "125/125 [==============================] - 1s 4ms/step - loss: 0.2130 - accuracy: 0.9324 - val_loss: 0.0817 - val_accuracy: 0.9803\n",
            "Epoch 54/100\n",
            "125/125 [==============================] - 1s 5ms/step - loss: 0.1975 - accuracy: 0.9358 - val_loss: 0.0776 - val_accuracy: 0.9807\n",
            "Epoch 55/100\n",
            "125/125 [==============================] - 1s 5ms/step - loss: 0.2021 - accuracy: 0.9355 - val_loss: 0.0724 - val_accuracy: 0.9850\n",
            "Epoch 56/100\n",
            "125/125 [==============================] - 1s 5ms/step - loss: 0.1973 - accuracy: 0.9364 - val_loss: 0.0775 - val_accuracy: 0.9840\n",
            "Epoch 57/100\n",
            "125/125 [==============================] - 1s 4ms/step - loss: 0.1939 - accuracy: 0.9365 - val_loss: 0.0739 - val_accuracy: 0.9817\n",
            "Epoch 58/100\n",
            "125/125 [==============================] - 1s 4ms/step - loss: 0.1787 - accuracy: 0.9439 - val_loss: 0.0706 - val_accuracy: 0.9837\n",
            "Epoch 59/100\n",
            "125/125 [==============================] - 1s 5ms/step - loss: 0.1770 - accuracy: 0.9478 - val_loss: 0.0698 - val_accuracy: 0.9837\n",
            "Epoch 60/100\n",
            "125/125 [==============================] - 1s 4ms/step - loss: 0.1932 - accuracy: 0.9401 - val_loss: 0.0693 - val_accuracy: 0.9820\n",
            "Epoch 61/100\n",
            "125/125 [==============================] - 1s 6ms/step - loss: 0.1897 - accuracy: 0.9408 - val_loss: 0.0762 - val_accuracy: 0.9833\n",
            "Epoch 62/100\n",
            "125/125 [==============================] - 1s 4ms/step - loss: 0.1787 - accuracy: 0.9409 - val_loss: 0.0853 - val_accuracy: 0.9823\n",
            "Epoch 63/100\n",
            "125/125 [==============================] - 1s 4ms/step - loss: 0.1855 - accuracy: 0.9423 - val_loss: 0.0798 - val_accuracy: 0.9807\n",
            "Epoch 64/100\n",
            "125/125 [==============================] - 1s 4ms/step - loss: 0.1800 - accuracy: 0.9441 - val_loss: 0.0797 - val_accuracy: 0.9823\n",
            "Epoch 65/100\n",
            "125/125 [==============================] - 1s 5ms/step - loss: 0.1702 - accuracy: 0.9458 - val_loss: 0.0843 - val_accuracy: 0.9817\n",
            "Epoch 66/100\n",
            "125/125 [==============================] - 1s 5ms/step - loss: 0.2067 - accuracy: 0.9376 - val_loss: 0.0782 - val_accuracy: 0.9817\n",
            "Epoch 67/100\n",
            "125/125 [==============================] - 1s 5ms/step - loss: 0.1806 - accuracy: 0.9480 - val_loss: 0.0770 - val_accuracy: 0.9830\n",
            "Epoch 68/100\n",
            "125/125 [==============================] - 1s 5ms/step - loss: 0.1713 - accuracy: 0.9474 - val_loss: 0.0767 - val_accuracy: 0.9810\n",
            "Epoch 69/100\n",
            "125/125 [==============================] - 1s 5ms/step - loss: 0.1642 - accuracy: 0.9486 - val_loss: 0.0904 - val_accuracy: 0.9810\n",
            "Epoch 70/100\n",
            "125/125 [==============================] - 1s 5ms/step - loss: 0.1894 - accuracy: 0.9452 - val_loss: 0.0763 - val_accuracy: 0.9820\n",
            "Epoch 71/100\n",
            "125/125 [==============================] - 1s 5ms/step - loss: 0.1806 - accuracy: 0.9442 - val_loss: 0.0723 - val_accuracy: 0.9830\n",
            "Epoch 72/100\n",
            "125/125 [==============================] - 1s 5ms/step - loss: 0.1489 - accuracy: 0.9530 - val_loss: 0.0702 - val_accuracy: 0.9813\n",
            "Epoch 73/100\n",
            "125/125 [==============================] - 1s 5ms/step - loss: 0.1726 - accuracy: 0.9502 - val_loss: 0.0762 - val_accuracy: 0.9813\n",
            "Epoch 74/100\n",
            "125/125 [==============================] - 1s 5ms/step - loss: 0.1699 - accuracy: 0.9470 - val_loss: 0.0757 - val_accuracy: 0.9797\n",
            "Epoch 75/100\n",
            "125/125 [==============================] - 1s 5ms/step - loss: 0.1644 - accuracy: 0.9482 - val_loss: 0.0763 - val_accuracy: 0.9807\n",
            "Epoch 76/100\n",
            "125/125 [==============================] - 1s 5ms/step - loss: 0.1655 - accuracy: 0.9485 - val_loss: 0.0642 - val_accuracy: 0.9853\n",
            "Epoch 77/100\n",
            "125/125 [==============================] - 1s 5ms/step - loss: 0.1543 - accuracy: 0.9540 - val_loss: 0.0729 - val_accuracy: 0.9827\n",
            "Epoch 78/100\n",
            "125/125 [==============================] - 1s 5ms/step - loss: 0.1663 - accuracy: 0.9478 - val_loss: 0.0712 - val_accuracy: 0.9843\n",
            "Epoch 79/100\n",
            "125/125 [==============================] - 1s 5ms/step - loss: 0.1386 - accuracy: 0.9574 - val_loss: 0.0651 - val_accuracy: 0.9860\n",
            "Epoch 80/100\n",
            "125/125 [==============================] - 1s 5ms/step - loss: 0.1642 - accuracy: 0.9502 - val_loss: 0.0788 - val_accuracy: 0.9803\n",
            "Epoch 81/100\n",
            "125/125 [==============================] - 1s 5ms/step - loss: 0.1976 - accuracy: 0.9431 - val_loss: 0.0799 - val_accuracy: 0.9817\n",
            "Epoch 82/100\n",
            "125/125 [==============================] - 1s 4ms/step - loss: 0.1696 - accuracy: 0.9511 - val_loss: 0.0711 - val_accuracy: 0.9837\n",
            "Epoch 83/100\n",
            "125/125 [==============================] - 1s 5ms/step - loss: 0.1441 - accuracy: 0.9564 - val_loss: 0.0835 - val_accuracy: 0.9807\n",
            "Epoch 84/100\n",
            "125/125 [==============================] - 1s 5ms/step - loss: 0.1501 - accuracy: 0.9566 - val_loss: 0.0795 - val_accuracy: 0.9803\n",
            "Epoch 85/100\n",
            "125/125 [==============================] - 1s 5ms/step - loss: 0.1573 - accuracy: 0.9502 - val_loss: 0.0688 - val_accuracy: 0.9853\n",
            "Epoch 86/100\n",
            "125/125 [==============================] - 1s 5ms/step - loss: 0.1358 - accuracy: 0.9578 - val_loss: 0.0668 - val_accuracy: 0.9830\n",
            "Epoch 87/100\n",
            "125/125 [==============================] - 1s 5ms/step - loss: 0.1449 - accuracy: 0.9544 - val_loss: 0.0766 - val_accuracy: 0.9840\n",
            "Epoch 88/100\n",
            "125/125 [==============================] - 1s 5ms/step - loss: 0.1518 - accuracy: 0.9565 - val_loss: 0.0737 - val_accuracy: 0.9847\n",
            "Epoch 89/100\n",
            "125/125 [==============================] - 1s 5ms/step - loss: 0.1357 - accuracy: 0.9563 - val_loss: 0.0750 - val_accuracy: 0.9833\n",
            "Epoch 90/100\n",
            "125/125 [==============================] - 1s 5ms/step - loss: 0.1646 - accuracy: 0.9591 - val_loss: 0.0779 - val_accuracy: 0.9803\n",
            "Epoch 91/100\n",
            "125/125 [==============================] - 1s 5ms/step - loss: 0.1595 - accuracy: 0.9518 - val_loss: 0.0788 - val_accuracy: 0.9817\n",
            "Epoch 92/100\n",
            "125/125 [==============================] - 1s 5ms/step - loss: 0.1451 - accuracy: 0.9538 - val_loss: 0.0764 - val_accuracy: 0.9833\n",
            "Epoch 93/100\n",
            "125/125 [==============================] - 1s 5ms/step - loss: 0.1412 - accuracy: 0.9586 - val_loss: 0.0709 - val_accuracy: 0.9837\n",
            "Epoch 94/100\n",
            "125/125 [==============================] - 1s 6ms/step - loss: 0.1439 - accuracy: 0.9580 - val_loss: 0.0779 - val_accuracy: 0.9820\n",
            "Epoch 95/100\n",
            "125/125 [==============================] - 1s 5ms/step - loss: 0.1299 - accuracy: 0.9587 - val_loss: 0.0780 - val_accuracy: 0.9823\n",
            "Epoch 96/100\n",
            "125/125 [==============================] - 1s 5ms/step - loss: 0.1433 - accuracy: 0.9546 - val_loss: 0.0786 - val_accuracy: 0.9827\n",
            "Epoch 97/100\n",
            "125/125 [==============================] - 1s 5ms/step - loss: 0.1409 - accuracy: 0.9564 - val_loss: 0.0739 - val_accuracy: 0.9843\n",
            "Epoch 98/100\n",
            "125/125 [==============================] - 1s 5ms/step - loss: 0.1292 - accuracy: 0.9619 - val_loss: 0.0802 - val_accuracy: 0.9820\n",
            "Epoch 99/100\n",
            "125/125 [==============================] - 1s 5ms/step - loss: 0.1258 - accuracy: 0.9605 - val_loss: 0.0688 - val_accuracy: 0.9850\n",
            "Epoch 100/100\n",
            "125/125 [==============================] - 1s 5ms/step - loss: 0.1584 - accuracy: 0.9570 - val_loss: 0.0789 - val_accuracy: 0.9797\n"
          ],
          "name": "stdout"
        }
      ]
    },
    {
      "cell_type": "code",
      "metadata": {
        "colab": {
          "base_uri": "https://localhost:8080/",
          "height": 530
        },
        "id": "k-iW_Fnmoy5F",
        "outputId": "5317c401-ff26-46d4-e13c-496d639c6b67"
      },
      "source": [
        "# Check out our train accuracy and validation accuracy over epochs.\n",
        "train_accuracy = history.history['accuracy']\n",
        "val_accuracy = history.history['val_accuracy']\n",
        "import matplotlib.pyplot as plt\n",
        "# Set figure size.\n",
        "plt.figure(figsize=(12, 8))\n",
        "\n",
        "# Generate line plot of training, testing loss over epochs.\n",
        "plt.plot(train_accuracy, label='Training Accuracy', color='#185fad')\n",
        "plt.plot(val_accuracy, label='Validation Accuracy', color='orange')\n",
        "\n",
        "# Set title\n",
        "plt.title('Training and Validation Accuracy by Epoch', fontsize = 25)\n",
        "plt.xlabel('Epoch', fontsize = 18)\n",
        "plt.ylabel('Categorical Crossentropy', fontsize = 18)\n",
        "plt.xticks(range(0,100,5), range(0,100,5))\n",
        "\n",
        "plt.legend(fontsize = 18);"
      ],
      "execution_count": null,
      "outputs": [
        {
          "output_type": "display_data",
          "data": {
            "image/png": "[encoded data removed]",
            "text/plain": [
              "<Figure size 864x576 with 1 Axes>"
            ]
          },
          "metadata": {
            "tags": [],
            "needs_background": "light"
          }
        }
      ]
    },
    {
      "cell_type": "code",
      "metadata": {
        "colab": {
          "base_uri": "https://localhost:8080/",
          "height": 575
        },
        "id": "ucmk6_gCBAiQ",
        "outputId": "b6a943a5-3f41-48bb-bafe-e0974e924a0f"
      },
      "source": [
        "# We get our predictions from the test data\n",
        "preds = model.predict_classes(X_test)\n",
        "# We transform back our predictions to the speakers ids\n",
        "preds = lb.inverse_transform(preds)\n",
        "# We slice our dataframe to our test dataframe\n",
        "df_test = df[11000:]\n",
        "# We create a new column called preds and set it equal to our predictions\n",
        "df_test['preds'] = preds\n",
        "# Checking how our test dataframe looks like now with our predictions\n",
        "df_test\n"
      ],
      "execution_count": null,
      "outputs": [
        {
          "output_type": "stream",
          "text": [
            "/usr/local/lib/python3.6/dist-packages/tensorflow/python/keras/engine/sequential.py:450: UserWarning: `model.predict_classes()` is deprecated and will be removed after 2021-01-01. Please use instead:* `np.argmax(model.predict(x), axis=-1)`,   if your model does multi-class classification   (e.g. if it uses a `softmax` last-layer activation).* `(model.predict(x) > 0.5).astype(\"int32\")`,   if your model does binary classification   (e.g. if it uses a `sigmoid` last-layer activation).\n",
            "  warnings.warn('`model.predict_classes()` is deprecated and '\n",
            "/usr/local/lib/python3.6/dist-packages/ipykernel_launcher.py:8: SettingWithCopyWarning: \n",
            "A value is trying to be set on a copy of a slice from a DataFrame.\n",
            "Try using .loc[row_indexer,col_indexer] = value instead\n",
            "\n",
            "See the caveats in the documentation: https://pandas.pydata.org/pandas-docs/stable/user_guide/indexing.html#returning-a-view-versus-a-copy\n",
            "  \n"
          ],
          "name": "stderr"
        },
        {
          "output_type": "execute_result",
          "data": {
            "text/html": [
              "<div>\n",
              "<style scoped>\n",
              "    .dataframe tbody tr th:only-of-type {\n",
              "        vertical-align: middle;\n",
              "    }\n",
              "\n",
              "    .dataframe tbody tr th {\n",
              "        vertical-align: top;\n",
              "    }\n",
              "\n",
              "    .dataframe thead th {\n",
              "        text-align: right;\n",
              "    }\n",
              "</style>\n",
              "<table border=\"1\" class=\"dataframe\">\n",
              "  <thead>\n",
              "    <tr style=\"text-align: right;\">\n",
              "      <th></th>\n",
              "      <th>file</th>\n",
              "      <th>speaker</th>\n",
              "      <th>preds</th>\n",
              "    </tr>\n",
              "  </thead>\n",
              "  <tbody>\n",
              "    <tr>\n",
              "      <th>11000</th>\n",
              "      <td>gdrive/MyDrive/Capstone Data/LibriSpeech/train...</td>\n",
              "      <td>5789</td>\n",
              "      <td>5789</td>\n",
              "    </tr>\n",
              "    <tr>\n",
              "      <th>11001</th>\n",
              "      <td>gdrive/MyDrive/Capstone Data/LibriSpeech/train...</td>\n",
              "      <td>8629</td>\n",
              "      <td>201</td>\n",
              "    </tr>\n",
              "    <tr>\n",
              "      <th>11002</th>\n",
              "      <td>gdrive/MyDrive/Capstone Data/LibriSpeech/train...</td>\n",
              "      <td>196</td>\n",
              "      <td>196</td>\n",
              "    </tr>\n",
              "    <tr>\n",
              "      <th>11003</th>\n",
              "      <td>gdrive/MyDrive/Capstone Data/LibriSpeech/train...</td>\n",
              "      <td>2289</td>\n",
              "      <td>2289</td>\n",
              "    </tr>\n",
              "    <tr>\n",
              "      <th>11004</th>\n",
              "      <td>gdrive/MyDrive/Capstone Data/LibriSpeech/train...</td>\n",
              "      <td>8609</td>\n",
              "      <td>8609</td>\n",
              "    </tr>\n",
              "    <tr>\n",
              "      <th>...</th>\n",
              "      <td>...</td>\n",
              "      <td>...</td>\n",
              "      <td>...</td>\n",
              "    </tr>\n",
              "    <tr>\n",
              "      <th>11995</th>\n",
              "      <td>gdrive/MyDrive/Capstone Data/LibriSpeech/train...</td>\n",
              "      <td>8580</td>\n",
              "      <td>8580</td>\n",
              "    </tr>\n",
              "    <tr>\n",
              "      <th>11996</th>\n",
              "      <td>gdrive/MyDrive/Capstone Data/LibriSpeech/train...</td>\n",
              "      <td>1040</td>\n",
              "      <td>1040</td>\n",
              "    </tr>\n",
              "    <tr>\n",
              "      <th>11997</th>\n",
              "      <td>gdrive/MyDrive/Capstone Data/LibriSpeech/train...</td>\n",
              "      <td>2136</td>\n",
              "      <td>2136</td>\n",
              "    </tr>\n",
              "    <tr>\n",
              "      <th>11998</th>\n",
              "      <td>gdrive/MyDrive/Capstone Data/LibriSpeech/train...</td>\n",
              "      <td>7794</td>\n",
              "      <td>7794</td>\n",
              "    </tr>\n",
              "    <tr>\n",
              "      <th>11999</th>\n",
              "      <td>gdrive/MyDrive/Capstone Data/LibriSpeech/train...</td>\n",
              "      <td>8838</td>\n",
              "      <td>8838</td>\n",
              "    </tr>\n",
              "  </tbody>\n",
              "</table>\n",
              "<p>1000 rows × 3 columns</p>\n",
              "</div>"
            ],
            "text/plain": [
              "                                                    file speaker preds\n",
              "11000  gdrive/MyDrive/Capstone Data/LibriSpeech/train...    5789  5789\n",
              "11001  gdrive/MyDrive/Capstone Data/LibriSpeech/train...    8629   201\n",
              "11002  gdrive/MyDrive/Capstone Data/LibriSpeech/train...     196   196\n",
              "11003  gdrive/MyDrive/Capstone Data/LibriSpeech/train...    2289  2289\n",
              "11004  gdrive/MyDrive/Capstone Data/LibriSpeech/train...    8609  8609\n",
              "...                                                  ...     ...   ...\n",
              "11995  gdrive/MyDrive/Capstone Data/LibriSpeech/train...    8580  8580\n",
              "11996  gdrive/MyDrive/Capstone Data/LibriSpeech/train...    1040  1040\n",
              "11997  gdrive/MyDrive/Capstone Data/LibriSpeech/train...    2136  2136\n",
              "11998  gdrive/MyDrive/Capstone Data/LibriSpeech/train...    7794  7794\n",
              "11999  gdrive/MyDrive/Capstone Data/LibriSpeech/train...    8838  8838\n",
              "\n",
              "[1000 rows x 3 columns]"
            ]
          },
          "metadata": {
            "tags": []
          },
          "execution_count": 25
        }
      ]
    },
    {
      "cell_type": "code",
      "metadata": {
        "colab": {
          "base_uri": "https://localhost:8080/",
          "height": 607
        },
        "id": "wr5WMkkgJZiR",
        "outputId": "e9b8bbf9-5415-4e03-938f-8ecf5d985293"
      },
      "source": [
        "# Checking how many speakers we got wrong\n",
        "df_test[df_test['speaker'] != df_test['preds']]\n"
      ],
      "execution_count": null,
      "outputs": [
        {
          "output_type": "execute_result",
          "data": {
            "text/html": [
              "<div>\n",
              "<style scoped>\n",
              "    .dataframe tbody tr th:only-of-type {\n",
              "        vertical-align: middle;\n",
              "    }\n",
              "\n",
              "    .dataframe tbody tr th {\n",
              "        vertical-align: top;\n",
              "    }\n",
              "\n",
              "    .dataframe thead th {\n",
              "        text-align: right;\n",
              "    }\n",
              "</style>\n",
              "<table border=\"1\" class=\"dataframe\">\n",
              "  <thead>\n",
              "    <tr style=\"text-align: right;\">\n",
              "      <th></th>\n",
              "      <th>file</th>\n",
              "      <th>speaker</th>\n",
              "      <th>preds</th>\n",
              "    </tr>\n",
              "  </thead>\n",
              "  <tbody>\n",
              "    <tr>\n",
              "      <th>11001</th>\n",
              "      <td>gdrive/MyDrive/Capstone Data/LibriSpeech/train...</td>\n",
              "      <td>8629</td>\n",
              "      <td>201</td>\n",
              "    </tr>\n",
              "    <tr>\n",
              "      <th>11028</th>\n",
              "      <td>gdrive/MyDrive/Capstone Data/LibriSpeech/train...</td>\n",
              "      <td>2893</td>\n",
              "      <td>8838</td>\n",
              "    </tr>\n",
              "    <tr>\n",
              "      <th>11073</th>\n",
              "      <td>gdrive/MyDrive/Capstone Data/LibriSpeech/train...</td>\n",
              "      <td>1502</td>\n",
              "      <td>7800</td>\n",
              "    </tr>\n",
              "    <tr>\n",
              "      <th>11142</th>\n",
              "      <td>gdrive/MyDrive/Capstone Data/LibriSpeech/train...</td>\n",
              "      <td>3242</td>\n",
              "      <td>6454</td>\n",
              "    </tr>\n",
              "    <tr>\n",
              "      <th>11166</th>\n",
              "      <td>gdrive/MyDrive/Capstone Data/LibriSpeech/train...</td>\n",
              "      <td>8324</td>\n",
              "      <td>7278</td>\n",
              "    </tr>\n",
              "    <tr>\n",
              "      <th>11378</th>\n",
              "      <td>gdrive/MyDrive/Capstone Data/LibriSpeech/train...</td>\n",
              "      <td>4297</td>\n",
              "      <td>1867</td>\n",
              "    </tr>\n",
              "    <tr>\n",
              "      <th>11448</th>\n",
              "      <td>gdrive/MyDrive/Capstone Data/LibriSpeech/train...</td>\n",
              "      <td>2391</td>\n",
              "      <td>5163</td>\n",
              "    </tr>\n",
              "    <tr>\n",
              "      <th>11460</th>\n",
              "      <td>gdrive/MyDrive/Capstone Data/LibriSpeech/train...</td>\n",
              "      <td>1034</td>\n",
              "      <td>198</td>\n",
              "    </tr>\n",
              "    <tr>\n",
              "      <th>11482</th>\n",
              "      <td>gdrive/MyDrive/Capstone Data/LibriSpeech/train...</td>\n",
              "      <td>6836</td>\n",
              "      <td>254</td>\n",
              "    </tr>\n",
              "    <tr>\n",
              "      <th>11507</th>\n",
              "      <td>gdrive/MyDrive/Capstone Data/LibriSpeech/train...</td>\n",
              "      <td>6415</td>\n",
              "      <td>6454</td>\n",
              "    </tr>\n",
              "    <tr>\n",
              "      <th>11525</th>\n",
              "      <td>gdrive/MyDrive/Capstone Data/LibriSpeech/train...</td>\n",
              "      <td>8324</td>\n",
              "      <td>1246</td>\n",
              "    </tr>\n",
              "    <tr>\n",
              "      <th>11599</th>\n",
              "      <td>gdrive/MyDrive/Capstone Data/LibriSpeech/train...</td>\n",
              "      <td>7078</td>\n",
              "      <td>1737</td>\n",
              "    </tr>\n",
              "    <tr>\n",
              "      <th>11677</th>\n",
              "      <td>gdrive/MyDrive/Capstone Data/LibriSpeech/train...</td>\n",
              "      <td>3168</td>\n",
              "      <td>322</td>\n",
              "    </tr>\n",
              "    <tr>\n",
              "      <th>11731</th>\n",
              "      <td>gdrive/MyDrive/Capstone Data/LibriSpeech/train...</td>\n",
              "      <td>6415</td>\n",
              "      <td>1970</td>\n",
              "    </tr>\n",
              "    <tr>\n",
              "      <th>11769</th>\n",
              "      <td>gdrive/MyDrive/Capstone Data/LibriSpeech/train...</td>\n",
              "      <td>2436</td>\n",
              "      <td>307</td>\n",
              "    </tr>\n",
              "    <tr>\n",
              "      <th>11852</th>\n",
              "      <td>gdrive/MyDrive/Capstone Data/LibriSpeech/train...</td>\n",
              "      <td>7794</td>\n",
              "      <td>5688</td>\n",
              "    </tr>\n",
              "    <tr>\n",
              "      <th>11923</th>\n",
              "      <td>gdrive/MyDrive/Capstone Data/LibriSpeech/train...</td>\n",
              "      <td>441</td>\n",
              "      <td>198</td>\n",
              "    </tr>\n",
              "    <tr>\n",
              "      <th>11987</th>\n",
              "      <td>gdrive/MyDrive/Capstone Data/LibriSpeech/train...</td>\n",
              "      <td>1263</td>\n",
              "      <td>198</td>\n",
              "    </tr>\n",
              "  </tbody>\n",
              "</table>\n",
              "</div>"
            ],
            "text/plain": [
              "                                                    file speaker preds\n",
              "11001  gdrive/MyDrive/Capstone Data/LibriSpeech/train...    8629   201\n",
              "11028  gdrive/MyDrive/Capstone Data/LibriSpeech/train...    2893  8838\n",
              "11073  gdrive/MyDrive/Capstone Data/LibriSpeech/train...    1502  7800\n",
              "11142  gdrive/MyDrive/Capstone Data/LibriSpeech/train...    3242  6454\n",
              "11166  gdrive/MyDrive/Capstone Data/LibriSpeech/train...    8324  7278\n",
              "11378  gdrive/MyDrive/Capstone Data/LibriSpeech/train...    4297  1867\n",
              "11448  gdrive/MyDrive/Capstone Data/LibriSpeech/train...    2391  5163\n",
              "11460  gdrive/MyDrive/Capstone Data/LibriSpeech/train...    1034   198\n",
              "11482  gdrive/MyDrive/Capstone Data/LibriSpeech/train...    6836   254\n",
              "11507  gdrive/MyDrive/Capstone Data/LibriSpeech/train...    6415  6454\n",
              "11525  gdrive/MyDrive/Capstone Data/LibriSpeech/train...    8324  1246\n",
              "11599  gdrive/MyDrive/Capstone Data/LibriSpeech/train...    7078  1737\n",
              "11677  gdrive/MyDrive/Capstone Data/LibriSpeech/train...    3168   322\n",
              "11731  gdrive/MyDrive/Capstone Data/LibriSpeech/train...    6415  1970\n",
              "11769  gdrive/MyDrive/Capstone Data/LibriSpeech/train...    2436   307\n",
              "11852  gdrive/MyDrive/Capstone Data/LibriSpeech/train...    7794  5688\n",
              "11923  gdrive/MyDrive/Capstone Data/LibriSpeech/train...     441   198\n",
              "11987  gdrive/MyDrive/Capstone Data/LibriSpeech/train...    1263   198"
            ]
          },
          "metadata": {
            "tags": []
          },
          "execution_count": 26
        }
      ]
    },
    {
      "cell_type": "code",
      "metadata": {
        "colab": {
          "base_uri": "https://localhost:8080/"
        },
        "id": "u9C0g6BiJbBl",
        "outputId": "2500c535-d1cf-4abc-b9c8-701ab1a1297b"
      },
      "source": [
        "# Checking our model accuracy\n",
        "1-round(len(df_test[df_test['speaker'] != df_test['preds']])/len(df_test),3)"
      ],
      "execution_count": null,
      "outputs": [
        {
          "output_type": "execute_result",
          "data": {
            "text/plain": [
              "0.982"
            ]
          },
          "metadata": {
            "tags": []
          },
          "execution_count": 27
        }
      ]
    }
  ]
}