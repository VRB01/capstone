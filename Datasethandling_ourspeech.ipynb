{
  "nbformat": 4,
  "nbformat_minor": 0,
  "metadata": {
    "colab": {
      "name": "Datasethandling_ourspeech.ipynb",
      "provenance": [],
      "authorship_tag": "ABX9TyNR3OYT8IajcjvlKnz2aaoI",
      "include_colab_link": true
    },
    "kernelspec": {
      "display_name": "Python 3",
      "name": "python3"
    }
  },
  "cells": [
    {
      "cell_type": "markdown",
      "metadata": {
        "id": "view-in-github",
        "colab_type": "text"
      },
      "source": [
        "<a href=\"https://colab.research.google.com/github/VRB01/capstone/blob/main/Datasethandling_ourspeech.ipynb\" target=\"_parent\"><img src=\"https://colab.research.google.com/assets/colab-badge.svg\" alt=\"Open In Colab\"/></a>"
      ]
    },
    {
      "cell_type": "code",
      "metadata": {
        "id": "T6R92UcFXjEP"
      },
      "source": [
        "import IPython.display as ipd\n",
        "# % pylab inline\n",
        "import os\n",
        "import pandas as pd\n",
        "import librosa\n",
        "import glob \n",
        "import librosa.display\n",
        "import random\n",
        "\n",
        "from sklearn.preprocessing import StandardScaler\n",
        "from sklearn.model_selection import train_test_split\n",
        "\n",
        "from keras.utils.np_utils import to_categorical\n",
        "\n",
        "import numpy as np\n",
        "from keras.models import Sequential\n",
        "from keras.layers import Dense, Dropout, Activation, Flatten\n",
        "from keras.layers import Convolution2D, MaxPooling2D\n",
        "from keras.optimizers import Adam\n",
        "from keras.utils import np_utils\n",
        "from sklearn import metrics \n",
        "\n",
        "from sklearn.datasets import make_regression\n",
        "from sklearn.preprocessing import StandardScaler\n",
        "from sklearn import metrics\n",
        "from sklearn.model_selection import train_test_split, GridSearchCV\n",
        "\n",
        "from tensorflow.keras.models import Sequential\n",
        "from tensorflow.keras.layers import Dense, Dropout \n",
        "from tensorflow.keras.wrappers.scikit_learn import KerasRegressor\n",
        "\n",
        "from keras.callbacks import EarlyStopping\n",
        "\n",
        "from keras import regularizers\n",
        "\n",
        "from sklearn.preprocessing import LabelEncoder\n",
        "\n",
        "from datetime import datetime\n",
        "\n",
        "import os\n",
        "import numpy\n",
        "from keras.models import Sequential\n",
        "from keras.layers import LSTM\n",
        "from keras.datasets import imdb\n",
        "from keras.layers import Dense\n",
        "import tensorflow as tf"
      ],
      "execution_count": null,
      "outputs": []
    },
    {
      "cell_type": "code",
      "metadata": {
        "colab": {
          "base_uri": "https://localhost:8080/"
        },
        "id": "0y4UK1nnYHiD",
        "outputId": "aacf9a1d-417d-4c5c-d089-3b9f9df26c73"
      },
      "source": [
        "from google.colab import drive\n",
        "drive.mount('/content/gdrive')"
      ],
      "execution_count": null,
      "outputs": [
        {
          "output_type": "stream",
          "text": [
            "Mounted at /content/gdrive\n"
          ],
          "name": "stdout"
        }
      ]
    },
    {
      "cell_type": "code",
      "metadata": {
        "id": "pLueTlNhb8c9"
      },
      "source": [
        "Directory = 'gdrive/MyDrive/Voice Inputs'\n",
        "Dataset = os.listdir(Directory)"
      ],
      "execution_count": null,
      "outputs": []
    },
    {
      "cell_type": "code",
      "metadata": {
        "id": "OEaJAUyvcTCd"
      },
      "source": [
        "audio_list = []\n",
        "speakers = []\n",
        "for speaker in Dataset:\n",
        "  audios = os.listdir(Directory+'/'+speaker)\n",
        "  for audio in audios:\n",
        "    if(audio.endswith('.wav')):\n",
        "      audio_list.append(Directory+'/'+speaker+'/'+audio)\n",
        "      speakers.append(audio.split('_')[0])\n",
        "\n",
        "\n"
      ],
      "execution_count": null,
      "outputs": []
    },
    {
      "cell_type": "code",
      "metadata": {
        "colab": {
          "base_uri": "https://localhost:8080/"
        },
        "id": "5O_yvYSHd8_-",
        "outputId": "c226378d-af28-4a13-cff2-87d961f27f89"
      },
      "source": [
        "audio_list = pd.DataFrame(audio_list)\n",
        "audio_list = audio_list.rename(columns={0:'file'})\n",
        "#len(audio_list)\n",
        "len(speakers)"
      ],
      "execution_count": null,
      "outputs": [
        {
          "output_type": "execute_result",
          "data": {
            "text/plain": [
              "242"
            ]
          },
          "metadata": {
            "tags": []
          },
          "execution_count": 5
        }
      ]
    },
    {
      "cell_type": "code",
      "metadata": {
        "colab": {
          "base_uri": "https://localhost:8080/",
          "height": 419
        },
        "id": "FiS-FxVIh_XM",
        "outputId": "9a206098-1a00-4c21-c972-6a791ca88f04"
      },
      "source": [
        "audio_list['speaker'] = speakers\n",
        "df = audio_list.sample(frac=1, random_state=42).reset_index(drop=True)\n",
        "df = df[:12000]\n",
        "df_train = df[:8000] #19984:\n",
        "df_validation = df[8000:11000] #19984:25694\n",
        "df_test = df[11000:12000] #25694:\n",
        "labels = df['speaker']\n",
        "Counter = 1\n",
        "df"
      ],
      "execution_count": null,
      "outputs": [
        {
          "output_type": "execute_result",
          "data": {
            "text/html": [
              "<div>\n",
              "<style scoped>\n",
              "    .dataframe tbody tr th:only-of-type {\n",
              "        vertical-align: middle;\n",
              "    }\n",
              "\n",
              "    .dataframe tbody tr th {\n",
              "        vertical-align: top;\n",
              "    }\n",
              "\n",
              "    .dataframe thead th {\n",
              "        text-align: right;\n",
              "    }\n",
              "</style>\n",
              "<table border=\"1\" class=\"dataframe\">\n",
              "  <thead>\n",
              "    <tr style=\"text-align: right;\">\n",
              "      <th></th>\n",
              "      <th>file</th>\n",
              "      <th>speaker</th>\n",
              "    </tr>\n",
              "  </thead>\n",
              "  <tbody>\n",
              "    <tr>\n",
              "      <th>0</th>\n",
              "      <td>gdrive/MyDrive/Voice Inputs/Kanishk/Kanishk_13...</td>\n",
              "      <td>Kanishk</td>\n",
              "    </tr>\n",
              "    <tr>\n",
              "      <th>1</th>\n",
              "      <td>gdrive/MyDrive/Voice Inputs/Kanishk/Kanishk_39...</td>\n",
              "      <td>Kanishk</td>\n",
              "    </tr>\n",
              "    <tr>\n",
              "      <th>2</th>\n",
              "      <td>gdrive/MyDrive/Voice Inputs/Kayan/Kayan_3822.wav</td>\n",
              "      <td>Kayan</td>\n",
              "    </tr>\n",
              "    <tr>\n",
              "      <th>3</th>\n",
              "      <td>gdrive/MyDrive/Voice Inputs/Rohit/Rohit_6461.wav</td>\n",
              "      <td>Rohit</td>\n",
              "    </tr>\n",
              "    <tr>\n",
              "      <th>4</th>\n",
              "      <td>gdrive/MyDrive/Voice Inputs/Rohit/Rohit_3700.wav</td>\n",
              "      <td>Rohit</td>\n",
              "    </tr>\n",
              "    <tr>\n",
              "      <th>...</th>\n",
              "      <td>...</td>\n",
              "      <td>...</td>\n",
              "    </tr>\n",
              "    <tr>\n",
              "      <th>237</th>\n",
              "      <td>gdrive/MyDrive/Voice Inputs/Aayush/Aayush_3959...</td>\n",
              "      <td>Aayush</td>\n",
              "    </tr>\n",
              "    <tr>\n",
              "      <th>238</th>\n",
              "      <td>gdrive/MyDrive/Voice Inputs/Kanishk/Kanishk_87...</td>\n",
              "      <td>Kanishk</td>\n",
              "    </tr>\n",
              "    <tr>\n",
              "      <th>239</th>\n",
              "      <td>gdrive/MyDrive/Voice Inputs/Aayush/Aayush_203.wav</td>\n",
              "      <td>Aayush</td>\n",
              "    </tr>\n",
              "    <tr>\n",
              "      <th>240</th>\n",
              "      <td>gdrive/MyDrive/Voice Inputs/Kayan/Kayan_5745.wav</td>\n",
              "      <td>Kayan</td>\n",
              "    </tr>\n",
              "    <tr>\n",
              "      <th>241</th>\n",
              "      <td>gdrive/MyDrive/Voice Inputs/Aayush/Aayush_4931...</td>\n",
              "      <td>Aayush</td>\n",
              "    </tr>\n",
              "  </tbody>\n",
              "</table>\n",
              "<p>242 rows × 2 columns</p>\n",
              "</div>"
            ],
            "text/plain": [
              "                                                  file  speaker\n",
              "0    gdrive/MyDrive/Voice Inputs/Kanishk/Kanishk_13...  Kanishk\n",
              "1    gdrive/MyDrive/Voice Inputs/Kanishk/Kanishk_39...  Kanishk\n",
              "2     gdrive/MyDrive/Voice Inputs/Kayan/Kayan_3822.wav    Kayan\n",
              "3     gdrive/MyDrive/Voice Inputs/Rohit/Rohit_6461.wav    Rohit\n",
              "4     gdrive/MyDrive/Voice Inputs/Rohit/Rohit_3700.wav    Rohit\n",
              "..                                                 ...      ...\n",
              "237  gdrive/MyDrive/Voice Inputs/Aayush/Aayush_3959...   Aayush\n",
              "238  gdrive/MyDrive/Voice Inputs/Kanishk/Kanishk_87...  Kanishk\n",
              "239  gdrive/MyDrive/Voice Inputs/Aayush/Aayush_203.wav   Aayush\n",
              "240   gdrive/MyDrive/Voice Inputs/Kayan/Kayan_5745.wav    Kayan\n",
              "241  gdrive/MyDrive/Voice Inputs/Aayush/Aayush_4931...   Aayush\n",
              "\n",
              "[242 rows x 2 columns]"
            ]
          },
          "metadata": {
            "tags": []
          },
          "execution_count": 6
        }
      ]
    },
    {
      "cell_type": "code",
      "metadata": {
        "id": "LwCqNv7uiyyW"
      },
      "source": [
        "def extract_features(files):\n",
        "    \n",
        "    # Sets the name to be the path to where the file is in my computer\n",
        "    file_name = os.path.join(str(files.file))\n",
        "    global Counter\n",
        "    if(Counter%10==0):\n",
        "      print(Counter)\n",
        "    Counter+=1\n",
        "\n",
        "    # Loads the audio file as a floating point time series and assigns the default sample rate\n",
        "    # Sample rate is set to 22050 by default\n",
        "    X, sample_rate = librosa.load(file_name, res_type='kaiser_fast') \n",
        "\n",
        "    # Generate Mel-frequency cepstral coefficients (MFCCs) from a time series \n",
        "    mfccs = np.mean(librosa.feature.mfcc(y=X, sr=sample_rate, n_mfcc=40).T,axis=0)\n",
        "\n",
        "    # Generates a Short-time Fourier transform (STFT) to use in the chroma_stft\n",
        "    #stft = np.abs(librosa.stft(X))\n",
        "\n",
        "    # Computes a chromagram from a waveform or power spectrogram.\n",
        "    #chroma = np.mean(librosa.feature.chroma_stft(S=stft, sr=sample_rate).T,axis=0)\n",
        "\n",
        "    # Computes a mel-scaled spectrogram.\n",
        "    mel = np.mean(librosa.feature.melspectrogram(X, sr=sample_rate).T,axis=0)\n",
        "\n",
        "    # Computes spectral contrast\n",
        "    #contrast = np.mean(librosa.feature.spectral_contrast(S=stft, sr=sample_rate).T,axis=0)\n",
        "\n",
        "    # Computes the tonal centroid features (tonnetz)\n",
        "    #tonnetz = np.mean(librosa.feature.tonnetz(y=librosa.effects.harmonic(X),\n",
        "    #sr=sample_rate).T,axis=0)\n",
        "        \n",
        "    \n",
        "    # We add also the classes of each file as a label at the end\n",
        "    #label = files.label\n",
        "\n",
        "    return mel, mfccs"
      ],
      "execution_count": null,
      "outputs": []
    },
    {
      "cell_type": "code",
      "metadata": {
        "colab": {
          "base_uri": "https://localhost:8080/"
        },
        "id": "Vs1WNIcsjM7y",
        "outputId": "5ad7de52-19a7-44da-a6f1-1dbcf21b696b"
      },
      "source": [
        "startTime = datetime.now()\n",
        "# Applying the function to the train data by accessing each row of the dataframe\n",
        "features_label = df.apply(extract_features, axis=1)\n",
        "print(datetime.now() - startTime)\n"
      ],
      "execution_count": null,
      "outputs": [
        {
          "output_type": "stream",
          "text": [
            "10\n",
            "20\n",
            "30\n"
          ],
          "name": "stdout"
        },
        {
          "output_type": "stream",
          "text": [
            "/usr/local/lib/python3.7/dist-packages/librosa/core/audio.py:162: UserWarning: PySoundFile failed. Trying audioread instead.\n",
            "  warnings.warn(\"PySoundFile failed. Trying audioread instead.\")\n"
          ],
          "name": "stderr"
        },
        {
          "output_type": "stream",
          "text": [
            "40\n",
            "50\n"
          ],
          "name": "stdout"
        },
        {
          "output_type": "stream",
          "text": [
            "/usr/local/lib/python3.7/dist-packages/librosa/core/audio.py:162: UserWarning: PySoundFile failed. Trying audioread instead.\n",
            "  warnings.warn(\"PySoundFile failed. Trying audioread instead.\")\n"
          ],
          "name": "stderr"
        },
        {
          "output_type": "stream",
          "text": [
            "60\n"
          ],
          "name": "stdout"
        },
        {
          "output_type": "stream",
          "text": [
            "/usr/local/lib/python3.7/dist-packages/librosa/core/audio.py:162: UserWarning: PySoundFile failed. Trying audioread instead.\n",
            "  warnings.warn(\"PySoundFile failed. Trying audioread instead.\")\n"
          ],
          "name": "stderr"
        },
        {
          "output_type": "stream",
          "text": [
            "70\n"
          ],
          "name": "stdout"
        },
        {
          "output_type": "stream",
          "text": [
            "/usr/local/lib/python3.7/dist-packages/librosa/core/audio.py:162: UserWarning: PySoundFile failed. Trying audioread instead.\n",
            "  warnings.warn(\"PySoundFile failed. Trying audioread instead.\")\n"
          ],
          "name": "stderr"
        },
        {
          "output_type": "stream",
          "text": [
            "80\n",
            "90\n"
          ],
          "name": "stdout"
        },
        {
          "output_type": "stream",
          "text": [
            "/usr/local/lib/python3.7/dist-packages/librosa/core/audio.py:162: UserWarning: PySoundFile failed. Trying audioread instead.\n",
            "  warnings.warn(\"PySoundFile failed. Trying audioread instead.\")\n"
          ],
          "name": "stderr"
        },
        {
          "output_type": "stream",
          "text": [
            "100\n",
            "110\n"
          ],
          "name": "stdout"
        },
        {
          "output_type": "stream",
          "text": [
            "/usr/local/lib/python3.7/dist-packages/librosa/core/audio.py:162: UserWarning: PySoundFile failed. Trying audioread instead.\n",
            "  warnings.warn(\"PySoundFile failed. Trying audioread instead.\")\n"
          ],
          "name": "stderr"
        },
        {
          "output_type": "stream",
          "text": [
            "120\n"
          ],
          "name": "stdout"
        },
        {
          "output_type": "stream",
          "text": [
            "/usr/local/lib/python3.7/dist-packages/librosa/core/audio.py:162: UserWarning: PySoundFile failed. Trying audioread instead.\n",
            "  warnings.warn(\"PySoundFile failed. Trying audioread instead.\")\n"
          ],
          "name": "stderr"
        },
        {
          "output_type": "stream",
          "text": [
            "130\n",
            "140\n",
            "150\n"
          ],
          "name": "stdout"
        },
        {
          "output_type": "stream",
          "text": [
            "/usr/local/lib/python3.7/dist-packages/librosa/core/audio.py:162: UserWarning: PySoundFile failed. Trying audioread instead.\n",
            "  warnings.warn(\"PySoundFile failed. Trying audioread instead.\")\n"
          ],
          "name": "stderr"
        },
        {
          "output_type": "stream",
          "text": [
            "160\n",
            "170\n",
            "180\n"
          ],
          "name": "stdout"
        },
        {
          "output_type": "stream",
          "text": [
            "/usr/local/lib/python3.7/dist-packages/librosa/core/audio.py:162: UserWarning: PySoundFile failed. Trying audioread instead.\n",
            "  warnings.warn(\"PySoundFile failed. Trying audioread instead.\")\n"
          ],
          "name": "stderr"
        },
        {
          "output_type": "stream",
          "text": [
            "190\n",
            "200\n"
          ],
          "name": "stdout"
        },
        {
          "output_type": "stream",
          "text": [
            "/usr/local/lib/python3.7/dist-packages/librosa/core/audio.py:162: UserWarning: PySoundFile failed. Trying audioread instead.\n",
            "  warnings.warn(\"PySoundFile failed. Trying audioread instead.\")\n"
          ],
          "name": "stderr"
        },
        {
          "output_type": "stream",
          "text": [
            "210\n",
            "220\n"
          ],
          "name": "stdout"
        },
        {
          "output_type": "stream",
          "text": [
            "/usr/local/lib/python3.7/dist-packages/librosa/core/audio.py:162: UserWarning: PySoundFile failed. Trying audioread instead.\n",
            "  warnings.warn(\"PySoundFile failed. Trying audioread instead.\")\n"
          ],
          "name": "stderr"
        },
        {
          "output_type": "stream",
          "text": [
            "230\n",
            "240\n",
            "0:02:15.762138\n"
          ],
          "name": "stdout"
        }
      ]
    },
    {
      "cell_type": "code",
      "metadata": {
        "id": "wIRmDZ-auILP"
      },
      "source": [
        "# Saving the numpy array because it takes a long time to extract the features\n",
        "np.save('features_label', features_label)\n"
      ],
      "execution_count": null,
      "outputs": []
    },
    {
      "cell_type": "code",
      "metadata": {
        "id": "ixrUgsPKyF5u",
        "colab": {
          "base_uri": "https://localhost:8080/"
        },
        "outputId": "0e6d43cc-cbff-4293-dda9-2a7e10c3bb5f"
      },
      "source": [
        "# loading the features\n",
        "features_label = np.load('features_label.npy', allow_pickle=True)\n",
        "features_label.shape"
      ],
      "execution_count": null,
      "outputs": [
        {
          "output_type": "execute_result",
          "data": {
            "text/plain": [
              "(242,)"
            ]
          },
          "metadata": {
            "tags": []
          },
          "execution_count": 10
        }
      ]
    },
    {
      "cell_type": "code",
      "metadata": {
        "id": "8Ng3sIo7AaAd"
      },
      "source": [
        "# We create an empty list where we will concatenate all the features into one long feature\n",
        "# for each file to feed into our neural network \n",
        "\n",
        "features = []\n",
        "for i in range(0, len(features_label)):\n",
        "    features.append(np.concatenate((features_label[i][0], features_label[i][1]), axis=0))\n",
        "# x_train = features_label[:1100]\n",
        "# x_test = features_label[1100:]\n",
        "# y_train = labels[:1100]\n",
        "# y_test = labels[1100:]"
      ],
      "execution_count": null,
      "outputs": []
    },
    {
      "cell_type": "code",
      "metadata": {
        "colab": {
          "base_uri": "https://localhost:8080/"
        },
        "id": "fyQnr18Vrq3U",
        "outputId": "c32467fc-9843-4afd-92ad-ae3b393569fe"
      },
      "source": [
        "trial_features=[]\n",
        "for i in range(0,len(features_label)):\n",
        "  a=[]\n",
        "  a.append(features_label[i][0])\n",
        "  #a.append(features_label[i][1])\n",
        "  trial_features.append(a)\n",
        "xxx = np.array(trial_features)\n",
        "xxx.shape\n"
      ],
      "execution_count": null,
      "outputs": [
        {
          "output_type": "execute_result",
          "data": {
            "text/plain": [
              "(242, 1, 128)"
            ]
          },
          "metadata": {
            "tags": []
          },
          "execution_count": 12
        }
      ]
    },
    {
      "cell_type": "code",
      "metadata": {
        "id": "UE3mlk7M7SBJ"
      },
      "source": [
        "# from sklearn.preprocessing import MinMaxScaler\n",
        "# scaler = MinMaxScaler(feature_range=(0, 1))\n",
        "# x_train = list(x_train)\n",
        "# x_train = np.asarray(x_train).astype('float32')\n",
        "\n",
        "# #x_train = scaler.fit_transform(x_train)\n",
        "# print(x_train.shape)\n",
        "# x_train = x_train.reshape(1100,-1,128)\n",
        "# x_test = list(x_test)\n",
        "# x_test = np.asarray(x_test).astype('float32')\n",
        "\n",
        "# #x_test = scaler.fit_transform(x_test)\n",
        "# print(x_test.shape)\n",
        "# x_test = x_test.reshape(100,-1,128)"
      ],
      "execution_count": null,
      "outputs": []
    },
    {
      "cell_type": "code",
      "metadata": {
        "id": "CE2Ndf5i7hyU"
      },
      "source": [
        "# y_train = np.asarray(y_train).astype('float32')\n",
        "# #y_train = scaler.fit_transform([y_train])\n",
        "# y_test = np.asarray(y_test).astype('float32')\n",
        "# #y_test = scaler.fit_transform([y_test])"
      ],
      "execution_count": null,
      "outputs": []
    },
    {
      "cell_type": "code",
      "metadata": {
        "id": "ZtHleKL87mSQ"
      },
      "source": [
        "# model = Sequential()\n",
        "# model.add(LSTM(100, return_sequences=True, input_shape=(1200,128)))\n",
        "# model.add(Dense(1, activation='sigmoid'))\n",
        "# model.compile(loss='categorical_crossentropy', optimizer='adam', metrics=['accuracy'])\n",
        "# print(model)"
      ],
      "execution_count": null,
      "outputs": []
    },
    {
      "cell_type": "code",
      "metadata": {
        "id": "7evXiwfS7ywX"
      },
      "source": [
        "# h = model.fit(x_train, y_train, epochs=60, batch_size=32, validation_data=(x_test,y_test))"
      ],
      "execution_count": null,
      "outputs": []
    },
    {
      "cell_type": "code",
      "metadata": {
        "id": "fhEQXpkeBDAE"
      },
      "source": [
        "# import matplotlib.pyplot as plt\n",
        "# xAxis = []\n",
        "# for i in range(1,len(h.history['loss'])+1):\n",
        "#   xAxis.append(i)\n",
        "# #norm = [(0-float(i))/sum(h.history['loss']) for i in h.history['loss']]\n",
        "# #norm1 = [(float(i)-min(h.history['loss']))/(max(h.history['loss'])-min(h.history['loss'])) for i in h.history['loss']]\n",
        "# plt.plot(xAxis,h.history['loss'])\n",
        "# plt.title('title name')\n",
        "# plt.xlabel('xAxis name')\n",
        "# plt.ylabel('yAxis name')\n",
        "# plt.show()\n",
        "# y_pred = model.predict(x_test)\n",
        "\n",
        "# #y_pred = scaler.inverse_transform(pred)\n",
        "# #y_test = scaler.inverse_transform([y_test])\n",
        "# # from sklearn.metrics import classification_report\n",
        "# print(classification_report(y_test, y_pred))"
      ],
      "execution_count": null,
      "outputs": []
    },
    {
      "cell_type": "code",
      "metadata": {
        "id": "HKzCj22YmHZq"
      },
      "source": [
        "# print(features_label)\n",
        "# train_features = np.array(features_label[:800])\n",
        "# val_features = [features_label[800:1100]]\n",
        "# test_features = [features_label[1100:]]\n",
        "# features = []\n",
        "# features.append(np.concatenate(features_label, axis=0))\n",
        "# print(features)\n",
        "# #print(train_features)"
      ],
      "execution_count": null,
      "outputs": []
    },
    {
      "cell_type": "code",
      "metadata": {
        "colab": {
          "base_uri": "https://localhost:8080/"
        },
        "id": "Iuux9oUglySc",
        "outputId": "0b349564-9274-4e20-cdb9-009ca4b42092"
      },
      "source": [
        "X = np.array(features)\n",
        "y = np.array(labels)\n",
        "lb = LabelEncoder()\n",
        "y = to_categorical(lb.fit_transform(y))\n",
        "X.shape\n",
        "y.shape"
      ],
      "execution_count": null,
      "outputs": [
        {
          "output_type": "execute_result",
          "data": {
            "text/plain": [
              "(242, 4)"
            ]
          },
          "metadata": {
            "tags": []
          },
          "execution_count": 19
        }
      ]
    },
    {
      "cell_type": "code",
      "metadata": {
        "id": "otHq5HXmtG43"
      },
      "source": [
        "\n",
        "limit_1 = int(X.shape[0]*0.7)\n",
        "limit_2 = int(X.shape[0]*0.85)\n"
      ],
      "execution_count": null,
      "outputs": []
    },
    {
      "cell_type": "code",
      "metadata": {
        "id": "w2iXlLHgtmgr"
      },
      "source": [
        "X_train = X[:limit_1]\n",
        "y_train = y[:limit_1]\n",
        "\n",
        "X_val = X[limit_1:limit_2]\n",
        "y_val = y[limit_1:limit_2]\n",
        "\n",
        "X_test = X[limit_2:]\n",
        "y_test = y[limit_2:]\n"
      ],
      "execution_count": null,
      "outputs": []
    },
    {
      "cell_type": "code",
      "metadata": {
        "id": "x3AufBBi5p6O"
      },
      "source": [
        "# features_label[800:1100]"
      ],
      "execution_count": null,
      "outputs": []
    },
    {
      "cell_type": "code",
      "metadata": {
        "id": "2-pbGZbyzUN4"
      },
      "source": [
        "# X_val.shape"
      ],
      "execution_count": null,
      "outputs": []
    },
    {
      "cell_type": "code",
      "metadata": {
        "id": "uLGrRR65uI-A"
      },
      "source": [
        "ss = StandardScaler()\n",
        "X_train = ss.fit_transform(X_train)\n",
        "X_val = ss.transform(X_val)\n",
        "X_test = ss.transform(X_test)"
      ],
      "execution_count": null,
      "outputs": []
    },
    {
      "cell_type": "code",
      "metadata": {
        "id": "M6jZ-QQ1oaF5"
      },
      "source": [
        "# Build a simple dense model with early stopping with softmax for categorical classification\n",
        "# We have 115 classes \n",
        "\n",
        "model = Sequential()\n",
        "\n",
        "model.add(Dense(168, input_shape=(168,), activation = 'relu'))\n",
        "model.add(Dropout(0.1))\n",
        "\n",
        "model.add(Dense(128, activation = 'relu'))\n",
        "model.add(Dropout(0.25))  \n",
        "\n",
        "model.add(Dense(128, activation = 'relu'))\n",
        "model.add(Dropout(0.5))    \n",
        "\n",
        "model.add(Dense(4, activation = 'softmax'))\n",
        "\n",
        "model.compile(loss='categorical_crossentropy', metrics=['accuracy'], optimizer='adam')\n",
        "\n",
        "early_stop = EarlyStopping(monitor='val_loss', min_delta=0, patience=100, verbose=1, mode='auto')"
      ],
      "execution_count": null,
      "outputs": []
    },
    {
      "cell_type": "code",
      "metadata": {
        "colab": {
          "base_uri": "https://localhost:8080/"
        },
        "id": "W0AoO8q7obwJ",
        "outputId": "954aa730-9bef-4c31-dd9e-aa8d9cfd4830"
      },
      "source": [
        "# fitting the model with the train data and validation with the validation data\n",
        "# we used early stop with patience 100 because we did not want to use early stop\n",
        "# I leave the early stop regularization code in case anyone wants to use it\n",
        "\n",
        "history = model.fit(X_train, y_train, batch_size=64, epochs=100, \n",
        "                    validation_data=(X_val, y_val),\n",
        "                    callbacks=[early_stop])"
      ],
      "execution_count": null,
      "outputs": [
        {
          "output_type": "stream",
          "text": [
            "Epoch 1/100\n",
            "3/3 [==============================] - 1s 129ms/step - loss: 1.5745 - accuracy: 0.1963 - val_loss: 1.0876 - val_accuracy: 0.6944\n",
            "Epoch 2/100\n",
            "3/3 [==============================] - 0s 23ms/step - loss: 1.1548 - accuracy: 0.4850 - val_loss: 0.8214 - val_accuracy: 0.8889\n",
            "Epoch 3/100\n",
            "3/3 [==============================] - 0s 26ms/step - loss: 0.9614 - accuracy: 0.7154 - val_loss: 0.6055 - val_accuracy: 0.9444\n",
            "Epoch 4/100\n",
            "3/3 [==============================] - 0s 23ms/step - loss: 0.7552 - accuracy: 0.8450 - val_loss: 0.4113 - val_accuracy: 0.9722\n",
            "Epoch 5/100\n",
            "3/3 [==============================] - 0s 23ms/step - loss: 0.4960 - accuracy: 0.9293 - val_loss: 0.2597 - val_accuracy: 0.9722\n",
            "Epoch 6/100\n",
            "3/3 [==============================] - 0s 23ms/step - loss: 0.3475 - accuracy: 0.9529 - val_loss: 0.1614 - val_accuracy: 0.9722\n",
            "Epoch 7/100\n",
            "3/3 [==============================] - 0s 25ms/step - loss: 0.2717 - accuracy: 0.9519 - val_loss: 0.1062 - val_accuracy: 0.9722\n",
            "Epoch 8/100\n",
            "3/3 [==============================] - 0s 24ms/step - loss: 0.1939 - accuracy: 0.9598 - val_loss: 0.0684 - val_accuracy: 0.9722\n",
            "Epoch 9/100\n",
            "3/3 [==============================] - 0s 30ms/step - loss: 0.1167 - accuracy: 0.9882 - val_loss: 0.0419 - val_accuracy: 0.9722\n",
            "Epoch 10/100\n",
            "3/3 [==============================] - 0s 26ms/step - loss: 0.0910 - accuracy: 0.9843 - val_loss: 0.0263 - val_accuracy: 1.0000\n",
            "Epoch 11/100\n",
            "3/3 [==============================] - 0s 25ms/step - loss: 0.0463 - accuracy: 1.0000 - val_loss: 0.0165 - val_accuracy: 1.0000\n",
            "Epoch 12/100\n",
            "3/3 [==============================] - 0s 23ms/step - loss: 0.0424 - accuracy: 0.9951 - val_loss: 0.0108 - val_accuracy: 1.0000\n",
            "Epoch 13/100\n",
            "3/3 [==============================] - 0s 23ms/step - loss: 0.0298 - accuracy: 0.9912 - val_loss: 0.0075 - val_accuracy: 1.0000\n",
            "Epoch 14/100\n",
            "3/3 [==============================] - 0s 23ms/step - loss: 0.0260 - accuracy: 1.0000 - val_loss: 0.0058 - val_accuracy: 1.0000\n",
            "Epoch 15/100\n",
            "3/3 [==============================] - 0s 24ms/step - loss: 0.0155 - accuracy: 0.9951 - val_loss: 0.0046 - val_accuracy: 1.0000\n",
            "Epoch 16/100\n",
            "3/3 [==============================] - 0s 24ms/step - loss: 0.0325 - accuracy: 0.9912 - val_loss: 0.0041 - val_accuracy: 1.0000\n",
            "Epoch 17/100\n",
            "3/3 [==============================] - 0s 23ms/step - loss: 0.0061 - accuracy: 1.0000 - val_loss: 0.0035 - val_accuracy: 1.0000\n",
            "Epoch 18/100\n",
            "3/3 [==============================] - 0s 24ms/step - loss: 0.0085 - accuracy: 1.0000 - val_loss: 0.0029 - val_accuracy: 1.0000\n",
            "Epoch 19/100\n",
            "3/3 [==============================] - 0s 24ms/step - loss: 0.0060 - accuracy: 1.0000 - val_loss: 0.0024 - val_accuracy: 1.0000\n",
            "Epoch 20/100\n",
            "3/3 [==============================] - 0s 24ms/step - loss: 0.0053 - accuracy: 1.0000 - val_loss: 0.0021 - val_accuracy: 1.0000\n",
            "Epoch 21/100\n",
            "3/3 [==============================] - 0s 26ms/step - loss: 0.0049 - accuracy: 1.0000 - val_loss: 0.0018 - val_accuracy: 1.0000\n",
            "Epoch 22/100\n",
            "3/3 [==============================] - 0s 24ms/step - loss: 0.0063 - accuracy: 1.0000 - val_loss: 0.0015 - val_accuracy: 1.0000\n",
            "Epoch 23/100\n",
            "3/3 [==============================] - 0s 23ms/step - loss: 0.0088 - accuracy: 1.0000 - val_loss: 0.0012 - val_accuracy: 1.0000\n",
            "Epoch 24/100\n",
            "3/3 [==============================] - 0s 24ms/step - loss: 0.0064 - accuracy: 1.0000 - val_loss: 0.0011 - val_accuracy: 1.0000\n",
            "Epoch 25/100\n",
            "3/3 [==============================] - 0s 26ms/step - loss: 0.0046 - accuracy: 1.0000 - val_loss: 9.1686e-04 - val_accuracy: 1.0000\n",
            "Epoch 26/100\n",
            "3/3 [==============================] - 0s 23ms/step - loss: 0.0040 - accuracy: 1.0000 - val_loss: 8.2736e-04 - val_accuracy: 1.0000\n",
            "Epoch 27/100\n",
            "3/3 [==============================] - 0s 24ms/step - loss: 0.0045 - accuracy: 1.0000 - val_loss: 7.4907e-04 - val_accuracy: 1.0000\n",
            "Epoch 28/100\n",
            "3/3 [==============================] - 0s 24ms/step - loss: 0.0025 - accuracy: 1.0000 - val_loss: 6.8518e-04 - val_accuracy: 1.0000\n",
            "Epoch 29/100\n",
            "3/3 [==============================] - 0s 30ms/step - loss: 0.0044 - accuracy: 1.0000 - val_loss: 6.2726e-04 - val_accuracy: 1.0000\n",
            "Epoch 30/100\n",
            "3/3 [==============================] - 0s 23ms/step - loss: 0.0036 - accuracy: 1.0000 - val_loss: 5.6883e-04 - val_accuracy: 1.0000\n",
            "Epoch 31/100\n",
            "3/3 [==============================] - 0s 24ms/step - loss: 0.0051 - accuracy: 1.0000 - val_loss: 5.0088e-04 - val_accuracy: 1.0000\n",
            "Epoch 32/100\n",
            "3/3 [==============================] - 0s 23ms/step - loss: 0.0052 - accuracy: 1.0000 - val_loss: 4.4001e-04 - val_accuracy: 1.0000\n",
            "Epoch 33/100\n",
            "3/3 [==============================] - 0s 29ms/step - loss: 0.0038 - accuracy: 1.0000 - val_loss: 3.9479e-04 - val_accuracy: 1.0000\n",
            "Epoch 34/100\n",
            "3/3 [==============================] - 0s 25ms/step - loss: 0.0041 - accuracy: 1.0000 - val_loss: 3.5942e-04 - val_accuracy: 1.0000\n",
            "Epoch 35/100\n",
            "3/3 [==============================] - 0s 25ms/step - loss: 0.0040 - accuracy: 1.0000 - val_loss: 3.3077e-04 - val_accuracy: 1.0000\n",
            "Epoch 36/100\n",
            "3/3 [==============================] - 0s 27ms/step - loss: 0.0022 - accuracy: 1.0000 - val_loss: 3.0850e-04 - val_accuracy: 1.0000\n",
            "Epoch 37/100\n",
            "3/3 [==============================] - 0s 24ms/step - loss: 0.0300 - accuracy: 0.9912 - val_loss: 2.9495e-04 - val_accuracy: 1.0000\n",
            "Epoch 38/100\n",
            "3/3 [==============================] - 0s 25ms/step - loss: 0.0021 - accuracy: 1.0000 - val_loss: 2.8413e-04 - val_accuracy: 1.0000\n",
            "Epoch 39/100\n",
            "3/3 [==============================] - 0s 24ms/step - loss: 0.0023 - accuracy: 1.0000 - val_loss: 2.7326e-04 - val_accuracy: 1.0000\n",
            "Epoch 40/100\n",
            "3/3 [==============================] - 0s 23ms/step - loss: 0.0034 - accuracy: 1.0000 - val_loss: 2.6172e-04 - val_accuracy: 1.0000\n",
            "Epoch 41/100\n",
            "3/3 [==============================] - 0s 23ms/step - loss: 0.0013 - accuracy: 1.0000 - val_loss: 2.5288e-04 - val_accuracy: 1.0000\n",
            "Epoch 42/100\n",
            "3/3 [==============================] - 0s 27ms/step - loss: 0.0011 - accuracy: 1.0000 - val_loss: 2.4183e-04 - val_accuracy: 1.0000\n",
            "Epoch 43/100\n",
            "3/3 [==============================] - 0s 24ms/step - loss: 0.0015 - accuracy: 1.0000 - val_loss: 2.2955e-04 - val_accuracy: 1.0000\n",
            "Epoch 44/100\n",
            "3/3 [==============================] - 0s 24ms/step - loss: 0.0032 - accuracy: 1.0000 - val_loss: 2.1392e-04 - val_accuracy: 1.0000\n",
            "Epoch 45/100\n",
            "3/3 [==============================] - 0s 23ms/step - loss: 0.0018 - accuracy: 1.0000 - val_loss: 1.9941e-04 - val_accuracy: 1.0000\n",
            "Epoch 46/100\n",
            "3/3 [==============================] - 0s 23ms/step - loss: 0.0024 - accuracy: 1.0000 - val_loss: 1.8777e-04 - val_accuracy: 1.0000\n",
            "Epoch 47/100\n",
            "3/3 [==============================] - 0s 23ms/step - loss: 0.0011 - accuracy: 1.0000 - val_loss: 1.7835e-04 - val_accuracy: 1.0000\n",
            "Epoch 48/100\n",
            "3/3 [==============================] - 0s 22ms/step - loss: 0.0010 - accuracy: 1.0000 - val_loss: 1.7067e-04 - val_accuracy: 1.0000\n",
            "Epoch 49/100\n",
            "3/3 [==============================] - 0s 26ms/step - loss: 0.0048 - accuracy: 1.0000 - val_loss: 1.6494e-04 - val_accuracy: 1.0000\n",
            "Epoch 50/100\n",
            "3/3 [==============================] - 0s 24ms/step - loss: 7.0673e-04 - accuracy: 1.0000 - val_loss: 1.5954e-04 - val_accuracy: 1.0000\n",
            "Epoch 51/100\n",
            "3/3 [==============================] - 0s 25ms/step - loss: 0.0033 - accuracy: 1.0000 - val_loss: 1.5249e-04 - val_accuracy: 1.0000\n",
            "Epoch 52/100\n",
            "3/3 [==============================] - 0s 25ms/step - loss: 7.9010e-04 - accuracy: 1.0000 - val_loss: 1.4690e-04 - val_accuracy: 1.0000\n",
            "Epoch 53/100\n",
            "3/3 [==============================] - 0s 25ms/step - loss: 0.0012 - accuracy: 1.0000 - val_loss: 1.4242e-04 - val_accuracy: 1.0000\n",
            "Epoch 54/100\n",
            "3/3 [==============================] - 0s 26ms/step - loss: 0.0012 - accuracy: 1.0000 - val_loss: 1.4129e-04 - val_accuracy: 1.0000\n",
            "Epoch 55/100\n",
            "3/3 [==============================] - 0s 26ms/step - loss: 0.0011 - accuracy: 1.0000 - val_loss: 1.4479e-04 - val_accuracy: 1.0000\n",
            "Epoch 56/100\n",
            "3/3 [==============================] - 0s 24ms/step - loss: 7.5568e-04 - accuracy: 1.0000 - val_loss: 1.4421e-04 - val_accuracy: 1.0000\n",
            "Epoch 57/100\n",
            "3/3 [==============================] - 0s 24ms/step - loss: 0.0013 - accuracy: 1.0000 - val_loss: 1.4243e-04 - val_accuracy: 1.0000\n",
            "Epoch 58/100\n",
            "3/3 [==============================] - 0s 24ms/step - loss: 0.0014 - accuracy: 1.0000 - val_loss: 1.4009e-04 - val_accuracy: 1.0000\n",
            "Epoch 59/100\n",
            "3/3 [==============================] - 0s 24ms/step - loss: 0.0012 - accuracy: 1.0000 - val_loss: 1.3637e-04 - val_accuracy: 1.0000\n",
            "Epoch 60/100\n",
            "3/3 [==============================] - 0s 25ms/step - loss: 7.5327e-04 - accuracy: 1.0000 - val_loss: 1.3026e-04 - val_accuracy: 1.0000\n",
            "Epoch 61/100\n",
            "3/3 [==============================] - 0s 23ms/step - loss: 6.7471e-04 - accuracy: 1.0000 - val_loss: 1.2470e-04 - val_accuracy: 1.0000\n",
            "Epoch 62/100\n",
            "3/3 [==============================] - 0s 22ms/step - loss: 5.8899e-04 - accuracy: 1.0000 - val_loss: 1.1964e-04 - val_accuracy: 1.0000\n",
            "Epoch 63/100\n",
            "3/3 [==============================] - 0s 25ms/step - loss: 6.7329e-04 - accuracy: 1.0000 - val_loss: 1.1885e-04 - val_accuracy: 1.0000\n",
            "Epoch 64/100\n",
            "3/3 [==============================] - 0s 27ms/step - loss: 6.6634e-04 - accuracy: 1.0000 - val_loss: 1.1889e-04 - val_accuracy: 1.0000\n",
            "Epoch 65/100\n",
            "3/3 [==============================] - 0s 26ms/step - loss: 6.8793e-04 - accuracy: 1.0000 - val_loss: 1.1787e-04 - val_accuracy: 1.0000\n",
            "Epoch 66/100\n",
            "3/3 [==============================] - 0s 25ms/step - loss: 4.3409e-04 - accuracy: 1.0000 - val_loss: 1.1629e-04 - val_accuracy: 1.0000\n",
            "Epoch 67/100\n",
            "3/3 [==============================] - 0s 26ms/step - loss: 0.0033 - accuracy: 1.0000 - val_loss: 1.1924e-04 - val_accuracy: 1.0000\n",
            "Epoch 68/100\n",
            "3/3 [==============================] - 0s 24ms/step - loss: 6.6035e-04 - accuracy: 1.0000 - val_loss: 1.1913e-04 - val_accuracy: 1.0000\n",
            "Epoch 69/100\n",
            "3/3 [==============================] - 0s 26ms/step - loss: 0.0011 - accuracy: 1.0000 - val_loss: 1.1569e-04 - val_accuracy: 1.0000\n",
            "Epoch 70/100\n",
            "3/3 [==============================] - 0s 25ms/step - loss: 9.2221e-04 - accuracy: 1.0000 - val_loss: 1.1241e-04 - val_accuracy: 1.0000\n",
            "Epoch 71/100\n",
            "3/3 [==============================] - 0s 26ms/step - loss: 9.6276e-04 - accuracy: 1.0000 - val_loss: 1.0885e-04 - val_accuracy: 1.0000\n",
            "Epoch 72/100\n",
            "3/3 [==============================] - 0s 24ms/step - loss: 6.8767e-04 - accuracy: 1.0000 - val_loss: 1.0507e-04 - val_accuracy: 1.0000\n",
            "Epoch 73/100\n",
            "3/3 [==============================] - 0s 24ms/step - loss: 5.4895e-04 - accuracy: 1.0000 - val_loss: 1.0157e-04 - val_accuracy: 1.0000\n",
            "Epoch 74/100\n",
            "3/3 [==============================] - 0s 27ms/step - loss: 8.1508e-04 - accuracy: 1.0000 - val_loss: 9.7582e-05 - val_accuracy: 1.0000\n",
            "Epoch 75/100\n",
            "3/3 [==============================] - 0s 24ms/step - loss: 0.0015 - accuracy: 1.0000 - val_loss: 9.2317e-05 - val_accuracy: 1.0000\n",
            "Epoch 76/100\n",
            "3/3 [==============================] - 0s 25ms/step - loss: 3.4432e-04 - accuracy: 1.0000 - val_loss: 8.7588e-05 - val_accuracy: 1.0000\n",
            "Epoch 77/100\n",
            "3/3 [==============================] - 0s 27ms/step - loss: 6.7764e-04 - accuracy: 1.0000 - val_loss: 8.2873e-05 - val_accuracy: 1.0000\n",
            "Epoch 78/100\n",
            "3/3 [==============================] - 0s 25ms/step - loss: 7.5462e-04 - accuracy: 1.0000 - val_loss: 7.7410e-05 - val_accuracy: 1.0000\n",
            "Epoch 79/100\n",
            "3/3 [==============================] - 0s 26ms/step - loss: 3.6560e-04 - accuracy: 1.0000 - val_loss: 7.2551e-05 - val_accuracy: 1.0000\n",
            "Epoch 80/100\n",
            "3/3 [==============================] - 0s 25ms/step - loss: 3.0305e-04 - accuracy: 1.0000 - val_loss: 6.8771e-05 - val_accuracy: 1.0000\n",
            "Epoch 81/100\n",
            "3/3 [==============================] - 0s 24ms/step - loss: 1.3661e-04 - accuracy: 1.0000 - val_loss: 6.5467e-05 - val_accuracy: 1.0000\n",
            "Epoch 82/100\n",
            "3/3 [==============================] - 0s 27ms/step - loss: 0.0015 - accuracy: 1.0000 - val_loss: 6.2751e-05 - val_accuracy: 1.0000\n",
            "Epoch 83/100\n",
            "3/3 [==============================] - 0s 25ms/step - loss: 3.4507e-04 - accuracy: 1.0000 - val_loss: 6.0536e-05 - val_accuracy: 1.0000\n",
            "Epoch 84/100\n",
            "3/3 [==============================] - 0s 25ms/step - loss: 5.4353e-04 - accuracy: 1.0000 - val_loss: 5.8547e-05 - val_accuracy: 1.0000\n",
            "Epoch 85/100\n",
            "3/3 [==============================] - 0s 24ms/step - loss: 0.0020 - accuracy: 1.0000 - val_loss: 5.6752e-05 - val_accuracy: 1.0000\n",
            "Epoch 86/100\n",
            "3/3 [==============================] - 0s 25ms/step - loss: 0.0012 - accuracy: 1.0000 - val_loss: 5.4749e-05 - val_accuracy: 1.0000\n",
            "Epoch 87/100\n",
            "3/3 [==============================] - 0s 27ms/step - loss: 2.3665e-04 - accuracy: 1.0000 - val_loss: 5.2841e-05 - val_accuracy: 1.0000\n",
            "Epoch 88/100\n",
            "3/3 [==============================] - 0s 26ms/step - loss: 6.6074e-04 - accuracy: 1.0000 - val_loss: 5.0963e-05 - val_accuracy: 1.0000\n",
            "Epoch 89/100\n",
            "3/3 [==============================] - 0s 25ms/step - loss: 0.0015 - accuracy: 1.0000 - val_loss: 4.7271e-05 - val_accuracy: 1.0000\n",
            "Epoch 90/100\n",
            "3/3 [==============================] - 0s 24ms/step - loss: 2.4334e-04 - accuracy: 1.0000 - val_loss: 4.4979e-05 - val_accuracy: 1.0000\n",
            "Epoch 91/100\n",
            "3/3 [==============================] - 0s 30ms/step - loss: 9.8535e-04 - accuracy: 1.0000 - val_loss: 4.2979e-05 - val_accuracy: 1.0000\n",
            "Epoch 92/100\n",
            "3/3 [==============================] - 0s 23ms/step - loss: 0.0019 - accuracy: 1.0000 - val_loss: 4.2622e-05 - val_accuracy: 1.0000\n",
            "Epoch 93/100\n",
            "3/3 [==============================] - 0s 24ms/step - loss: 3.2669e-04 - accuracy: 1.0000 - val_loss: 4.2503e-05 - val_accuracy: 1.0000\n",
            "Epoch 94/100\n",
            "3/3 [==============================] - 0s 26ms/step - loss: 3.2248e-04 - accuracy: 1.0000 - val_loss: 4.0949e-05 - val_accuracy: 1.0000\n",
            "Epoch 95/100\n",
            "3/3 [==============================] - 0s 24ms/step - loss: 8.1946e-04 - accuracy: 1.0000 - val_loss: 3.8197e-05 - val_accuracy: 1.0000\n",
            "Epoch 96/100\n",
            "3/3 [==============================] - 0s 25ms/step - loss: 6.6075e-04 - accuracy: 1.0000 - val_loss: 3.5773e-05 - val_accuracy: 1.0000\n",
            "Epoch 97/100\n",
            "3/3 [==============================] - 0s 25ms/step - loss: 0.0016 - accuracy: 1.0000 - val_loss: 3.4089e-05 - val_accuracy: 1.0000\n",
            "Epoch 98/100\n",
            "3/3 [==============================] - 0s 27ms/step - loss: 2.5912e-04 - accuracy: 1.0000 - val_loss: 3.2895e-05 - val_accuracy: 1.0000\n",
            "Epoch 99/100\n",
            "3/3 [==============================] - 0s 25ms/step - loss: 2.6470e-04 - accuracy: 1.0000 - val_loss: 3.1843e-05 - val_accuracy: 1.0000\n",
            "Epoch 100/100\n",
            "3/3 [==============================] - 0s 23ms/step - loss: 7.5903e-04 - accuracy: 1.0000 - val_loss: 3.0576e-05 - val_accuracy: 1.0000\n"
          ],
          "name": "stdout"
        }
      ]
    },
    {
      "cell_type": "code",
      "metadata": {
        "colab": {
          "base_uri": "https://localhost:8080/",
          "height": 530
        },
        "id": "k-iW_Fnmoy5F",
        "outputId": "6a2a62ca-713f-4e5a-eab8-473665b1101f"
      },
      "source": [
        "# Check out our train accuracy and validation accuracy over epochs.\n",
        "train_accuracy = history.history['accuracy']\n",
        "val_accuracy = history.history['val_accuracy']\n",
        "import matplotlib.pyplot as plt\n",
        "# Set figure size.\n",
        "plt.figure(figsize=(12, 8))\n",
        "\n",
        "# Generate line plot of training, testing loss over epochs.\n",
        "plt.plot(train_accuracy, label='Training Accuracy', color='#185fad')\n",
        "plt.plot(val_accuracy, label='Validation Accuracy', color='orange')\n",
        "\n",
        "# Set title\n",
        "plt.title('Training and Validation Accuracy by Epoch', fontsize = 25)\n",
        "plt.xlabel('Epoch', fontsize = 18)\n",
        "plt.ylabel('Categorical Crossentropy', fontsize = 18)\n",
        "plt.xticks(range(0,100,5), range(0,100,5))\n",
        "\n",
        "plt.legend(fontsize = 18);"
      ],
      "execution_count": null,
      "outputs": [
        {
          "output_type": "display_data",
          "data": {
            "image/png": "[encoded data removed]",
            "text/plain": [
              "<Figure size 864x576 with 1 Axes>"
            ]
          },
          "metadata": {
            "tags": [],
            "needs_background": "light"
          }
        }
      ]
    },
    {
      "cell_type": "code",
      "metadata": {
        "colab": {
          "base_uri": "https://localhost:8080/",
          "height": 1000
        },
        "id": "ucmk6_gCBAiQ",
        "outputId": "178ce8a3-472e-4b5b-a91e-34359d7abf1e"
      },
      "source": [
        "# We get our predictions from the test data\n",
        "preds = model.predict_classes(X_test)\n",
        "# We transform back our predictions to the speakers ids\n",
        "preds = lb.inverse_transform(preds)\n",
        "# We slice our dataframe to our test dataframe\n",
        "df_test = df[limit_2:]\n",
        "# We create a new column called preds and set it equal to our predictions\n",
        "df_test['preds'] = preds\n",
        "# Checking how our test dataframe looks like now with our predictions\n",
        "df_test\n"
      ],
      "execution_count": null,
      "outputs": [
        {
          "output_type": "stream",
          "text": [
            "/usr/local/lib/python3.7/dist-packages/tensorflow/python/keras/engine/sequential.py:450: UserWarning: `model.predict_classes()` is deprecated and will be removed after 2021-01-01. Please use instead:* `np.argmax(model.predict(x), axis=-1)`,   if your model does multi-class classification   (e.g. if it uses a `softmax` last-layer activation).* `(model.predict(x) > 0.5).astype(\"int32\")`,   if your model does binary classification   (e.g. if it uses a `sigmoid` last-layer activation).\n",
            "  warnings.warn('`model.predict_classes()` is deprecated and '\n",
            "/usr/local/lib/python3.7/dist-packages/ipykernel_launcher.py:8: SettingWithCopyWarning: \n",
            "A value is trying to be set on a copy of a slice from a DataFrame.\n",
            "Try using .loc[row_indexer,col_indexer] = value instead\n",
            "\n",
            "See the caveats in the documentation: https://pandas.pydata.org/pandas-docs/stable/user_guide/indexing.html#returning-a-view-versus-a-copy\n",
            "  \n"
          ],
          "name": "stderr"
        },
        {
          "output_type": "execute_result",
          "data": {
            "text/html": [
              "<div>\n",
              "<style scoped>\n",
              "    .dataframe tbody tr th:only-of-type {\n",
              "        vertical-align: middle;\n",
              "    }\n",
              "\n",
              "    .dataframe tbody tr th {\n",
              "        vertical-align: top;\n",
              "    }\n",
              "\n",
              "    .dataframe thead th {\n",
              "        text-align: right;\n",
              "    }\n",
              "</style>\n",
              "<table border=\"1\" class=\"dataframe\">\n",
              "  <thead>\n",
              "    <tr style=\"text-align: right;\">\n",
              "      <th></th>\n",
              "      <th>file</th>\n",
              "      <th>speaker</th>\n",
              "      <th>preds</th>\n",
              "    </tr>\n",
              "  </thead>\n",
              "  <tbody>\n",
              "    <tr>\n",
              "      <th>205</th>\n",
              "      <td>gdrive/MyDrive/Voice Inputs/Kanishk/Kanishk_40...</td>\n",
              "      <td>Kanishk</td>\n",
              "      <td>Kanishk</td>\n",
              "    </tr>\n",
              "    <tr>\n",
              "      <th>206</th>\n",
              "      <td>gdrive/MyDrive/Voice Inputs/Kanishk/Kanishk_55...</td>\n",
              "      <td>Kanishk</td>\n",
              "      <td>Kanishk</td>\n",
              "    </tr>\n",
              "    <tr>\n",
              "      <th>207</th>\n",
              "      <td>gdrive/MyDrive/Voice Inputs/Aayush/Aayush_738.wav</td>\n",
              "      <td>Aayush</td>\n",
              "      <td>Aayush</td>\n",
              "    </tr>\n",
              "    <tr>\n",
              "      <th>208</th>\n",
              "      <td>gdrive/MyDrive/Voice Inputs/Kanishk/Kanishk_71...</td>\n",
              "      <td>Kanishk</td>\n",
              "      <td>Kanishk</td>\n",
              "    </tr>\n",
              "    <tr>\n",
              "      <th>209</th>\n",
              "      <td>gdrive/MyDrive/Voice Inputs/Kanishk/Kanishk_34...</td>\n",
              "      <td>Kanishk</td>\n",
              "      <td>Kanishk</td>\n",
              "    </tr>\n",
              "    <tr>\n",
              "      <th>210</th>\n",
              "      <td>gdrive/MyDrive/Voice Inputs/Rohit/Rohit_2273.wav</td>\n",
              "      <td>Rohit</td>\n",
              "      <td>Rohit</td>\n",
              "    </tr>\n",
              "    <tr>\n",
              "      <th>211</th>\n",
              "      <td>gdrive/MyDrive/Voice Inputs/Kayan/Kayan_5120.wav</td>\n",
              "      <td>Kayan</td>\n",
              "      <td>Kayan</td>\n",
              "    </tr>\n",
              "    <tr>\n",
              "      <th>212</th>\n",
              "      <td>gdrive/MyDrive/Voice Inputs/Rohit/Rohit_4782.wav</td>\n",
              "      <td>Rohit</td>\n",
              "      <td>Rohit</td>\n",
              "    </tr>\n",
              "    <tr>\n",
              "      <th>213</th>\n",
              "      <td>gdrive/MyDrive/Voice Inputs/Kayan/Kayan_763.wav</td>\n",
              "      <td>Kayan</td>\n",
              "      <td>Kayan</td>\n",
              "    </tr>\n",
              "    <tr>\n",
              "      <th>214</th>\n",
              "      <td>gdrive/MyDrive/Voice Inputs/Kayan/Kayan_5998.wav</td>\n",
              "      <td>Kayan</td>\n",
              "      <td>Kayan</td>\n",
              "    </tr>\n",
              "    <tr>\n",
              "      <th>215</th>\n",
              "      <td>gdrive/MyDrive/Voice Inputs/Aayush/Aayush_2449...</td>\n",
              "      <td>Aayush</td>\n",
              "      <td>Aayush</td>\n",
              "    </tr>\n",
              "    <tr>\n",
              "      <th>216</th>\n",
              "      <td>gdrive/MyDrive/Voice Inputs/Kanishk/Kanishk_52...</td>\n",
              "      <td>Kanishk</td>\n",
              "      <td>Kanishk</td>\n",
              "    </tr>\n",
              "    <tr>\n",
              "      <th>217</th>\n",
              "      <td>gdrive/MyDrive/Voice Inputs/Kayan/Kayan_8652.wav</td>\n",
              "      <td>Kayan</td>\n",
              "      <td>Kayan</td>\n",
              "    </tr>\n",
              "    <tr>\n",
              "      <th>218</th>\n",
              "      <td>gdrive/MyDrive/Voice Inputs/Rohit/Rohit_3338.wav</td>\n",
              "      <td>Rohit</td>\n",
              "      <td>Rohit</td>\n",
              "    </tr>\n",
              "    <tr>\n",
              "      <th>219</th>\n",
              "      <td>gdrive/MyDrive/Voice Inputs/Kanishk/Kanishk_16...</td>\n",
              "      <td>Kanishk</td>\n",
              "      <td>Kanishk</td>\n",
              "    </tr>\n",
              "    <tr>\n",
              "      <th>220</th>\n",
              "      <td>gdrive/MyDrive/Voice Inputs/Kanishk/Kanishk_64...</td>\n",
              "      <td>Kanishk</td>\n",
              "      <td>Kanishk</td>\n",
              "    </tr>\n",
              "    <tr>\n",
              "      <th>221</th>\n",
              "      <td>gdrive/MyDrive/Voice Inputs/Kayan/Kayan_8854.wav</td>\n",
              "      <td>Kayan</td>\n",
              "      <td>Kayan</td>\n",
              "    </tr>\n",
              "    <tr>\n",
              "      <th>222</th>\n",
              "      <td>gdrive/MyDrive/Voice Inputs/Aayush/Aayush_310.wav</td>\n",
              "      <td>Aayush</td>\n",
              "      <td>Aayush</td>\n",
              "    </tr>\n",
              "    <tr>\n",
              "      <th>223</th>\n",
              "      <td>gdrive/MyDrive/Voice Inputs/Kayan/Kayan_6622.wav</td>\n",
              "      <td>Kayan</td>\n",
              "      <td>Kayan</td>\n",
              "    </tr>\n",
              "    <tr>\n",
              "      <th>224</th>\n",
              "      <td>gdrive/MyDrive/Voice Inputs/Aayush/Aayush_5341...</td>\n",
              "      <td>Aayush</td>\n",
              "      <td>Aayush</td>\n",
              "    </tr>\n",
              "    <tr>\n",
              "      <th>225</th>\n",
              "      <td>gdrive/MyDrive/Voice Inputs/Aayush/Aayush_3295...</td>\n",
              "      <td>Aayush</td>\n",
              "      <td>Aayush</td>\n",
              "    </tr>\n",
              "    <tr>\n",
              "      <th>226</th>\n",
              "      <td>gdrive/MyDrive/Voice Inputs/Aayush/Aayush_1146...</td>\n",
              "      <td>Aayush</td>\n",
              "      <td>Aayush</td>\n",
              "    </tr>\n",
              "    <tr>\n",
              "      <th>227</th>\n",
              "      <td>gdrive/MyDrive/Voice Inputs/Aayush/Aayush_683.wav</td>\n",
              "      <td>Aayush</td>\n",
              "      <td>Kayan</td>\n",
              "    </tr>\n",
              "    <tr>\n",
              "      <th>228</th>\n",
              "      <td>gdrive/MyDrive/Voice Inputs/Rohit/Rohit_5838.wav</td>\n",
              "      <td>Rohit</td>\n",
              "      <td>Rohit</td>\n",
              "    </tr>\n",
              "    <tr>\n",
              "      <th>229</th>\n",
              "      <td>gdrive/MyDrive/Voice Inputs/Kanishk/Kanishk_49...</td>\n",
              "      <td>Kanishk</td>\n",
              "      <td>Kanishk</td>\n",
              "    </tr>\n",
              "    <tr>\n",
              "      <th>230</th>\n",
              "      <td>gdrive/MyDrive/Voice Inputs/Rohit/Rohit_1867.wav</td>\n",
              "      <td>Rohit</td>\n",
              "      <td>Rohit</td>\n",
              "    </tr>\n",
              "    <tr>\n",
              "      <th>231</th>\n",
              "      <td>gdrive/MyDrive/Voice Inputs/Rohit/Rohit_5608.wav</td>\n",
              "      <td>Rohit</td>\n",
              "      <td>Rohit</td>\n",
              "    </tr>\n",
              "    <tr>\n",
              "      <th>232</th>\n",
              "      <td>gdrive/MyDrive/Voice Inputs/Aayush/Aayush_8060...</td>\n",
              "      <td>Aayush</td>\n",
              "      <td>Aayush</td>\n",
              "    </tr>\n",
              "    <tr>\n",
              "      <th>233</th>\n",
              "      <td>gdrive/MyDrive/Voice Inputs/Rohit/Rohit_186.wav</td>\n",
              "      <td>Rohit</td>\n",
              "      <td>Rohit</td>\n",
              "    </tr>\n",
              "    <tr>\n",
              "      <th>234</th>\n",
              "      <td>gdrive/MyDrive/Voice Inputs/Kanishk/Kanishk_51...</td>\n",
              "      <td>Kanishk</td>\n",
              "      <td>Kanishk</td>\n",
              "    </tr>\n",
              "    <tr>\n",
              "      <th>235</th>\n",
              "      <td>gdrive/MyDrive/Voice Inputs/Kayan/Kayan_7415.wav</td>\n",
              "      <td>Kayan</td>\n",
              "      <td>Kayan</td>\n",
              "    </tr>\n",
              "    <tr>\n",
              "      <th>236</th>\n",
              "      <td>gdrive/MyDrive/Voice Inputs/Kanishk/Kanishk_13...</td>\n",
              "      <td>Kanishk</td>\n",
              "      <td>Kanishk</td>\n",
              "    </tr>\n",
              "    <tr>\n",
              "      <th>237</th>\n",
              "      <td>gdrive/MyDrive/Voice Inputs/Aayush/Aayush_3959...</td>\n",
              "      <td>Aayush</td>\n",
              "      <td>Aayush</td>\n",
              "    </tr>\n",
              "    <tr>\n",
              "      <th>238</th>\n",
              "      <td>gdrive/MyDrive/Voice Inputs/Kanishk/Kanishk_87...</td>\n",
              "      <td>Kanishk</td>\n",
              "      <td>Kanishk</td>\n",
              "    </tr>\n",
              "    <tr>\n",
              "      <th>239</th>\n",
              "      <td>gdrive/MyDrive/Voice Inputs/Aayush/Aayush_203.wav</td>\n",
              "      <td>Aayush</td>\n",
              "      <td>Aayush</td>\n",
              "    </tr>\n",
              "    <tr>\n",
              "      <th>240</th>\n",
              "      <td>gdrive/MyDrive/Voice Inputs/Kayan/Kayan_5745.wav</td>\n",
              "      <td>Kayan</td>\n",
              "      <td>Kayan</td>\n",
              "    </tr>\n",
              "    <tr>\n",
              "      <th>241</th>\n",
              "      <td>gdrive/MyDrive/Voice Inputs/Aayush/Aayush_4931...</td>\n",
              "      <td>Aayush</td>\n",
              "      <td>Aayush</td>\n",
              "    </tr>\n",
              "  </tbody>\n",
              "</table>\n",
              "</div>"
            ],
            "text/plain": [
              "                                                  file  speaker    preds\n",
              "205  gdrive/MyDrive/Voice Inputs/Kanishk/Kanishk_40...  Kanishk  Kanishk\n",
              "206  gdrive/MyDrive/Voice Inputs/Kanishk/Kanishk_55...  Kanishk  Kanishk\n",
              "207  gdrive/MyDrive/Voice Inputs/Aayush/Aayush_738.wav   Aayush   Aayush\n",
              "208  gdrive/MyDrive/Voice Inputs/Kanishk/Kanishk_71...  Kanishk  Kanishk\n",
              "209  gdrive/MyDrive/Voice Inputs/Kanishk/Kanishk_34...  Kanishk  Kanishk\n",
              "210   gdrive/MyDrive/Voice Inputs/Rohit/Rohit_2273.wav    Rohit    Rohit\n",
              "211   gdrive/MyDrive/Voice Inputs/Kayan/Kayan_5120.wav    Kayan    Kayan\n",
              "212   gdrive/MyDrive/Voice Inputs/Rohit/Rohit_4782.wav    Rohit    Rohit\n",
              "213    gdrive/MyDrive/Voice Inputs/Kayan/Kayan_763.wav    Kayan    Kayan\n",
              "214   gdrive/MyDrive/Voice Inputs/Kayan/Kayan_5998.wav    Kayan    Kayan\n",
              "215  gdrive/MyDrive/Voice Inputs/Aayush/Aayush_2449...   Aayush   Aayush\n",
              "216  gdrive/MyDrive/Voice Inputs/Kanishk/Kanishk_52...  Kanishk  Kanishk\n",
              "217   gdrive/MyDrive/Voice Inputs/Kayan/Kayan_8652.wav    Kayan    Kayan\n",
              "218   gdrive/MyDrive/Voice Inputs/Rohit/Rohit_3338.wav    Rohit    Rohit\n",
              "219  gdrive/MyDrive/Voice Inputs/Kanishk/Kanishk_16...  Kanishk  Kanishk\n",
              "220  gdrive/MyDrive/Voice Inputs/Kanishk/Kanishk_64...  Kanishk  Kanishk\n",
              "221   gdrive/MyDrive/Voice Inputs/Kayan/Kayan_8854.wav    Kayan    Kayan\n",
              "222  gdrive/MyDrive/Voice Inputs/Aayush/Aayush_310.wav   Aayush   Aayush\n",
              "223   gdrive/MyDrive/Voice Inputs/Kayan/Kayan_6622.wav    Kayan    Kayan\n",
              "224  gdrive/MyDrive/Voice Inputs/Aayush/Aayush_5341...   Aayush   Aayush\n",
              "225  gdrive/MyDrive/Voice Inputs/Aayush/Aayush_3295...   Aayush   Aayush\n",
              "226  gdrive/MyDrive/Voice Inputs/Aayush/Aayush_1146...   Aayush   Aayush\n",
              "227  gdrive/MyDrive/Voice Inputs/Aayush/Aayush_683.wav   Aayush    Kayan\n",
              "228   gdrive/MyDrive/Voice Inputs/Rohit/Rohit_5838.wav    Rohit    Rohit\n",
              "229  gdrive/MyDrive/Voice Inputs/Kanishk/Kanishk_49...  Kanishk  Kanishk\n",
              "230   gdrive/MyDrive/Voice Inputs/Rohit/Rohit_1867.wav    Rohit    Rohit\n",
              "231   gdrive/MyDrive/Voice Inputs/Rohit/Rohit_5608.wav    Rohit    Rohit\n",
              "232  gdrive/MyDrive/Voice Inputs/Aayush/Aayush_8060...   Aayush   Aayush\n",
              "233    gdrive/MyDrive/Voice Inputs/Rohit/Rohit_186.wav    Rohit    Rohit\n",
              "234  gdrive/MyDrive/Voice Inputs/Kanishk/Kanishk_51...  Kanishk  Kanishk\n",
              "235   gdrive/MyDrive/Voice Inputs/Kayan/Kayan_7415.wav    Kayan    Kayan\n",
              "236  gdrive/MyDrive/Voice Inputs/Kanishk/Kanishk_13...  Kanishk  Kanishk\n",
              "237  gdrive/MyDrive/Voice Inputs/Aayush/Aayush_3959...   Aayush   Aayush\n",
              "238  gdrive/MyDrive/Voice Inputs/Kanishk/Kanishk_87...  Kanishk  Kanishk\n",
              "239  gdrive/MyDrive/Voice Inputs/Aayush/Aayush_203.wav   Aayush   Aayush\n",
              "240   gdrive/MyDrive/Voice Inputs/Kayan/Kayan_5745.wav    Kayan    Kayan\n",
              "241  gdrive/MyDrive/Voice Inputs/Aayush/Aayush_4931...   Aayush   Aayush"
            ]
          },
          "metadata": {
            "tags": []
          },
          "execution_count": 30
        }
      ]
    },
    {
      "cell_type": "code",
      "metadata": {
        "colab": {
          "base_uri": "https://localhost:8080/",
          "height": 80
        },
        "id": "wr5WMkkgJZiR",
        "outputId": "d5bb10b5-3b4e-4035-b87a-f6a88d32fe6d"
      },
      "source": [
        "# Checking how many speakers we got wrong\n",
        "df_test[df_test['speaker'] != df_test['preds']]\n"
      ],
      "execution_count": null,
      "outputs": [
        {
          "output_type": "execute_result",
          "data": {
            "text/html": [
              "<div>\n",
              "<style scoped>\n",
              "    .dataframe tbody tr th:only-of-type {\n",
              "        vertical-align: middle;\n",
              "    }\n",
              "\n",
              "    .dataframe tbody tr th {\n",
              "        vertical-align: top;\n",
              "    }\n",
              "\n",
              "    .dataframe thead th {\n",
              "        text-align: right;\n",
              "    }\n",
              "</style>\n",
              "<table border=\"1\" class=\"dataframe\">\n",
              "  <thead>\n",
              "    <tr style=\"text-align: right;\">\n",
              "      <th></th>\n",
              "      <th>file</th>\n",
              "      <th>speaker</th>\n",
              "      <th>preds</th>\n",
              "    </tr>\n",
              "  </thead>\n",
              "  <tbody>\n",
              "    <tr>\n",
              "      <th>227</th>\n",
              "      <td>gdrive/MyDrive/Voice Inputs/Aayush/Aayush_683.wav</td>\n",
              "      <td>Aayush</td>\n",
              "      <td>Kayan</td>\n",
              "    </tr>\n",
              "  </tbody>\n",
              "</table>\n",
              "</div>"
            ],
            "text/plain": [
              "                                                  file speaker  preds\n",
              "227  gdrive/MyDrive/Voice Inputs/Aayush/Aayush_683.wav  Aayush  Kayan"
            ]
          },
          "metadata": {
            "tags": []
          },
          "execution_count": 31
        }
      ]
    },
    {
      "cell_type": "code",
      "metadata": {
        "colab": {
          "base_uri": "https://localhost:8080/"
        },
        "id": "u9C0g6BiJbBl",
        "outputId": "d3c19de2-c2b8-48b8-95c1-0c5fd7d1f239"
      },
      "source": [
        "# Checking our model accuracy\n",
        "1-round(len(df_test[df_test['speaker'] != df_test['preds']])/len(df_test),3)"
      ],
      "execution_count": null,
      "outputs": [
        {
          "output_type": "execute_result",
          "data": {
            "text/plain": [
              "0.973"
            ]
          },
          "metadata": {
            "tags": []
          },
          "execution_count": 32
        }
      ]
    }
  ]
}