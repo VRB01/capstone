{
  "nbformat": 4,
  "nbformat_minor": 0,
  "metadata": {
    "colab": {
      "name": "Tranformer_ourdataset.ipynb",
      "provenance": [],
      "collapsed_sections": [],
      "authorship_tag": "ABX9TyNRdWviMgbeab7JSBeadMhA",
      "include_colab_link": true
    },
    "kernelspec": {
      "name": "python3",
      "display_name": "Python 3"
    }
  },
  "cells": [
    {
      "cell_type": "markdown",
      "metadata": {
        "id": "view-in-github",
        "colab_type": "text"
      },
      "source": [
        "<a href=\"https://colab.research.google.com/github/VRB01/capstone/blob/main/Tranformer_ourdataset.ipynb\" target=\"_parent\"><img src=\"https://colab.research.google.com/assets/colab-badge.svg\" alt=\"Open In Colab\"/></a>"
      ]
    },
    {
      "cell_type": "code",
      "metadata": {
        "colab": {
          "base_uri": "https://localhost:8080/"
        },
        "id": "la_pE8SZtRHO",
        "outputId": "66bfe9cc-084b-405c-c04a-3f8f3ea0fdd2"
      },
      "source": [
        "import IPython.display as ipd\n",
        "# % pylab inline\n",
        "import os\n",
        "import pandas as pd\n",
        "import librosa\n",
        "import glob \n",
        "import librosa.display\n",
        "import random\n",
        "\n",
        "from sklearn.preprocessing import StandardScaler\n",
        "from sklearn.model_selection import train_test_split\n",
        "\n",
        "from keras.utils.np_utils import to_categorical\n",
        "\n",
        "import numpy as np\n",
        "from keras.models import Sequential\n",
        "from keras.layers import Dense, Dropout, Activation, Flatten\n",
        "from keras.layers import Convolution2D, MaxPooling2D\n",
        "from keras.optimizers import Adam\n",
        "from keras.utils import np_utils\n",
        "from sklearn import metrics \n",
        "\n",
        "from sklearn.datasets import make_regression\n",
        "from sklearn.preprocessing import StandardScaler\n",
        "from sklearn import metrics\n",
        "from sklearn.model_selection import train_test_split, GridSearchCV\n",
        "\n",
        "from tensorflow.keras.models import Sequential\n",
        "from tensorflow.keras.layers import Dense, Dropout \n",
        "from tensorflow.keras.wrappers.scikit_learn import KerasRegressor\n",
        "\n",
        "from keras.callbacks import EarlyStopping\n",
        "\n",
        "from keras import regularizers\n",
        "\n",
        "from sklearn.preprocessing import LabelEncoder\n",
        "\n",
        "from datetime import datetime\n",
        "\n",
        "import os\n",
        "import numpy\n",
        "from keras.models import Sequential\n",
        "from keras.layers import LSTM\n",
        "from keras.datasets import imdb\n",
        "from keras.layers import Dense\n",
        "import tensorflow as tf\n",
        "import numpy as np\n",
        "import pandas as pd \n",
        "import os\n",
        "import librosa\n",
        "import matplotlib.pyplot as plt\n",
        "import gc\n",
        "\n",
        "from tqdm import tqdm, tqdm_notebook\n",
        "from sklearn.metrics import label_ranking_average_precision_score\n",
        "from sklearn.model_selection import train_test_split\n",
        "from sklearn.preprocessing import MultiLabelBinarizer\n",
        "from sklearn.model_selection import train_test_split\n",
        "\n",
        "import zipfile\n",
        "\n",
        "tqdm.pandas()"
      ],
      "execution_count": null,
      "outputs": [
        {
          "output_type": "stream",
          "text": [
            "/usr/local/lib/python3.7/dist-packages/tqdm/std.py:658: FutureWarning: The Panel class is removed from pandas. Accessing it from the top-level namespace will also be removed in the next version\n",
            "  from pandas import Panel\n"
          ],
          "name": "stderr"
        }
      ]
    },
    {
      "cell_type": "code",
      "metadata": {
        "colab": {
          "base_uri": "https://localhost:8080/"
        },
        "id": "9tUYi9u-tXnw",
        "outputId": "aece32e4-5cc3-4689-995e-a8d5d934aeea"
      },
      "source": [
        "from google.colab import drive\n",
        "drive.mount('/content/gdrive')"
      ],
      "execution_count": null,
      "outputs": [
        {
          "output_type": "stream",
          "text": [
            "Mounted at /content/gdrive\n"
          ],
          "name": "stdout"
        }
      ]
    },
    {
      "cell_type": "code",
      "metadata": {
        "id": "FFFrVhQLtdQk"
      },
      "source": [
        "Directory = 'gdrive/MyDrive/Voice Inputs'\n",
        "Dataset = os.listdir(Directory)"
      ],
      "execution_count": null,
      "outputs": []
    },
    {
      "cell_type": "code",
      "metadata": {
        "id": "Mjz8VWmRtdbI"
      },
      "source": [
        "audio_list = []\n",
        "speakers = []\n",
        "for speaker in Dataset:\n",
        "  audios = os.listdir(Directory+'/'+speaker)\n",
        "  for audio in audios:\n",
        "    if(audio.endswith('.wav')):\n",
        "      audio_list.append(Directory+'/'+speaker+'/'+audio)\n",
        "      speakers.append(audio.split('_')[0])"
      ],
      "execution_count": null,
      "outputs": []
    },
    {
      "cell_type": "code",
      "metadata": {
        "colab": {
          "base_uri": "https://localhost:8080/"
        },
        "id": "TK_u_tXNtdj3",
        "outputId": "5b32acf3-94ee-43dc-a4cf-6758101ab926"
      },
      "source": [
        "audio_list = pd.DataFrame(audio_list)\n",
        "audio_list = audio_list.rename(columns={0:'file'})\n",
        "#len(audio_list)\n",
        "len(speakers)"
      ],
      "execution_count": null,
      "outputs": [
        {
          "output_type": "execute_result",
          "data": {
            "text/plain": [
              "242"
            ]
          },
          "metadata": {
            "tags": []
          },
          "execution_count": 5
        }
      ]
    },
    {
      "cell_type": "code",
      "metadata": {
        "colab": {
          "base_uri": "https://localhost:8080/",
          "height": 419
        },
        "id": "OO896Lzttdrs",
        "outputId": "d899aa0f-2e8d-4233-a2ad-cc6526d4ccab"
      },
      "source": [
        "audio_list['speaker'] = speakers\n",
        "df = audio_list.sample(frac=1, random_state=42).reset_index(drop=True)\n",
        "df = df[:12000]\n",
        "df_train = df[:8000] #19984:\n",
        "df_validation = df[8000:11000] #19984:25694\n",
        "df_test = df[11000:12000] #25694:\n",
        "labels = df['speaker']\n",
        "Counter = 1\n",
        "df"
      ],
      "execution_count": null,
      "outputs": [
        {
          "output_type": "execute_result",
          "data": {
            "text/html": [
              "<div>\n",
              "<style scoped>\n",
              "    .dataframe tbody tr th:only-of-type {\n",
              "        vertical-align: middle;\n",
              "    }\n",
              "\n",
              "    .dataframe tbody tr th {\n",
              "        vertical-align: top;\n",
              "    }\n",
              "\n",
              "    .dataframe thead th {\n",
              "        text-align: right;\n",
              "    }\n",
              "</style>\n",
              "<table border=\"1\" class=\"dataframe\">\n",
              "  <thead>\n",
              "    <tr style=\"text-align: right;\">\n",
              "      <th></th>\n",
              "      <th>file</th>\n",
              "      <th>speaker</th>\n",
              "    </tr>\n",
              "  </thead>\n",
              "  <tbody>\n",
              "    <tr>\n",
              "      <th>0</th>\n",
              "      <td>gdrive/MyDrive/Voice Inputs/Kanishk/Kanishk_13...</td>\n",
              "      <td>Kanishk</td>\n",
              "    </tr>\n",
              "    <tr>\n",
              "      <th>1</th>\n",
              "      <td>gdrive/MyDrive/Voice Inputs/Kanishk/Kanishk_39...</td>\n",
              "      <td>Kanishk</td>\n",
              "    </tr>\n",
              "    <tr>\n",
              "      <th>2</th>\n",
              "      <td>gdrive/MyDrive/Voice Inputs/Kayan/Kayan_3822.wav</td>\n",
              "      <td>Kayan</td>\n",
              "    </tr>\n",
              "    <tr>\n",
              "      <th>3</th>\n",
              "      <td>gdrive/MyDrive/Voice Inputs/Rohit/Rohit_6461.wav</td>\n",
              "      <td>Rohit</td>\n",
              "    </tr>\n",
              "    <tr>\n",
              "      <th>4</th>\n",
              "      <td>gdrive/MyDrive/Voice Inputs/Rohit/Rohit_3700.wav</td>\n",
              "      <td>Rohit</td>\n",
              "    </tr>\n",
              "    <tr>\n",
              "      <th>...</th>\n",
              "      <td>...</td>\n",
              "      <td>...</td>\n",
              "    </tr>\n",
              "    <tr>\n",
              "      <th>237</th>\n",
              "      <td>gdrive/MyDrive/Voice Inputs/Aayush/Aayush_3959...</td>\n",
              "      <td>Aayush</td>\n",
              "    </tr>\n",
              "    <tr>\n",
              "      <th>238</th>\n",
              "      <td>gdrive/MyDrive/Voice Inputs/Kanishk/Kanishk_87...</td>\n",
              "      <td>Kanishk</td>\n",
              "    </tr>\n",
              "    <tr>\n",
              "      <th>239</th>\n",
              "      <td>gdrive/MyDrive/Voice Inputs/Aayush/Aayush_203.wav</td>\n",
              "      <td>Aayush</td>\n",
              "    </tr>\n",
              "    <tr>\n",
              "      <th>240</th>\n",
              "      <td>gdrive/MyDrive/Voice Inputs/Kayan/Kayan_5745.wav</td>\n",
              "      <td>Kayan</td>\n",
              "    </tr>\n",
              "    <tr>\n",
              "      <th>241</th>\n",
              "      <td>gdrive/MyDrive/Voice Inputs/Aayush/Aayush_4931...</td>\n",
              "      <td>Aayush</td>\n",
              "    </tr>\n",
              "  </tbody>\n",
              "</table>\n",
              "<p>242 rows × 2 columns</p>\n",
              "</div>"
            ],
            "text/plain": [
              "                                                  file  speaker\n",
              "0    gdrive/MyDrive/Voice Inputs/Kanishk/Kanishk_13...  Kanishk\n",
              "1    gdrive/MyDrive/Voice Inputs/Kanishk/Kanishk_39...  Kanishk\n",
              "2     gdrive/MyDrive/Voice Inputs/Kayan/Kayan_3822.wav    Kayan\n",
              "3     gdrive/MyDrive/Voice Inputs/Rohit/Rohit_6461.wav    Rohit\n",
              "4     gdrive/MyDrive/Voice Inputs/Rohit/Rohit_3700.wav    Rohit\n",
              "..                                                 ...      ...\n",
              "237  gdrive/MyDrive/Voice Inputs/Aayush/Aayush_3959...   Aayush\n",
              "238  gdrive/MyDrive/Voice Inputs/Kanishk/Kanishk_87...  Kanishk\n",
              "239  gdrive/MyDrive/Voice Inputs/Aayush/Aayush_203.wav   Aayush\n",
              "240   gdrive/MyDrive/Voice Inputs/Kayan/Kayan_5745.wav    Kayan\n",
              "241  gdrive/MyDrive/Voice Inputs/Aayush/Aayush_4931...   Aayush\n",
              "\n",
              "[242 rows x 2 columns]"
            ]
          },
          "metadata": {
            "tags": []
          },
          "execution_count": 6
        }
      ]
    },
    {
      "cell_type": "code",
      "metadata": {
        "id": "I-7hFvf9vHX9"
      },
      "source": [
        "def scaled_dot_product_attention(query, key, value, mask): #Query and Key are . to produce dynamically attended weights\n",
        "  matmul_qk = tf.matmul(query, key, transpose_b=True)\n",
        "  #Scaled is just a normalisation of the DPA to get the values [0,1]\n",
        "  depth = tf.cast(tf.shape(key)[-1], tf.float32)\n",
        "  logits = matmul_qk / tf.math.sqrt(depth) #To avoid a large magnitude of numbers with large dimensions\n",
        "\n",
        "  # add the mask zero out padding tokens.\n",
        "  if mask is not None:\n",
        "    logits += (mask * -1e9)\n",
        "\n",
        "  attention_weights = tf.nn.softmax(logits, axis=-1)\n",
        "\n",
        "  return tf.matmul(attention_weights, value)# mul with value to get context vector"
      ],
      "execution_count": null,
      "outputs": []
    },
    {
      "cell_type": "code",
      "metadata": {
        "id": "C6aq_FFsvHt7"
      },
      "source": [
        "class MultiHeadAttention(tf.keras.layers.Layer):\n",
        "#Like you have several kernels in CNN, we can have several self attended layers in a transformer model\n",
        "  def __init__(self, d_model, num_heads, name=\"multi_head_attention\"):\n",
        "    super(MultiHeadAttention, self).__init__(name=name)\n",
        "    self.num_heads = num_heads\n",
        "    self.d_model = d_model\n",
        "\n",
        "    assert d_model % self.num_heads == 0\n",
        "\n",
        "    self.depth = d_model // self.num_heads\n",
        "\n",
        "    self.query_dense = tf.keras.layers.Dense(units=d_model)\n",
        "    self.key_dense = tf.keras.layers.Dense(units=d_model)\n",
        "    self.value_dense = tf.keras.layers.Dense(units=d_model)\n",
        "\n",
        "    self.dense = tf.keras.layers.Dense(units=d_model)\n",
        "\n",
        "  def split_heads(self, inputs, batch_size):\n",
        "    inputs = tf.reshape(\n",
        "        inputs, shape=(batch_size, -1, self.num_heads, self.depth))\n",
        "    return tf.transpose(inputs, perm=[0, 2, 1, 3])\n",
        "\n",
        "  def call(self, inputs):\n",
        "    query, key, value, mask = inputs['query'], inputs['key'], inputs[\n",
        "        'value'], inputs['mask']\n",
        "    batch_size = tf.shape(query)[0]\n",
        "\n",
        "    # linear layers\n",
        "    query = self.query_dense(query)\n",
        "    key = self.key_dense(key)\n",
        "    value = self.value_dense(value)\n",
        "\n",
        "    # split heads\n",
        "    query = self.split_heads(query, batch_size)\n",
        "    key = self.split_heads(key, batch_size)\n",
        "    value = self.split_heads(value, batch_size)\n",
        "\n",
        "    scaled_attention = scaled_dot_product_attention(query, key, value, mask)\n",
        "\n",
        "    scaled_attention = tf.transpose(scaled_attention, perm=[0, 2, 1, 3])\n",
        "  #Concat each of the encodings and reduce their dimension to keep a track of less/more important features\n",
        "  #Like a projection layer\n",
        "    concat_attention = tf.reshape(scaled_attention,\n",
        "                                  (batch_size, -1, self.d_model))\n",
        "\n",
        "    outputs = self.dense(concat_attention)\n",
        "\n",
        "    return outputs"
      ],
      "execution_count": null,
      "outputs": []
    },
    {
      "cell_type": "code",
      "metadata": {
        "id": "-kmbAMQsvHzX"
      },
      "source": [
        "class PositionalEncoding(tf.keras.layers.Layer):\n",
        "#How do we keep a track of the sequence -> dogs chase cat, cat chase dog\n",
        "  def __init__(self, position, d_model):\n",
        "    super(PositionalEncoding, self).__init__()\n",
        "    self.pos_encoding = self.positional_encoding(position, d_model)\n",
        "\n",
        "  def get_angles(self, position, i, d_model):\n",
        "    angles = 1 / tf.pow(10000, (2 * (i // 2)) / tf.cast(d_model, tf.float32))\n",
        "    return position * angles\n",
        "\n",
        "  def positional_encoding(self, position, d_model):\n",
        "    angle_rads = self.get_angles(\n",
        "        position=tf.range(position, dtype=tf.float32)[:, tf.newaxis],\n",
        "        i=tf.range(d_model, dtype=tf.float32)[tf.newaxis, :],\n",
        "        d_model=d_model)\n",
        "    #Positional encodings typically encode the position of the tokens and they can be summed with the same dimensional token\n",
        "    #Effectively injecting the posiitonal encodings\n",
        "    # apply sin to even index in the array\n",
        "    sines = tf.math.sin(angle_rads[:, 0::2])\n",
        "    # apply cos to odd index in the array\n",
        "    cosines = tf.math.cos(angle_rads[:, 1::2])\n",
        "\n",
        "    pos_encoding = tf.concat([sines, cosines], axis=-1)\n",
        "    pos_encoding = pos_encoding[tf.newaxis, ...]\n",
        "    return tf.cast(pos_encoding, tf.float32)\n",
        "\n",
        "  def call(self, inputs):\n",
        "    return inputs + self.pos_encoding[:, :tf.shape(inputs)[1], :]"
      ],
      "execution_count": null,
      "outputs": []
    },
    {
      "cell_type": "code",
      "metadata": {
        "id": "6OdY44ExvH31"
      },
      "source": [
        "# This allows to the transformer to know where there is real data and where it is padded\n",
        "def create_padding_mask(seq):\n",
        "  seq = tf.cast(tf.math.equal(seq, 0), tf.float32)\n",
        "  \n",
        "  # add extra dimensions to add the padding\n",
        "  # to the attention logits.\n",
        "  return seq[:, tf.newaxis, tf.newaxis, :]  # (batch_size, 1, 1, seq_len)"
      ],
      "execution_count": null,
      "outputs": []
    },
    {
      "cell_type": "code",
      "metadata": {
        "id": "7tcr0t0ivH9C"
      },
      "source": [
        "def encoder_layer(units, d_model, num_heads, dropout,name=\"encoder_layer\"):\n",
        "  inputs = tf.keras.Input(shape=(None,d_model ), name=\"inputs\")\n",
        "  padding_mask = tf.keras.Input(shape=(1, 1, None), name=\"padding_mask\")\n",
        "\n",
        "  attention = MultiHeadAttention(\n",
        "      d_model, num_heads, name=\"attention\")({\n",
        "          'query': inputs,\n",
        "          'key': inputs,\n",
        "          'value': inputs,\n",
        "          'mask': padding_mask\n",
        "      })\n",
        "  attention = tf.keras.layers.Dropout(rate=dropout)(attention)\n",
        "  attention = tf.keras.layers.LayerNormalization(\n",
        "      epsilon=1e-6)(inputs + attention)\n",
        "\n",
        "  outputs = tf.keras.layers.Dense(units=units, activation='relu')(attention)\n",
        "  outputs = tf.keras.layers.Dense(units=d_model)(outputs)\n",
        "  outputs = tf.keras.layers.Dropout(rate=dropout)(outputs)\n",
        "  outputs = tf.keras.layers.LayerNormalization(\n",
        "      epsilon=1e-6)(attention + outputs)\n",
        "\n",
        "  return tf.keras.Model(\n",
        "      inputs=[inputs, padding_mask], outputs=outputs, name=name)"
      ],
      "execution_count": null,
      "outputs": []
    },
    {
      "cell_type": "code",
      "metadata": {
        "id": "VmymY4MmvboM"
      },
      "source": [
        "def encoder(time_steps,\n",
        "            num_layers,\n",
        "            units,\n",
        "            d_model,\n",
        "            num_heads,\n",
        "            dropout,\n",
        "            projection,\n",
        "            name=\"encoder\"):\n",
        "  inputs = tf.keras.Input(shape=(None,d_model), name=\"inputs\")\n",
        "  padding_mask = tf.keras.Input(shape=(1, 1, None), name=\"padding_mask\")\n",
        "  \n",
        "  if projection=='linear':\n",
        "    ## We implement a linear projection based on Very Deep Self-Attention Networks for End-to-End Speech Recognition. Retrieved from https://arxiv.org/abs/1904.13377\n",
        "    projection=tf.keras.layers.Dense( d_model,use_bias=True, activation='linear')(inputs)\n",
        "    print('linear')\n",
        "  \n",
        "  else:\n",
        "    projection=tf.identity(inputs)\n",
        "    print('none')\n",
        "   \n",
        "  projection *= tf.math.sqrt(tf.cast(d_model, tf.float32))\n",
        "  projection = PositionalEncoding(time_steps, d_model)(projection)\n",
        "\n",
        "  outputs = tf.keras.layers.Dropout(rate=dropout)(projection)\n",
        "\n",
        "  for i in range(num_layers):\n",
        "    outputs = encoder_layer(\n",
        "        units=units,\n",
        "        d_model=d_model,\n",
        "        num_heads=num_heads,\n",
        "        dropout=dropout,\n",
        "        name=\"encoder_layer_{}\".format(i),\n",
        "    )([outputs, padding_mask])\n",
        " \n",
        " \n",
        "  \n",
        "\n",
        " \n",
        "  return tf.keras.Model(\n",
        "      inputs=[inputs, padding_mask], outputs=outputs, name=name)"
      ],
      "execution_count": null,
      "outputs": []
    },
    {
      "cell_type": "code",
      "metadata": {
        "id": "xER6o2uIvbq6"
      },
      "source": [
        "def transformer(time_steps,\n",
        "                num_layers,\n",
        "                units,\n",
        "                d_model,\n",
        "                num_heads,\n",
        "                dropout,\n",
        "                output_size,\n",
        "                projection,\n",
        "                name=\"transformer\"):\n",
        "  inputs = tf.keras.Input(shape=(None,d_model), name=\"inputs\")\n",
        "  \n",
        "  \n",
        "  enc_padding_mask = tf.keras.layers.Lambda(\n",
        "      create_padding_mask, output_shape=(1, 1, None),\n",
        "      name='enc_padding_mask')(tf.dtypes.cast(\n",
        "          \n",
        "    #Like our input has a dimension of length X d_model but the masking is applied to a vector\n",
        "    # We get the sum for each row and result is a vector. So, if result is 0 it is because in that position was masked      \n",
        "    tf.math.reduce_sum(\n",
        "    inputs,\n",
        "    axis=2,\n",
        "    keepdims=False,\n",
        "    name=None\n",
        "), tf.int32))\n",
        "  \n",
        "\n",
        "  enc_outputs = encoder(\n",
        "      time_steps=time_steps,\n",
        "      num_layers=num_layers,\n",
        "      units=units,\n",
        "      d_model=d_model,\n",
        "      num_heads=num_heads,\n",
        "      dropout=dropout,\n",
        "      projection=projection,\n",
        "      name='encoder'\n",
        "  )(inputs=[inputs, enc_padding_mask])\n",
        "\n",
        "  #We reshape for feeding our FC in the next step\n",
        "  outputs=tf.reshape(enc_outputs,(-1,time_steps*d_model))\n",
        "  \n",
        "  #We predict our class\n",
        "  outputs = tf.keras.layers.Dense(units=output_size,use_bias=True,activation='softmax', name=\"outputs\")(outputs)\n",
        "\n",
        "  return tf.keras.Model(inputs=[inputs], outputs=outputs, name='audio_class')"
      ],
      "execution_count": null,
      "outputs": []
    },
    {
      "cell_type": "code",
      "metadata": {
        "id": "mgTvkyLuvbtl"
      },
      "source": [
        ""
      ],
      "execution_count": null,
      "outputs": []
    },
    {
      "cell_type": "code",
      "metadata": {
        "id": "lsO8XZFKtdzB"
      },
      "source": [
        "def extract_features(files):\n",
        "    \n",
        "    # Sets the name to be the path to where the file is in my computer\n",
        "    file_name = os.path.join(str(files.file))\n",
        "    global Counter\n",
        "    if(Counter%10==0):\n",
        "      print(Counter)\n",
        "    Counter+=1\n",
        "\n",
        "    # Loads the audio file as a floating point time series and assigns the default sample rate\n",
        "    # Sample rate is set to 22050 by default\n",
        "    X, sample_rate = librosa.load(file_name, res_type='kaiser_fast') \n",
        "\n",
        "    # Generate Mel-frequency cepstral coefficients (MFCCs) from a time series \n",
        "    #mfccs = np.mean(librosa.feature.mfcc(y=X, sr=sample_rate, n_mfcc=40).T,axis=0)\n",
        "\n",
        "    # Generates a Short-time Fourier transform (STFT) to use in the chroma_stft\n",
        "    #stft = np.abs(librosa.stft(X))\n",
        "\n",
        "    # Computes a chromagram from a waveform or power spectrogram.\n",
        "    #chroma = np.mean(librosa.feature.chroma_stft(S=stft, sr=sample_rate).T,axis=0)\n",
        "\n",
        "    # Computes a mel-scaled spectrogram.\n",
        "    mel = np.mean(librosa.feature.melspectrogram(X, sr=sample_rate).T,axis=0)\n",
        "\n",
        "    # Computes spectral contrast\n",
        "    #contrast = np.mean(librosa.feature.spectral_contrast(S=stft, sr=sample_rate).T,axis=0)\n",
        "\n",
        "    # Computes the tonal centroid features (tonnetz)\n",
        "    #tonnetz = np.mean(librosa.feature.tonnetz(y=librosa.effects.harmonic(X),\n",
        "    #sr=sample_rate).T,axis=0)\n",
        "        \n",
        "    \n",
        "    # We add also the classes of each file as a label at the end\n",
        "    #label = files.label\n",
        "\n",
        "    return mel"
      ],
      "execution_count": null,
      "outputs": []
    },
    {
      "cell_type": "code",
      "metadata": {
        "colab": {
          "base_uri": "https://localhost:8080/"
        },
        "id": "cXrv2HkXtd5n",
        "outputId": "13866c15-53a4-4242-a03c-9acc64852dd3"
      },
      "source": [
        "startTime = datetime.now()\n",
        "# Applying the function to the train data by accessing each row of the dataframe\n",
        "features_label = df.apply(extract_features, axis=1)\n",
        "print(datetime.now() - startTime)"
      ],
      "execution_count": null,
      "outputs": [
        {
          "output_type": "stream",
          "text": [
            "10\n",
            "20\n",
            "30\n"
          ],
          "name": "stdout"
        },
        {
          "output_type": "stream",
          "text": [
            "/usr/local/lib/python3.7/dist-packages/librosa/core/audio.py:162: UserWarning: PySoundFile failed. Trying audioread instead.\n",
            "  warnings.warn(\"PySoundFile failed. Trying audioread instead.\")\n"
          ],
          "name": "stderr"
        },
        {
          "output_type": "stream",
          "text": [
            "40\n",
            "50\n"
          ],
          "name": "stdout"
        },
        {
          "output_type": "stream",
          "text": [
            "/usr/local/lib/python3.7/dist-packages/librosa/core/audio.py:162: UserWarning: PySoundFile failed. Trying audioread instead.\n",
            "  warnings.warn(\"PySoundFile failed. Trying audioread instead.\")\n"
          ],
          "name": "stderr"
        },
        {
          "output_type": "stream",
          "text": [
            "60\n"
          ],
          "name": "stdout"
        },
        {
          "output_type": "stream",
          "text": [
            "/usr/local/lib/python3.7/dist-packages/librosa/core/audio.py:162: UserWarning: PySoundFile failed. Trying audioread instead.\n",
            "  warnings.warn(\"PySoundFile failed. Trying audioread instead.\")\n"
          ],
          "name": "stderr"
        },
        {
          "output_type": "stream",
          "text": [
            "70\n"
          ],
          "name": "stdout"
        },
        {
          "output_type": "stream",
          "text": [
            "/usr/local/lib/python3.7/dist-packages/librosa/core/audio.py:162: UserWarning: PySoundFile failed. Trying audioread instead.\n",
            "  warnings.warn(\"PySoundFile failed. Trying audioread instead.\")\n"
          ],
          "name": "stderr"
        },
        {
          "output_type": "stream",
          "text": [
            "80\n",
            "90\n"
          ],
          "name": "stdout"
        },
        {
          "output_type": "stream",
          "text": [
            "/usr/local/lib/python3.7/dist-packages/librosa/core/audio.py:162: UserWarning: PySoundFile failed. Trying audioread instead.\n",
            "  warnings.warn(\"PySoundFile failed. Trying audioread instead.\")\n"
          ],
          "name": "stderr"
        },
        {
          "output_type": "stream",
          "text": [
            "100\n",
            "110\n"
          ],
          "name": "stdout"
        },
        {
          "output_type": "stream",
          "text": [
            "/usr/local/lib/python3.7/dist-packages/librosa/core/audio.py:162: UserWarning: PySoundFile failed. Trying audioread instead.\n",
            "  warnings.warn(\"PySoundFile failed. Trying audioread instead.\")\n"
          ],
          "name": "stderr"
        },
        {
          "output_type": "stream",
          "text": [
            "120\n"
          ],
          "name": "stdout"
        },
        {
          "output_type": "stream",
          "text": [
            "/usr/local/lib/python3.7/dist-packages/librosa/core/audio.py:162: UserWarning: PySoundFile failed. Trying audioread instead.\n",
            "  warnings.warn(\"PySoundFile failed. Trying audioread instead.\")\n"
          ],
          "name": "stderr"
        },
        {
          "output_type": "stream",
          "text": [
            "130\n",
            "140\n",
            "150\n"
          ],
          "name": "stdout"
        },
        {
          "output_type": "stream",
          "text": [
            "/usr/local/lib/python3.7/dist-packages/librosa/core/audio.py:162: UserWarning: PySoundFile failed. Trying audioread instead.\n",
            "  warnings.warn(\"PySoundFile failed. Trying audioread instead.\")\n"
          ],
          "name": "stderr"
        },
        {
          "output_type": "stream",
          "text": [
            "160\n",
            "170\n",
            "180\n"
          ],
          "name": "stdout"
        },
        {
          "output_type": "stream",
          "text": [
            "/usr/local/lib/python3.7/dist-packages/librosa/core/audio.py:162: UserWarning: PySoundFile failed. Trying audioread instead.\n",
            "  warnings.warn(\"PySoundFile failed. Trying audioread instead.\")\n"
          ],
          "name": "stderr"
        },
        {
          "output_type": "stream",
          "text": [
            "190\n",
            "200\n"
          ],
          "name": "stdout"
        },
        {
          "output_type": "stream",
          "text": [
            "/usr/local/lib/python3.7/dist-packages/librosa/core/audio.py:162: UserWarning: PySoundFile failed. Trying audioread instead.\n",
            "  warnings.warn(\"PySoundFile failed. Trying audioread instead.\")\n"
          ],
          "name": "stderr"
        },
        {
          "output_type": "stream",
          "text": [
            "210\n",
            "220\n"
          ],
          "name": "stdout"
        },
        {
          "output_type": "stream",
          "text": [
            "/usr/local/lib/python3.7/dist-packages/librosa/core/audio.py:162: UserWarning: PySoundFile failed. Trying audioread instead.\n",
            "  warnings.warn(\"PySoundFile failed. Trying audioread instead.\")\n"
          ],
          "name": "stderr"
        },
        {
          "output_type": "stream",
          "text": [
            "230\n",
            "240\n",
            "0:01:13.794563\n"
          ],
          "name": "stdout"
        }
      ]
    },
    {
      "cell_type": "code",
      "metadata": {
        "id": "Quhf-QKGtyoW"
      },
      "source": [
        "# Saving the numpy array because it takes a long time to extract the features\n",
        "np.save('features_label', features_label)"
      ],
      "execution_count": null,
      "outputs": []
    },
    {
      "cell_type": "code",
      "metadata": {
        "colab": {
          "base_uri": "https://localhost:8080/"
        },
        "id": "nt9_9gomtyrG",
        "outputId": "9abcc3af-a88f-428b-d37b-ff079a3b5667"
      },
      "source": [
        "# loading the features\n",
        "features_label = np.load('features_label.npy', allow_pickle=True)\n",
        "features_label.shape"
      ],
      "execution_count": null,
      "outputs": [
        {
          "output_type": "execute_result",
          "data": {
            "text/plain": [
              "(242,)"
            ]
          },
          "metadata": {
            "tags": []
          },
          "execution_count": 17
        }
      ]
    },
    {
      "cell_type": "code",
      "metadata": {
        "colab": {
          "base_uri": "https://localhost:8080/"
        },
        "id": "Moh4UluKtyth",
        "outputId": "c55a12d6-bbf4-4d1f-c6cd-eee6c42f13cf"
      },
      "source": [
        "trial_features=[]\n",
        "for i in range(0,len(features_label)):\n",
        "  a=[]\n",
        "  a.append(features_label[i])\n",
        "  #a.append(features_label[i][1])\n",
        "  trial_features.append(a)\n",
        "xxx = np.array(trial_features)\n",
        "xxx.shape"
      ],
      "execution_count": null,
      "outputs": [
        {
          "output_type": "execute_result",
          "data": {
            "text/plain": [
              "(242, 1, 128)"
            ]
          },
          "metadata": {
            "tags": []
          },
          "execution_count": 18
        }
      ]
    },
    {
      "cell_type": "code",
      "metadata": {
        "colab": {
          "base_uri": "https://localhost:8080/"
        },
        "id": "0Zzm3hHktyvj",
        "outputId": "91aeedad-a1fb-4e00-d646-4f69defc8b3b"
      },
      "source": [
        "X = xxx\n",
        "y = np.array(labels)\n",
        "lb = LabelEncoder()\n",
        "y = to_categorical(lb.fit_transform(y))\n",
        "X.shape\n",
        "y.shape"
      ],
      "execution_count": null,
      "outputs": [
        {
          "output_type": "execute_result",
          "data": {
            "text/plain": [
              "(242, 4)"
            ]
          },
          "metadata": {
            "tags": []
          },
          "execution_count": 19
        }
      ]
    },
    {
      "cell_type": "code",
      "metadata": {
        "id": "upbVoetAzjd5"
      },
      "source": [
        "limit_1 = int(X.shape[0]*0.5)\n",
        "limit_2 = int(X.shape[0]*0.85)"
      ],
      "execution_count": null,
      "outputs": []
    },
    {
      "cell_type": "code",
      "metadata": {
        "id": "p5edl7tbzmIu"
      },
      "source": [
        "X_train = X[:limit_1]\n",
        "Y_train = y[:limit_1]\n",
        "\n",
        "X_val = X[limit_1:limit_2]\n",
        "Y_val = y[limit_1:limit_2]\n",
        "\n",
        "X_test = X[limit_2:]\n",
        "Y_test = y[limit_2:]"
      ],
      "execution_count": null,
      "outputs": []
    },
    {
      "cell_type": "code",
      "metadata": {
        "id": "BuaiS22vtyyt"
      },
      "source": [
        "# #We get our train and test set\n",
        "# X_train,X_test, Y_train, Y_test =train_test_split(X,y, test_size=0.2, random_state=27)"
      ],
      "execution_count": null,
      "outputs": []
    },
    {
      "cell_type": "code",
      "metadata": {
        "id": "SNv05hSI1_mP"
      },
      "source": [
        "projection=['linear','none']\n",
        "accuracy=[]\n",
        "proj_implemented=[]"
      ],
      "execution_count": null,
      "outputs": []
    },
    {
      "cell_type": "code",
      "metadata": {
        "colab": {
          "base_uri": "https://localhost:8080/"
        },
        "id": "djj5V3UBuMQs",
        "outputId": "c961922e-5f29-4cf6-df5d-82ce67f14079"
      },
      "source": [
        "for i in projection:\n",
        "  NUM_LAYERS = 2\n",
        "  D_MODEL = X.shape[2]\n",
        "  NUM_HEADS = 4\n",
        "  UNITS = 1024\n",
        "  DROPOUT = 0.1\n",
        "  TIME_STEPS= X.shape[1]\n",
        "  OUTPUT_SIZE=4\n",
        "  EPOCHS = 100\n",
        "  EXPERIMENTS=1\n",
        "\n",
        "  \n",
        "  for j in range(EXPERIMENTS):\n",
        "    \n",
        "    \n",
        "    model = transformer(time_steps=TIME_STEPS,\n",
        "      num_layers=NUM_LAYERS,\n",
        "      units=UNITS,\n",
        "      d_model=D_MODEL,\n",
        "      num_heads=NUM_HEADS,\n",
        "      dropout=DROPOUT,\n",
        "      output_size=OUTPUT_SIZE,  \n",
        "      projection=i)\n",
        "    \n",
        "    #model.compile(optimizer=tf.keras.optimizers.Adam(0.000001), loss='categorical_crossentropy', metrics=['accuracy'])\n",
        "    model.compile(loss='categorical_crossentropy', metrics=['accuracy'], optimizer='adam')\n",
        "\n",
        "    early_stop = EarlyStopping(monitor='val_loss', min_delta=0, patience=100, verbose=1, mode='auto')\n",
        "    #history=model.fit(X_train,Y_train, epochs=EPOCHS, validation_data=(X_test, Y_test))\n",
        "    history = model.fit(X_train, Y_train, batch_size=64, epochs=100, validation_data=(X_val, Y_val),callbacks=[early_stop])\n",
        "    \n",
        "    \n",
        "    accuracy.append(sum(history.history['val_accuracy'])/len(history.history['val_accuracy']))\n",
        "      \n",
        "    proj_implemented.append(i)\n",
        "    \n"
      ],
      "execution_count": null,
      "outputs": [
        {
          "output_type": "stream",
          "text": [
            "linear\n",
            "Epoch 1/100\n",
            "2/2 [==============================] - 4s 1s/step - loss: 2.1923 - accuracy: 0.2841 - val_loss: 1.0555 - val_accuracy: 0.7738\n",
            "Epoch 2/100\n",
            "2/2 [==============================] - 0s 62ms/step - loss: 0.6337 - accuracy: 0.8322 - val_loss: 0.6274 - val_accuracy: 0.7857\n",
            "Epoch 3/100\n",
            "2/2 [==============================] - 0s 61ms/step - loss: 0.3534 - accuracy: 0.8487 - val_loss: 0.4704 - val_accuracy: 0.8333\n",
            "Epoch 4/100\n",
            "2/2 [==============================] - 0s 58ms/step - loss: 0.1736 - accuracy: 0.9568 - val_loss: 0.2133 - val_accuracy: 0.9643\n",
            "Epoch 5/100\n",
            "2/2 [==============================] - 0s 56ms/step - loss: 0.1040 - accuracy: 0.9835 - val_loss: 0.2163 - val_accuracy: 0.9643\n",
            "Epoch 6/100\n",
            "2/2 [==============================] - 0s 57ms/step - loss: 0.1894 - accuracy: 0.9195 - val_loss: 0.1769 - val_accuracy: 0.9881\n",
            "Epoch 7/100\n",
            "2/2 [==============================] - 0s 56ms/step - loss: 0.0409 - accuracy: 0.9838 - val_loss: 0.2254 - val_accuracy: 0.9643\n",
            "Epoch 8/100\n",
            "2/2 [==============================] - 0s 64ms/step - loss: 0.0420 - accuracy: 0.9838 - val_loss: 0.2514 - val_accuracy: 0.9643\n",
            "Epoch 9/100\n",
            "2/2 [==============================] - 0s 62ms/step - loss: 0.0443 - accuracy: 0.9838 - val_loss: 0.2166 - val_accuracy: 0.9643\n",
            "Epoch 10/100\n",
            "2/2 [==============================] - 0s 57ms/step - loss: 0.0248 - accuracy: 0.9893 - val_loss: 0.1747 - val_accuracy: 0.9881\n",
            "Epoch 11/100\n",
            "2/2 [==============================] - 0s 57ms/step - loss: 0.0038 - accuracy: 1.0000 - val_loss: 0.1636 - val_accuracy: 0.9881\n",
            "Epoch 12/100\n",
            "2/2 [==============================] - 0s 56ms/step - loss: 0.0046 - accuracy: 1.0000 - val_loss: 0.1662 - val_accuracy: 0.9881\n",
            "Epoch 13/100\n",
            "2/2 [==============================] - 0s 55ms/step - loss: 0.0062 - accuracy: 1.0000 - val_loss: 0.1701 - val_accuracy: 0.9762\n",
            "Epoch 14/100\n",
            "2/2 [==============================] - 0s 59ms/step - loss: 0.0176 - accuracy: 0.9893 - val_loss: 0.1671 - val_accuracy: 0.9881\n",
            "Epoch 15/100\n",
            "2/2 [==============================] - 0s 59ms/step - loss: 0.0024 - accuracy: 1.0000 - val_loss: 0.1651 - val_accuracy: 0.9881\n",
            "Epoch 16/100\n",
            "2/2 [==============================] - 0s 56ms/step - loss: 0.0015 - accuracy: 1.0000 - val_loss: 0.1638 - val_accuracy: 0.9881\n",
            "Epoch 17/100\n",
            "2/2 [==============================] - 0s 63ms/step - loss: 0.0033 - accuracy: 1.0000 - val_loss: 0.1631 - val_accuracy: 0.9881\n",
            "Epoch 18/100\n",
            "2/2 [==============================] - 0s 62ms/step - loss: 5.5638e-04 - accuracy: 1.0000 - val_loss: 0.1629 - val_accuracy: 0.9881\n",
            "Epoch 19/100\n",
            "2/2 [==============================] - 0s 59ms/step - loss: 5.3083e-04 - accuracy: 1.0000 - val_loss: 0.1630 - val_accuracy: 0.9881\n",
            "Epoch 20/100\n",
            "2/2 [==============================] - 0s 56ms/step - loss: 6.6652e-04 - accuracy: 1.0000 - val_loss: 0.1632 - val_accuracy: 0.9881\n",
            "Epoch 21/100\n",
            "2/2 [==============================] - 0s 59ms/step - loss: 3.5467e-04 - accuracy: 1.0000 - val_loss: 0.1634 - val_accuracy: 0.9881\n",
            "Epoch 22/100\n",
            "2/2 [==============================] - 0s 60ms/step - loss: 8.5582e-04 - accuracy: 1.0000 - val_loss: 0.1636 - val_accuracy: 0.9881\n",
            "Epoch 23/100\n",
            "2/2 [==============================] - 0s 58ms/step - loss: 7.8991e-04 - accuracy: 1.0000 - val_loss: 0.1639 - val_accuracy: 0.9881\n",
            "Epoch 24/100\n",
            "2/2 [==============================] - 0s 54ms/step - loss: 4.2367e-04 - accuracy: 1.0000 - val_loss: 0.1641 - val_accuracy: 0.9881\n",
            "Epoch 25/100\n",
            "2/2 [==============================] - 0s 64ms/step - loss: 4.9438e-04 - accuracy: 1.0000 - val_loss: 0.1643 - val_accuracy: 0.9881\n",
            "Epoch 26/100\n",
            "2/2 [==============================] - 0s 63ms/step - loss: 3.3773e-04 - accuracy: 1.0000 - val_loss: 0.1643 - val_accuracy: 0.9881\n",
            "Epoch 27/100\n",
            "2/2 [==============================] - 0s 72ms/step - loss: 4.3788e-04 - accuracy: 1.0000 - val_loss: 0.1644 - val_accuracy: 0.9881\n",
            "Epoch 28/100\n",
            "2/2 [==============================] - 0s 58ms/step - loss: 0.0026 - accuracy: 1.0000 - val_loss: 0.1648 - val_accuracy: 0.9881\n",
            "Epoch 29/100\n",
            "2/2 [==============================] - 0s 65ms/step - loss: 5.8774e-04 - accuracy: 1.0000 - val_loss: 0.1651 - val_accuracy: 0.9881\n",
            "Epoch 30/100\n",
            "2/2 [==============================] - 0s 59ms/step - loss: 1.9939e-04 - accuracy: 1.0000 - val_loss: 0.1654 - val_accuracy: 0.9881\n",
            "Epoch 31/100\n",
            "2/2 [==============================] - 0s 59ms/step - loss: 2.8480e-04 - accuracy: 1.0000 - val_loss: 0.1656 - val_accuracy: 0.9881\n",
            "Epoch 32/100\n",
            "2/2 [==============================] - 0s 60ms/step - loss: 1.3475e-04 - accuracy: 1.0000 - val_loss: 0.1658 - val_accuracy: 0.9881\n",
            "Epoch 33/100\n",
            "2/2 [==============================] - 0s 63ms/step - loss: 2.0615e-04 - accuracy: 1.0000 - val_loss: 0.1660 - val_accuracy: 0.9881\n",
            "Epoch 34/100\n",
            "2/2 [==============================] - 0s 59ms/step - loss: 3.3080e-04 - accuracy: 1.0000 - val_loss: 0.1662 - val_accuracy: 0.9881\n",
            "Epoch 35/100\n",
            "2/2 [==============================] - 0s 62ms/step - loss: 1.6898e-04 - accuracy: 1.0000 - val_loss: 0.1664 - val_accuracy: 0.9881\n",
            "Epoch 36/100\n",
            "2/2 [==============================] - 0s 59ms/step - loss: 1.3077e-04 - accuracy: 1.0000 - val_loss: 0.1665 - val_accuracy: 0.9881\n",
            "Epoch 37/100\n",
            "2/2 [==============================] - 0s 64ms/step - loss: 2.2950e-04 - accuracy: 1.0000 - val_loss: 0.1667 - val_accuracy: 0.9881\n",
            "Epoch 38/100\n",
            "2/2 [==============================] - 0s 58ms/step - loss: 1.2884e-04 - accuracy: 1.0000 - val_loss: 0.1668 - val_accuracy: 0.9881\n",
            "Epoch 39/100\n",
            "2/2 [==============================] - 0s 61ms/step - loss: 1.4956e-04 - accuracy: 1.0000 - val_loss: 0.1669 - val_accuracy: 0.9881\n",
            "Epoch 40/100\n",
            "2/2 [==============================] - 0s 58ms/step - loss: 2.8423e-04 - accuracy: 1.0000 - val_loss: 0.1672 - val_accuracy: 0.9881\n",
            "Epoch 41/100\n",
            "2/2 [==============================] - 0s 58ms/step - loss: 9.9079e-05 - accuracy: 1.0000 - val_loss: 0.1675 - val_accuracy: 0.9881\n",
            "Epoch 42/100\n",
            "2/2 [==============================] - 0s 61ms/step - loss: 1.1504e-04 - accuracy: 1.0000 - val_loss: 0.1677 - val_accuracy: 0.9881\n",
            "Epoch 43/100\n",
            "2/2 [==============================] - 0s 59ms/step - loss: 1.6304e-04 - accuracy: 1.0000 - val_loss: 0.1679 - val_accuracy: 0.9881\n",
            "Epoch 44/100\n",
            "2/2 [==============================] - 0s 56ms/step - loss: 1.2856e-04 - accuracy: 1.0000 - val_loss: 0.1681 - val_accuracy: 0.9881\n",
            "Epoch 45/100\n",
            "2/2 [==============================] - 0s 61ms/step - loss: 9.3079e-05 - accuracy: 1.0000 - val_loss: 0.1683 - val_accuracy: 0.9881\n",
            "Epoch 46/100\n",
            "2/2 [==============================] - 0s 61ms/step - loss: 1.0495e-04 - accuracy: 1.0000 - val_loss: 0.1684 - val_accuracy: 0.9881\n",
            "Epoch 47/100\n",
            "2/2 [==============================] - 0s 64ms/step - loss: 6.9199e-04 - accuracy: 1.0000 - val_loss: 0.1685 - val_accuracy: 0.9881\n",
            "Epoch 48/100\n",
            "2/2 [==============================] - 0s 59ms/step - loss: 8.4210e-05 - accuracy: 1.0000 - val_loss: 0.1686 - val_accuracy: 0.9881\n",
            "Epoch 49/100\n",
            "2/2 [==============================] - 0s 62ms/step - loss: 1.2471e-04 - accuracy: 1.0000 - val_loss: 0.1686 - val_accuracy: 0.9881\n",
            "Epoch 50/100\n",
            "2/2 [==============================] - 0s 58ms/step - loss: 1.3804e-04 - accuracy: 1.0000 - val_loss: 0.1686 - val_accuracy: 0.9881\n",
            "Epoch 51/100\n",
            "2/2 [==============================] - 0s 68ms/step - loss: 1.1711e-04 - accuracy: 1.0000 - val_loss: 0.1686 - val_accuracy: 0.9881\n",
            "Epoch 52/100\n",
            "2/2 [==============================] - 0s 59ms/step - loss: 1.2996e-04 - accuracy: 1.0000 - val_loss: 0.1686 - val_accuracy: 0.9881\n",
            "Epoch 53/100\n",
            "2/2 [==============================] - 0s 56ms/step - loss: 1.5499e-04 - accuracy: 1.0000 - val_loss: 0.1687 - val_accuracy: 0.9881\n",
            "Epoch 54/100\n",
            "2/2 [==============================] - 0s 69ms/step - loss: 8.7454e-05 - accuracy: 1.0000 - val_loss: 0.1687 - val_accuracy: 0.9881\n",
            "Epoch 55/100\n",
            "2/2 [==============================] - 0s 58ms/step - loss: 2.2890e-04 - accuracy: 1.0000 - val_loss: 0.1687 - val_accuracy: 0.9881\n",
            "Epoch 56/100\n",
            "2/2 [==============================] - 0s 60ms/step - loss: 9.7733e-05 - accuracy: 1.0000 - val_loss: 0.1688 - val_accuracy: 0.9881\n",
            "Epoch 57/100\n",
            "2/2 [==============================] - 0s 68ms/step - loss: 1.0131e-04 - accuracy: 1.0000 - val_loss: 0.1688 - val_accuracy: 0.9881\n",
            "Epoch 58/100\n",
            "2/2 [==============================] - 0s 58ms/step - loss: 7.4095e-05 - accuracy: 1.0000 - val_loss: 0.1688 - val_accuracy: 0.9881\n",
            "Epoch 59/100\n",
            "2/2 [==============================] - 0s 60ms/step - loss: 9.5059e-05 - accuracy: 1.0000 - val_loss: 0.1689 - val_accuracy: 0.9881\n",
            "Epoch 60/100\n",
            "2/2 [==============================] - 0s 61ms/step - loss: 1.0378e-04 - accuracy: 1.0000 - val_loss: 0.1690 - val_accuracy: 0.9881\n",
            "Epoch 61/100\n",
            "2/2 [==============================] - 0s 68ms/step - loss: 6.3967e-05 - accuracy: 1.0000 - val_loss: 0.1691 - val_accuracy: 0.9881\n",
            "Epoch 62/100\n",
            "2/2 [==============================] - 0s 62ms/step - loss: 7.4728e-05 - accuracy: 1.0000 - val_loss: 0.1692 - val_accuracy: 0.9881\n",
            "Epoch 63/100\n",
            "2/2 [==============================] - 0s 61ms/step - loss: 7.5582e-05 - accuracy: 1.0000 - val_loss: 0.1692 - val_accuracy: 0.9881\n",
            "Epoch 64/100\n",
            "2/2 [==============================] - 0s 60ms/step - loss: 9.3955e-05 - accuracy: 1.0000 - val_loss: 0.1693 - val_accuracy: 0.9881\n",
            "Epoch 65/100\n",
            "2/2 [==============================] - 0s 56ms/step - loss: 6.2686e-05 - accuracy: 1.0000 - val_loss: 0.1694 - val_accuracy: 0.9881\n",
            "Epoch 66/100\n",
            "2/2 [==============================] - 0s 57ms/step - loss: 9.6537e-05 - accuracy: 1.0000 - val_loss: 0.1695 - val_accuracy: 0.9881\n",
            "Epoch 67/100\n",
            "2/2 [==============================] - 0s 62ms/step - loss: 9.9772e-05 - accuracy: 1.0000 - val_loss: 0.1695 - val_accuracy: 0.9881\n",
            "Epoch 68/100\n",
            "2/2 [==============================] - 0s 57ms/step - loss: 1.1332e-04 - accuracy: 1.0000 - val_loss: 0.1696 - val_accuracy: 0.9881\n",
            "Epoch 69/100\n",
            "2/2 [==============================] - 0s 60ms/step - loss: 1.1758e-04 - accuracy: 1.0000 - val_loss: 0.1696 - val_accuracy: 0.9881\n",
            "Epoch 70/100\n",
            "2/2 [==============================] - 0s 58ms/step - loss: 7.1135e-05 - accuracy: 1.0000 - val_loss: 0.1697 - val_accuracy: 0.9881\n",
            "Epoch 71/100\n",
            "2/2 [==============================] - 0s 61ms/step - loss: 7.3985e-05 - accuracy: 1.0000 - val_loss: 0.1697 - val_accuracy: 0.9881\n",
            "Epoch 72/100\n",
            "2/2 [==============================] - 0s 60ms/step - loss: 9.0956e-05 - accuracy: 1.0000 - val_loss: 0.1698 - val_accuracy: 0.9881\n",
            "Epoch 73/100\n",
            "2/2 [==============================] - 0s 72ms/step - loss: 7.4630e-05 - accuracy: 1.0000 - val_loss: 0.1698 - val_accuracy: 0.9881\n",
            "Epoch 74/100\n",
            "2/2 [==============================] - 0s 60ms/step - loss: 1.1142e-04 - accuracy: 1.0000 - val_loss: 0.1699 - val_accuracy: 0.9881\n",
            "Epoch 75/100\n",
            "2/2 [==============================] - 0s 63ms/step - loss: 5.4954e-05 - accuracy: 1.0000 - val_loss: 0.1700 - val_accuracy: 0.9881\n",
            "Epoch 76/100\n",
            "2/2 [==============================] - 0s 59ms/step - loss: 1.1617e-04 - accuracy: 1.0000 - val_loss: 0.1701 - val_accuracy: 0.9881\n",
            "Epoch 77/100\n",
            "2/2 [==============================] - 0s 57ms/step - loss: 5.5808e-05 - accuracy: 1.0000 - val_loss: 0.1701 - val_accuracy: 0.9881\n",
            "Epoch 78/100\n",
            "2/2 [==============================] - 0s 63ms/step - loss: 8.7054e-05 - accuracy: 1.0000 - val_loss: 0.1703 - val_accuracy: 0.9881\n",
            "Epoch 79/100\n",
            "2/2 [==============================] - 0s 60ms/step - loss: 7.4905e-05 - accuracy: 1.0000 - val_loss: 0.1704 - val_accuracy: 0.9881\n",
            "Epoch 80/100\n",
            "2/2 [==============================] - 0s 63ms/step - loss: 1.2018e-04 - accuracy: 1.0000 - val_loss: 0.1705 - val_accuracy: 0.9881\n",
            "Epoch 81/100\n",
            "2/2 [==============================] - 0s 58ms/step - loss: 1.1561e-04 - accuracy: 1.0000 - val_loss: 0.1706 - val_accuracy: 0.9881\n",
            "Epoch 82/100\n",
            "2/2 [==============================] - 0s 58ms/step - loss: 6.0927e-05 - accuracy: 1.0000 - val_loss: 0.1707 - val_accuracy: 0.9881\n",
            "Epoch 83/100\n",
            "2/2 [==============================] - 0s 60ms/step - loss: 6.2218e-05 - accuracy: 1.0000 - val_loss: 0.1707 - val_accuracy: 0.9881\n",
            "Epoch 84/100\n",
            "2/2 [==============================] - 0s 62ms/step - loss: 1.9014e-04 - accuracy: 1.0000 - val_loss: 0.1708 - val_accuracy: 0.9881\n",
            "Epoch 85/100\n",
            "2/2 [==============================] - 0s 73ms/step - loss: 5.3242e-05 - accuracy: 1.0000 - val_loss: 0.1708 - val_accuracy: 0.9881\n",
            "Epoch 86/100\n",
            "2/2 [==============================] - 0s 59ms/step - loss: 7.8428e-05 - accuracy: 1.0000 - val_loss: 0.1709 - val_accuracy: 0.9881\n",
            "Epoch 87/100\n",
            "2/2 [==============================] - 0s 63ms/step - loss: 7.3268e-05 - accuracy: 1.0000 - val_loss: 0.1709 - val_accuracy: 0.9881\n",
            "Epoch 88/100\n",
            "2/2 [==============================] - 0s 58ms/step - loss: 5.7988e-05 - accuracy: 1.0000 - val_loss: 0.1710 - val_accuracy: 0.9881\n",
            "Epoch 89/100\n",
            "2/2 [==============================] - 0s 63ms/step - loss: 0.0013 - accuracy: 1.0000 - val_loss: 0.1711 - val_accuracy: 0.9881\n",
            "Epoch 90/100\n",
            "2/2 [==============================] - 0s 58ms/step - loss: 6.6564e-05 - accuracy: 1.0000 - val_loss: 0.1713 - val_accuracy: 0.9881\n",
            "Epoch 91/100\n",
            "2/2 [==============================] - 0s 58ms/step - loss: 8.0242e-05 - accuracy: 1.0000 - val_loss: 0.1715 - val_accuracy: 0.9881\n",
            "Epoch 92/100\n",
            "2/2 [==============================] - 0s 58ms/step - loss: 5.9355e-05 - accuracy: 1.0000 - val_loss: 0.1716 - val_accuracy: 0.9881\n",
            "Epoch 93/100\n",
            "2/2 [==============================] - 0s 61ms/step - loss: 3.8197e-04 - accuracy: 1.0000 - val_loss: 0.1717 - val_accuracy: 0.9881\n",
            "Epoch 94/100\n",
            "2/2 [==============================] - 0s 63ms/step - loss: 2.0882e-04 - accuracy: 1.0000 - val_loss: 0.1717 - val_accuracy: 0.9881\n",
            "Epoch 95/100\n",
            "2/2 [==============================] - 0s 61ms/step - loss: 1.5395e-04 - accuracy: 1.0000 - val_loss: 0.1717 - val_accuracy: 0.9881\n",
            "Epoch 96/100\n",
            "2/2 [==============================] - 0s 67ms/step - loss: 0.0017 - accuracy: 1.0000 - val_loss: 0.1714 - val_accuracy: 0.9881\n",
            "Epoch 97/100\n",
            "2/2 [==============================] - 0s 65ms/step - loss: 2.7218e-04 - accuracy: 1.0000 - val_loss: 0.1712 - val_accuracy: 0.9881\n",
            "Epoch 98/100\n",
            "2/2 [==============================] - 0s 61ms/step - loss: 3.4604e-04 - accuracy: 1.0000 - val_loss: 0.1710 - val_accuracy: 0.9881\n",
            "Epoch 99/100\n",
            "2/2 [==============================] - 0s 60ms/step - loss: 9.0929e-05 - accuracy: 1.0000 - val_loss: 0.1708 - val_accuracy: 0.9881\n",
            "Epoch 100/100\n",
            "2/2 [==============================] - 0s 61ms/step - loss: 5.7667e-05 - accuracy: 1.0000 - val_loss: 0.1707 - val_accuracy: 0.9881\n",
            "none\n",
            "Epoch 1/100\n",
            "2/2 [==============================] - 3s 690ms/step - loss: 1.7466 - accuracy: 0.3258 - val_loss: 0.5198 - val_accuracy: 0.8452\n",
            "Epoch 2/100\n",
            "2/2 [==============================] - 0s 62ms/step - loss: 0.4540 - accuracy: 0.8598 - val_loss: 0.7432 - val_accuracy: 0.7738\n",
            "Epoch 3/100\n",
            "2/2 [==============================] - 0s 57ms/step - loss: 0.4200 - accuracy: 0.8598 - val_loss: 0.3602 - val_accuracy: 0.9167\n",
            "Epoch 4/100\n",
            "2/2 [==============================] - 0s 58ms/step - loss: 0.1503 - accuracy: 0.9244 - val_loss: 0.2742 - val_accuracy: 0.9643\n",
            "Epoch 5/100\n",
            "2/2 [==============================] - 0s 66ms/step - loss: 0.1551 - accuracy: 0.9403 - val_loss: 0.3106 - val_accuracy: 0.9405\n",
            "Epoch 6/100\n",
            "2/2 [==============================] - 0s 58ms/step - loss: 0.0700 - accuracy: 0.9893 - val_loss: 0.2897 - val_accuracy: 0.9286\n",
            "Epoch 7/100\n",
            "2/2 [==============================] - 0s 57ms/step - loss: 0.0812 - accuracy: 0.9783 - val_loss: 0.2452 - val_accuracy: 0.9762\n",
            "Epoch 8/100\n",
            "2/2 [==============================] - 0s 54ms/step - loss: 0.0730 - accuracy: 0.9783 - val_loss: 0.2225 - val_accuracy: 0.9881\n",
            "Epoch 9/100\n",
            "2/2 [==============================] - 0s 59ms/step - loss: 0.0516 - accuracy: 0.9786 - val_loss: 0.2194 - val_accuracy: 0.9881\n",
            "Epoch 10/100\n",
            "2/2 [==============================] - 0s 62ms/step - loss: 0.0652 - accuracy: 0.9728 - val_loss: 0.2262 - val_accuracy: 0.9762\n",
            "Epoch 11/100\n",
            "2/2 [==============================] - 0s 57ms/step - loss: 0.0531 - accuracy: 0.9838 - val_loss: 0.2258 - val_accuracy: 0.9881\n",
            "Epoch 12/100\n",
            "2/2 [==============================] - 0s 57ms/step - loss: 0.0041 - accuracy: 1.0000 - val_loss: 0.2276 - val_accuracy: 0.9881\n",
            "Epoch 13/100\n",
            "2/2 [==============================] - 0s 59ms/step - loss: 0.0107 - accuracy: 1.0000 - val_loss: 0.2291 - val_accuracy: 0.9881\n",
            "Epoch 14/100\n",
            "2/2 [==============================] - 0s 57ms/step - loss: 0.0235 - accuracy: 0.9893 - val_loss: 0.2307 - val_accuracy: 0.9881\n",
            "Epoch 15/100\n",
            "2/2 [==============================] - 0s 58ms/step - loss: 0.0023 - accuracy: 1.0000 - val_loss: 0.2325 - val_accuracy: 0.9881\n",
            "Epoch 16/100\n",
            "2/2 [==============================] - 0s 61ms/step - loss: 0.0105 - accuracy: 1.0000 - val_loss: 0.2345 - val_accuracy: 0.9881\n",
            "Epoch 17/100\n",
            "2/2 [==============================] - 0s 60ms/step - loss: 0.0047 - accuracy: 1.0000 - val_loss: 0.2369 - val_accuracy: 0.9762\n",
            "Epoch 18/100\n",
            "2/2 [==============================] - 0s 61ms/step - loss: 0.0580 - accuracy: 0.9890 - val_loss: 0.2320 - val_accuracy: 0.9881\n",
            "Epoch 19/100\n",
            "2/2 [==============================] - 0s 57ms/step - loss: 0.0090 - accuracy: 1.0000 - val_loss: 0.2258 - val_accuracy: 0.9881\n",
            "Epoch 20/100\n",
            "2/2 [==============================] - 0s 56ms/step - loss: 0.0027 - accuracy: 1.0000 - val_loss: 0.2237 - val_accuracy: 0.9881\n",
            "Epoch 21/100\n",
            "2/2 [==============================] - 0s 56ms/step - loss: 0.0011 - accuracy: 1.0000 - val_loss: 0.2225 - val_accuracy: 0.9881\n",
            "Epoch 22/100\n",
            "2/2 [==============================] - 0s 54ms/step - loss: 0.0585 - accuracy: 0.9731 - val_loss: 0.2216 - val_accuracy: 0.9881\n",
            "Epoch 23/100\n",
            "2/2 [==============================] - 0s 56ms/step - loss: 0.0044 - accuracy: 1.0000 - val_loss: 0.2205 - val_accuracy: 0.9881\n",
            "Epoch 24/100\n",
            "2/2 [==============================] - 0s 59ms/step - loss: 0.0020 - accuracy: 1.0000 - val_loss: 0.2198 - val_accuracy: 0.9881\n",
            "Epoch 25/100\n",
            "2/2 [==============================] - 0s 62ms/step - loss: 0.0933 - accuracy: 0.9786 - val_loss: 0.2194 - val_accuracy: 0.9881\n",
            "Epoch 26/100\n",
            "2/2 [==============================] - 0s 61ms/step - loss: 0.0047 - accuracy: 1.0000 - val_loss: 0.2190 - val_accuracy: 0.9881\n",
            "Epoch 27/100\n",
            "2/2 [==============================] - 0s 56ms/step - loss: 0.0182 - accuracy: 0.9945 - val_loss: 0.2192 - val_accuracy: 0.9881\n",
            "Epoch 28/100\n",
            "2/2 [==============================] - 0s 56ms/step - loss: 3.3970e-04 - accuracy: 1.0000 - val_loss: 0.2208 - val_accuracy: 0.9881\n",
            "Epoch 29/100\n",
            "2/2 [==============================] - 0s 70ms/step - loss: 0.0039 - accuracy: 1.0000 - val_loss: 0.2219 - val_accuracy: 0.9881\n",
            "Epoch 30/100\n",
            "2/2 [==============================] - 0s 68ms/step - loss: 0.0237 - accuracy: 0.9945 - val_loss: 0.2221 - val_accuracy: 0.9881\n",
            "Epoch 31/100\n",
            "2/2 [==============================] - 0s 59ms/step - loss: 0.0012 - accuracy: 1.0000 - val_loss: 0.2216 - val_accuracy: 0.9881\n",
            "Epoch 32/100\n",
            "2/2 [==============================] - 0s 69ms/step - loss: 0.0030 - accuracy: 1.0000 - val_loss: 0.2209 - val_accuracy: 0.9881\n",
            "Epoch 33/100\n",
            "2/2 [==============================] - 0s 71ms/step - loss: 0.0020 - accuracy: 1.0000 - val_loss: 0.2199 - val_accuracy: 0.9881\n",
            "Epoch 34/100\n",
            "2/2 [==============================] - 0s 58ms/step - loss: 0.0018 - accuracy: 1.0000 - val_loss: 0.2190 - val_accuracy: 0.9881\n",
            "Epoch 35/100\n",
            "2/2 [==============================] - 0s 59ms/step - loss: 6.5669e-04 - accuracy: 1.0000 - val_loss: 0.2181 - val_accuracy: 0.9881\n",
            "Epoch 36/100\n",
            "2/2 [==============================] - 0s 62ms/step - loss: 3.0827e-04 - accuracy: 1.0000 - val_loss: 0.2173 - val_accuracy: 0.9881\n",
            "Epoch 37/100\n",
            "2/2 [==============================] - 0s 63ms/step - loss: 0.0174 - accuracy: 0.9945 - val_loss: 0.2177 - val_accuracy: 0.9881\n",
            "Epoch 38/100\n",
            "2/2 [==============================] - 0s 57ms/step - loss: 0.0153 - accuracy: 0.9838 - val_loss: 0.2187 - val_accuracy: 0.9881\n",
            "Epoch 39/100\n",
            "2/2 [==============================] - 0s 58ms/step - loss: 8.1876e-04 - accuracy: 1.0000 - val_loss: 0.2194 - val_accuracy: 0.9881\n",
            "Epoch 40/100\n",
            "2/2 [==============================] - 0s 57ms/step - loss: 0.0036 - accuracy: 1.0000 - val_loss: 0.2191 - val_accuracy: 0.9881\n",
            "Epoch 41/100\n",
            "2/2 [==============================] - 0s 57ms/step - loss: 0.0257 - accuracy: 0.9893 - val_loss: 0.2179 - val_accuracy: 0.9881\n",
            "Epoch 42/100\n",
            "2/2 [==============================] - 0s 71ms/step - loss: 0.0083 - accuracy: 0.9945 - val_loss: 0.2158 - val_accuracy: 0.9881\n",
            "Epoch 43/100\n",
            "2/2 [==============================] - 0s 58ms/step - loss: 0.0044 - accuracy: 0.9945 - val_loss: 0.2142 - val_accuracy: 0.9881\n",
            "Epoch 44/100\n",
            "2/2 [==============================] - 0s 56ms/step - loss: 0.0103 - accuracy: 1.0000 - val_loss: 0.2143 - val_accuracy: 0.9881\n",
            "Epoch 45/100\n",
            "2/2 [==============================] - 0s 57ms/step - loss: 0.0016 - accuracy: 1.0000 - val_loss: 0.2134 - val_accuracy: 0.9881\n",
            "Epoch 46/100\n",
            "2/2 [==============================] - 0s 62ms/step - loss: 6.5676e-04 - accuracy: 1.0000 - val_loss: 0.2129 - val_accuracy: 0.9881\n",
            "Epoch 47/100\n",
            "2/2 [==============================] - 0s 58ms/step - loss: 0.0418 - accuracy: 0.9678 - val_loss: 0.2147 - val_accuracy: 0.9881\n",
            "Epoch 48/100\n",
            "2/2 [==============================] - 0s 64ms/step - loss: 8.2031e-04 - accuracy: 1.0000 - val_loss: 0.2167 - val_accuracy: 0.9881\n",
            "Epoch 49/100\n",
            "2/2 [==============================] - 0s 60ms/step - loss: 0.0261 - accuracy: 0.9945 - val_loss: 0.2166 - val_accuracy: 0.9881\n",
            "Epoch 50/100\n",
            "2/2 [==============================] - 0s 72ms/step - loss: 0.0036 - accuracy: 1.0000 - val_loss: 0.2148 - val_accuracy: 0.9881\n",
            "Epoch 51/100\n",
            "2/2 [==============================] - 0s 60ms/step - loss: 0.0067 - accuracy: 1.0000 - val_loss: 0.2116 - val_accuracy: 0.9881\n",
            "Epoch 52/100\n",
            "2/2 [==============================] - 0s 58ms/step - loss: 0.0071 - accuracy: 1.0000 - val_loss: 0.2074 - val_accuracy: 0.9881\n",
            "Epoch 53/100\n",
            "2/2 [==============================] - 0s 66ms/step - loss: 0.0011 - accuracy: 1.0000 - val_loss: 0.2033 - val_accuracy: 0.9881\n",
            "Epoch 54/100\n",
            "2/2 [==============================] - 0s 67ms/step - loss: 8.3672e-04 - accuracy: 1.0000 - val_loss: 0.1997 - val_accuracy: 0.9881\n",
            "Epoch 55/100\n",
            "2/2 [==============================] - 0s 73ms/step - loss: 9.4998e-04 - accuracy: 1.0000 - val_loss: 0.1970 - val_accuracy: 0.9881\n",
            "Epoch 56/100\n",
            "2/2 [==============================] - 0s 60ms/step - loss: 0.0178 - accuracy: 0.9893 - val_loss: 0.1948 - val_accuracy: 0.9881\n",
            "Epoch 57/100\n",
            "2/2 [==============================] - 0s 59ms/step - loss: 0.0131 - accuracy: 0.9893 - val_loss: 0.1923 - val_accuracy: 0.9881\n",
            "Epoch 58/100\n",
            "2/2 [==============================] - 0s 63ms/step - loss: 0.0018 - accuracy: 1.0000 - val_loss: 0.1913 - val_accuracy: 0.9881\n",
            "Epoch 59/100\n",
            "2/2 [==============================] - 0s 65ms/step - loss: 0.0277 - accuracy: 0.9945 - val_loss: 0.1937 - val_accuracy: 0.9881\n",
            "Epoch 60/100\n",
            "2/2 [==============================] - 0s 65ms/step - loss: 0.0072 - accuracy: 0.9945 - val_loss: 0.1955 - val_accuracy: 0.9881\n",
            "Epoch 61/100\n",
            "2/2 [==============================] - 0s 64ms/step - loss: 0.0026 - accuracy: 1.0000 - val_loss: 0.1959 - val_accuracy: 0.9881\n",
            "Epoch 62/100\n",
            "2/2 [==============================] - 0s 60ms/step - loss: 7.3231e-04 - accuracy: 1.0000 - val_loss: 0.1962 - val_accuracy: 0.9881\n",
            "Epoch 63/100\n",
            "2/2 [==============================] - 0s 65ms/step - loss: 0.0445 - accuracy: 0.9893 - val_loss: 0.1937 - val_accuracy: 0.9881\n",
            "Epoch 64/100\n",
            "2/2 [==============================] - 0s 63ms/step - loss: 6.5914e-04 - accuracy: 1.0000 - val_loss: 0.1913 - val_accuracy: 0.9881\n",
            "Epoch 65/100\n",
            "2/2 [==============================] - 0s 67ms/step - loss: 0.0021 - accuracy: 1.0000 - val_loss: 0.1899 - val_accuracy: 0.9881\n",
            "Epoch 66/100\n",
            "2/2 [==============================] - 0s 66ms/step - loss: 0.0154 - accuracy: 0.9945 - val_loss: 0.1884 - val_accuracy: 0.9881\n",
            "Epoch 67/100\n",
            "2/2 [==============================] - 0s 61ms/step - loss: 0.0168 - accuracy: 0.9945 - val_loss: 0.1876 - val_accuracy: 0.9881\n",
            "Epoch 68/100\n",
            "2/2 [==============================] - 0s 60ms/step - loss: 8.0718e-04 - accuracy: 1.0000 - val_loss: 0.1880 - val_accuracy: 0.9881\n",
            "Epoch 69/100\n",
            "2/2 [==============================] - 0s 60ms/step - loss: 0.0207 - accuracy: 0.9893 - val_loss: 0.1912 - val_accuracy: 0.9881\n",
            "Epoch 70/100\n",
            "2/2 [==============================] - 0s 61ms/step - loss: 0.0077 - accuracy: 1.0000 - val_loss: 0.1967 - val_accuracy: 0.9881\n",
            "Epoch 71/100\n",
            "2/2 [==============================] - 0s 61ms/step - loss: 0.0012 - accuracy: 1.0000 - val_loss: 0.2008 - val_accuracy: 0.9881\n",
            "Epoch 72/100\n",
            "2/2 [==============================] - 0s 66ms/step - loss: 0.0013 - accuracy: 1.0000 - val_loss: 0.2044 - val_accuracy: 0.9881\n",
            "Epoch 73/100\n",
            "2/2 [==============================] - 0s 64ms/step - loss: 0.0016 - accuracy: 1.0000 - val_loss: 0.2064 - val_accuracy: 0.9881\n",
            "Epoch 74/100\n",
            "2/2 [==============================] - 0s 66ms/step - loss: 0.0090 - accuracy: 1.0000 - val_loss: 0.2033 - val_accuracy: 0.9881\n",
            "Epoch 75/100\n",
            "2/2 [==============================] - 0s 59ms/step - loss: 4.5717e-04 - accuracy: 1.0000 - val_loss: 0.2024 - val_accuracy: 0.9881\n",
            "Epoch 76/100\n",
            "2/2 [==============================] - 0s 64ms/step - loss: 0.0095 - accuracy: 1.0000 - val_loss: 0.2023 - val_accuracy: 0.9881\n",
            "Epoch 77/100\n",
            "2/2 [==============================] - 0s 71ms/step - loss: 3.3987e-04 - accuracy: 1.0000 - val_loss: 0.2026 - val_accuracy: 0.9881\n",
            "Epoch 78/100\n",
            "2/2 [==============================] - 0s 62ms/step - loss: 3.1635e-04 - accuracy: 1.0000 - val_loss: 0.2029 - val_accuracy: 0.9881\n",
            "Epoch 79/100\n",
            "2/2 [==============================] - 0s 60ms/step - loss: 2.6583e-04 - accuracy: 1.0000 - val_loss: 0.2031 - val_accuracy: 0.9881\n",
            "Epoch 80/100\n",
            "2/2 [==============================] - 0s 60ms/step - loss: 0.0011 - accuracy: 1.0000 - val_loss: 0.2033 - val_accuracy: 0.9881\n",
            "Epoch 81/100\n",
            "2/2 [==============================] - 0s 60ms/step - loss: 9.1166e-04 - accuracy: 1.0000 - val_loss: 0.2035 - val_accuracy: 0.9881\n",
            "Epoch 82/100\n",
            "2/2 [==============================] - 0s 63ms/step - loss: 7.3525e-04 - accuracy: 1.0000 - val_loss: 0.2037 - val_accuracy: 0.9881\n",
            "Epoch 83/100\n",
            "2/2 [==============================] - 0s 60ms/step - loss: 0.0018 - accuracy: 1.0000 - val_loss: 0.2035 - val_accuracy: 0.9881\n",
            "Epoch 84/100\n",
            "2/2 [==============================] - 0s 65ms/step - loss: 5.6109e-04 - accuracy: 1.0000 - val_loss: 0.2034 - val_accuracy: 0.9881\n",
            "Epoch 85/100\n",
            "2/2 [==============================] - 0s 63ms/step - loss: 5.6318e-04 - accuracy: 1.0000 - val_loss: 0.2033 - val_accuracy: 0.9881\n",
            "Epoch 86/100\n",
            "2/2 [==============================] - 0s 62ms/step - loss: 0.0062 - accuracy: 1.0000 - val_loss: 0.2045 - val_accuracy: 0.9881\n",
            "Epoch 87/100\n",
            "2/2 [==============================] - 0s 59ms/step - loss: 1.2223e-04 - accuracy: 1.0000 - val_loss: 0.2055 - val_accuracy: 0.9881\n",
            "Epoch 88/100\n",
            "2/2 [==============================] - 0s 64ms/step - loss: 2.2827e-04 - accuracy: 1.0000 - val_loss: 0.2062 - val_accuracy: 0.9881\n",
            "Epoch 89/100\n",
            "2/2 [==============================] - 0s 66ms/step - loss: 5.9235e-04 - accuracy: 1.0000 - val_loss: 0.2068 - val_accuracy: 0.9881\n",
            "Epoch 90/100\n",
            "2/2 [==============================] - 0s 61ms/step - loss: 1.1757e-04 - accuracy: 1.0000 - val_loss: 0.2072 - val_accuracy: 0.9881\n",
            "Epoch 91/100\n",
            "2/2 [==============================] - 0s 60ms/step - loss: 1.7024e-04 - accuracy: 1.0000 - val_loss: 0.2076 - val_accuracy: 0.9881\n",
            "Epoch 92/100\n",
            "2/2 [==============================] - 0s 62ms/step - loss: 5.6137e-04 - accuracy: 1.0000 - val_loss: 0.2078 - val_accuracy: 0.9881\n",
            "Epoch 93/100\n",
            "2/2 [==============================] - 0s 72ms/step - loss: 3.7247e-04 - accuracy: 1.0000 - val_loss: 0.2080 - val_accuracy: 0.9881\n",
            "Epoch 94/100\n",
            "2/2 [==============================] - 0s 64ms/step - loss: 1.3823e-04 - accuracy: 1.0000 - val_loss: 0.2081 - val_accuracy: 0.9881\n",
            "Epoch 95/100\n",
            "2/2 [==============================] - 0s 61ms/step - loss: 0.0400 - accuracy: 0.9945 - val_loss: 0.2047 - val_accuracy: 0.9881\n",
            "Epoch 96/100\n",
            "2/2 [==============================] - 0s 61ms/step - loss: 4.3960e-04 - accuracy: 1.0000 - val_loss: 0.1985 - val_accuracy: 0.9881\n",
            "Epoch 97/100\n",
            "2/2 [==============================] - 0s 63ms/step - loss: 0.0078 - accuracy: 0.9893 - val_loss: 0.1923 - val_accuracy: 0.9881\n",
            "Epoch 98/100\n",
            "2/2 [==============================] - 0s 60ms/step - loss: 0.0018 - accuracy: 1.0000 - val_loss: 0.1874 - val_accuracy: 0.9881\n",
            "Epoch 99/100\n",
            "2/2 [==============================] - 0s 67ms/step - loss: 1.9361e-04 - accuracy: 1.0000 - val_loss: 0.1830 - val_accuracy: 0.9881\n",
            "Epoch 100/100\n",
            "2/2 [==============================] - 0s 60ms/step - loss: 2.4182e-04 - accuracy: 1.0000 - val_loss: 0.1794 - val_accuracy: 0.9881\n"
          ],
          "name": "stdout"
        }
      ]
    },
    {
      "cell_type": "code",
      "metadata": {
        "colab": {
          "base_uri": "https://localhost:8080/",
          "height": 530
        },
        "id": "4A1ouHsfzFZz",
        "outputId": "a5aa6f9f-fcbe-4ad4-eda3-65a598e266d7"
      },
      "source": [
        "# Check out our train accuracy and validation accuracy over epochs.\n",
        "train_accuracy = history.history['accuracy']\n",
        "val_accuracy = history.history['val_accuracy']\n",
        "import matplotlib.pyplot as plt\n",
        "# Set figure size.\n",
        "plt.figure(figsize=(12, 8))\n",
        "\n",
        "# Generate line plot of training, testing loss over epochs.\n",
        "plt.plot(train_accuracy, label='Training Accuracy', color='#185fad')\n",
        "plt.plot(val_accuracy, label='Validation Accuracy', color='orange')\n",
        "\n",
        "# Set title\n",
        "plt.title('Training and Validation Accuracy by Epoch', fontsize = 25)\n",
        "plt.xlabel('Epoch', fontsize = 18)\n",
        "plt.ylabel('Categorical Crossentropy', fontsize = 18)\n",
        "plt.xticks(range(0,100,5), range(0,100,5))\n",
        "\n",
        "plt.legend(fontsize = 18);"
      ],
      "execution_count": null,
      "outputs": [
        {
          "output_type": "display_data",
          "data": {
            "image/png": "[encoded data removed]",
            "text/plain": [
              "<Figure size 864x576 with 1 Axes>"
            ]
          },
          "metadata": {
            "tags": [],
            "needs_background": "light"
          }
        }
      ]
    },
    {
      "cell_type": "code",
      "metadata": {
        "id": "4uy15XOm2TnA"
      },
      "source": [
        "accuracy=pd.DataFrame(accuracy, columns=['accuracy'])\n",
        "proj_implemented=pd.DataFrame(proj_implemented, columns=['projection'])\n",
        "results=pd.concat([accuracy,proj_implemented],axis=1)"
      ],
      "execution_count": null,
      "outputs": []
    },
    {
      "cell_type": "code",
      "metadata": {
        "colab": {
          "base_uri": "https://localhost:8080/",
          "height": 142
        },
        "id": "kGgwlc6o2T8b",
        "outputId": "3c34ca1a-6699-4a54-f88b-9b61a52c0aaf"
      },
      "source": [
        "results.groupby('projection').mean()"
      ],
      "execution_count": null,
      "outputs": [
        {
          "output_type": "execute_result",
          "data": {
            "text/html": [
              "<div>\n",
              "<style scoped>\n",
              "    .dataframe tbody tr th:only-of-type {\n",
              "        vertical-align: middle;\n",
              "    }\n",
              "\n",
              "    .dataframe tbody tr th {\n",
              "        vertical-align: top;\n",
              "    }\n",
              "\n",
              "    .dataframe thead th {\n",
              "        text-align: right;\n",
              "    }\n",
              "</style>\n",
              "<table border=\"1\" class=\"dataframe\">\n",
              "  <thead>\n",
              "    <tr style=\"text-align: right;\">\n",
              "      <th></th>\n",
              "      <th>accuracy</th>\n",
              "    </tr>\n",
              "    <tr>\n",
              "      <th>projection</th>\n",
              "      <th></th>\n",
              "    </tr>\n",
              "  </thead>\n",
              "  <tbody>\n",
              "    <tr>\n",
              "      <th>linear</th>\n",
              "      <td>0.981071</td>\n",
              "    </tr>\n",
              "    <tr>\n",
              "      <th>none</th>\n",
              "      <td>0.982143</td>\n",
              "    </tr>\n",
              "  </tbody>\n",
              "</table>\n",
              "</div>"
            ],
            "text/plain": [
              "            accuracy\n",
              "projection          \n",
              "linear      0.981071\n",
              "none        0.982143"
            ]
          },
          "metadata": {
            "tags": []
          },
          "execution_count": 27
        }
      ]
    },
    {
      "cell_type": "code",
      "metadata": {
        "colab": {
          "base_uri": "https://localhost:8080/"
        },
        "id": "KnQkWOYxFIc8",
        "outputId": "27573c4b-f99c-4a59-b5d3-9be348a7924a"
      },
      "source": [
        "import keras\n",
        "\n",
        "y_prob = model.predict(X_test)\n",
        "y_classes = y_prob.argmax(axis=-1)\n",
        "\n",
        "res_list = y_classes.tolist()\n",
        "label_mapping = {0:'Aayush',1:'Kanishk',2:'Kayan',3:'Rohit'}#clarify\n",
        "\n",
        "\n",
        "for i in range(len(res_list)):\n",
        "  print(\"prediction \",i,\" \",label_mapping[res_list[i]])\n",
        "\n"
      ],
      "execution_count": null,
      "outputs": [
        {
          "output_type": "stream",
          "text": [
            "prediction  0   Kanishk\n",
            "prediction  1   Kanishk\n",
            "prediction  2   Aayush\n",
            "prediction  3   Kanishk\n",
            "prediction  4   Kanishk\n",
            "prediction  5   Rohit\n",
            "prediction  6   Kayan\n",
            "prediction  7   Rohit\n",
            "prediction  8   Kayan\n",
            "prediction  9   Kayan\n",
            "prediction  10   Aayush\n",
            "prediction  11   Kanishk\n",
            "prediction  12   Kayan\n",
            "prediction  13   Rohit\n",
            "prediction  14   Kanishk\n",
            "prediction  15   Kanishk\n",
            "prediction  16   Kayan\n",
            "prediction  17   Aayush\n",
            "prediction  18   Kayan\n",
            "prediction  19   Aayush\n",
            "prediction  20   Aayush\n",
            "prediction  21   Aayush\n",
            "prediction  22   Kayan\n",
            "prediction  23   Rohit\n",
            "prediction  24   Kanishk\n",
            "prediction  25   Rohit\n",
            "prediction  26   Rohit\n",
            "prediction  27   Aayush\n",
            "prediction  28   Rohit\n",
            "prediction  29   Kanishk\n",
            "prediction  30   Kayan\n",
            "prediction  31   Kanishk\n",
            "prediction  32   Aayush\n",
            "prediction  33   Kanishk\n",
            "prediction  34   Kanishk\n",
            "prediction  35   Kayan\n",
            "prediction  36   Aayush\n"
          ],
          "name": "stdout"
        }
      ]
    },
    {
      "cell_type": "code",
      "metadata": {
        "colab": {
          "base_uri": "https://localhost:8080/"
        },
        "id": "Ep-JoBYAXfI0",
        "outputId": "fa0e9317-f6e7-4a33-b4f2-05e65bfe533a"
      },
      "source": [
        "model.evaluate(X_test,Y_test)"
      ],
      "execution_count": null,
      "outputs": [
        {
          "output_type": "stream",
          "text": [
            "2/2 [==============================] - 0s 7ms/step - loss: 0.3979 - accuracy: 0.9459\n"
          ],
          "name": "stdout"
        },
        {
          "output_type": "execute_result",
          "data": {
            "text/plain": [
              "[0.3979407548904419, 0.9459459185600281]"
            ]
          },
          "metadata": {
            "tags": []
          },
          "execution_count": 30
        }
      ]
    }
  ]
}